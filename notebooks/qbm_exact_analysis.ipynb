{
 "cells": [
  {
   "cell_type": "code",
   "execution_count": 1,
   "id": "1d58bc28-cd16-41af-bdce-fad5f5e951c1",
   "metadata": {},
   "outputs": [
    {
     "name": "stdout",
     "output_type": "stream",
     "text": [
      "time: 1.45 s (started: 2021-12-29 12:38:03 +01:00)\n"
     ]
    }
   ],
   "source": [
    "%load_ext autoreload\n",
    "%autoreload 2\n",
    "%load_ext autotime\n",
    "%load_ext line_profiler\n",
    "\n",
    "from joblib import Parallel, delayed\n",
    "\n",
    "import matplotlib.pyplot as plt\n",
    "import numpy as np\n",
    "import pandas as pd\n",
    "import seaborn as sns\n",
    "from dwave.system import DWaveSampler, FixedEmbeddingComposite\n",
    "\n",
    "from qbm.utils import (\n",
    "    compute_stats_over_dfs,\n",
    "    convert_bin_list_to_str,\n",
    "    get_project_dir,\n",
    "    get_rng,\n",
    "    load_artifact,\n",
    "    save_artifact,\n",
    ")"
   ]
  },
  {
   "cell_type": "code",
   "execution_count": 2,
   "id": "28f1940b-200b-428b-b893-fb2cac0c3c10",
   "metadata": {},
   "outputs": [
    {
     "name": "stdout",
     "output_type": "stream",
     "text": [
      "time: 862 µs (started: 2021-12-29 12:38:04 +01:00)\n"
     ]
    }
   ],
   "source": [
    "project_dir = get_project_dir()"
   ]
  },
  {
   "cell_type": "markdown",
   "id": "2c38dd55-f451-4a10-883d-ff36921aea9b",
   "metadata": {},
   "source": [
    "## Sample Analysis"
   ]
  },
  {
   "cell_type": "code",
   "execution_count": 3,
   "id": "016dfb81-ea40-4a8d-972b-21997e1c825c",
   "metadata": {},
   "outputs": [
    {
     "name": "stdout",
     "output_type": "stream",
     "text": [
      "time: 155 ms (started: 2021-12-29 12:38:04 +01:00)\n"
     ]
    }
   ],
   "source": [
    "from numba import njit\n",
    "\n",
    "\n",
    "@njit(boundscheck=True)\n",
    "def compute_KL_divergence(\n",
    "    p_exact,\n",
    "    E_exact,\n",
    "    E_samples,\n",
    "    counts_samples,\n",
    "    n_bins=32,\n",
    "    normalize=False,\n",
    "    invert=False,\n",
    "    prob_sum_tol=1e-2\n",
    "):\n",
    "    \"\"\"\n",
    "    Computes the KL divergence of the theory w.r.t. the samples, i.e., \n",
    "    D_KL(p_exact || p_samples).\n",
    "    \n",
    "    :param p_exact: Exact computed probability vector, i.e., the diagonal of ρ.\n",
    "    :param E_exact: Exact computed energy vector, i.e., the diagonal of H.\n",
    "    :param E_samples: Energies of the samples.\n",
    "    :param n_bins: Number of bins to compute over.\n",
    "    :param normalize: If True will normalize the bin probabilities.\n",
    "    :param invert: If true will compute D_KL(p_samples || p_exact).\n",
    "    :param prob_sum_tol: The tolerance for the probabilities to sum up to approx 1.\n",
    "    \n",
    "    :returns: D_KL(p_exact || p_samples).\n",
    "    \"\"\"\n",
    "    p = np.zeros(n_bins)\n",
    "    q = np.zeros(n_bins)\n",
    "\n",
    "    if np.isnan(p_exact).any() or np.abs(p_exact.sum() - 1) > prob_sum_tol:\n",
    "        return np.nan\n",
    "\n",
    "    bin_edges = np.linspace(E_exact.min(), E_exact.max(), n_bins + 1)\n",
    "    sum_counts = counts_samples.sum()\n",
    "    for i, (a, b) in enumerate(zip(bin_edges[:-1], bin_edges[1:])):\n",
    "        if i < n_bins - 1:\n",
    "            p[i] = p_exact[np.logical_and(E_exact >= a, E_exact < b)].sum()\n",
    "            q[i] = (\n",
    "                counts_samples[np.logical_and(E_samples >= a, E_samples < b)].sum()\n",
    "                / sum_counts\n",
    "            )\n",
    "        else:\n",
    "            p[i] = p_exact[E_exact >= a].sum()\n",
    "            q[i] = counts_samples[E_samples >= a].sum() / sum_counts\n",
    "\n",
    "    assert np.abs(p.sum() - 1) < prob_sum_tol\n",
    "    assert np.abs(q.sum() - 1) < prob_sum_tol\n",
    "\n",
    "    support_intersection = np.logical_and(p > 0, q > 0)\n",
    "    p = p[support_intersection]\n",
    "    q = q[support_intersection]\n",
    "\n",
    "    if normalize:\n",
    "        p /= p.sum()\n",
    "        q /= q.sum()\n",
    "\n",
    "    if invert:\n",
    "        p, q = q, p\n",
    "\n",
    "    return np.sum(p * np.log(p / q))\n",
    "\n",
    "\n",
    "@njit(boundscheck=True)\n",
    "def get_state_energies(states, E_exact):\n",
    "    \"\"\"\n",
    "    Returns the (quantum + classical) energies of the provided states corresponding\n",
    "    to the provided exact calculated energies.\n",
    "    \n",
    "    :param states: Array of states. Must be a value in 0, 1, ..., 2 ** n_qubits - 1.\n",
    "    :param E_exact: Array of exact computed energies, corresponds to the diagonal of H.\n",
    "    \n",
    "    :returns: Array where entry i is the energy of states[i].\n",
    "    \"\"\"\n",
    "    E_samples = np.zeros(len(states))\n",
    "    for i, state in enumerate(states):\n",
    "        E_samples[i] = E_exact[state]\n",
    "\n",
    "    return E_samples\n",
    "\n",
    "\n",
    "def convert_spin_vector_to_state_number(spins):\n",
    "    \"\"\"\n",
    "    Converts the spins vector (e.g. all values ±1) to an integer corresponding to the state.\n",
    "    For example, the spin vector [1, 1, 1, 1] corresponds to the state |0000⟩ which is the\n",
    "    0th state. The spin vector [-1, -1, -1, -1] corresponds to the state |1111⟩ which is the\n",
    "    15th state.\n",
    "    \n",
    "    :param spins: Vector of spin values (±1).\n",
    "    \n",
    "    :returns: Integer corresponding to the state. \n",
    "    \"\"\"\n",
    "    bit_vector = ((1 - spins) / 2).astype(np.int64)\n",
    "    return (bit_vector * 2 ** np.arange(len(spins) - 1, -1, -1)).sum()\n",
    "\n",
    "\n",
    "def compare_exact_to_samples(exact_data, samples):\n",
    "    \"\"\"\n",
    "    Compares each exact computed data distribution against the provided samples instance.\n",
    "    \n",
    "    :param exact_data: Dictionary with keys of the form (s, T) with s being the relative\n",
    "        anneal time at which H and ρ were computed, and T being the effective temperature.\n",
    "        Values are of the form {\"E\": [...], \"p\": [...]}\n",
    "    :param samples: Instance of Ocean SDK SampleSet.\n",
    "    \n",
    "    :returns: Dataframe of KL divergences, energies of the samples.\n",
    "    \"\"\"\n",
    "    states = np.array(\n",
    "        [convert_spin_vector_to_state_number(x) for x in samples.record.sample]\n",
    "    )\n",
    "    counts = samples.record.num_occurrences\n",
    "\n",
    "    s_values = []\n",
    "    T_values = []\n",
    "    for s, T in exact_data.keys():\n",
    "        s_values.append(s)\n",
    "        T_values.append(T)\n",
    "    s_values = np.sort(np.unique(s_values))\n",
    "    T_values = np.sort(np.unique(T_values) * 1000).astype(np.int64)\n",
    "\n",
    "    KL_divergence = pd.DataFrame(\n",
    "        np.zeros((len(T_values), len(s_values))), index=T_values, columns=s_values,\n",
    "    )\n",
    "    E_samples = {}\n",
    "    KL_divergence = {}\n",
    "    for s, T in exact_data.keys():\n",
    "        p_exact = exact_data[(s, T)][\"p\"]\n",
    "        E_exact = exact_data[(s, T)][\"E\"]\n",
    "        E_samples_sT = get_state_energies(states, E_exact)\n",
    "        E_samples[(s, T)] = E_samples_sT\n",
    "        KL_divergence[int(T * 1000), s] = compute_KL_divergence(\n",
    "            p_exact, E_exact, E_samples_sT, counts, invert=False\n",
    "        )\n",
    "\n",
    "    KL_divergence = pd.DataFrame.from_dict(KL_divergence, orient=\"index\")\n",
    "\n",
    "    return KL_divergence, E_samples"
   ]
  },
  {
   "cell_type": "code",
   "execution_count": 4,
   "id": "2d96fb3b-fd3d-4d89-be79-76c55893ac21",
   "metadata": {
    "tags": []
   },
   "outputs": [
    {
     "name": "stdout",
     "output_type": "stream",
     "text": [
      "time: 1min 53s (started: 2021-12-29 12:38:04 +01:00)\n"
     ]
    }
   ],
   "source": [
    "n_jobs = 6\n",
    "\n",
    "config_id = 4\n",
    "embedding_id = 1\n",
    "\n",
    "config_dir = project_dir / f\"artifacts/exact_analysis/{config_id:02}/\"\n",
    "embedding_dir = config_dir / f\"samples/embedding_{embedding_id:02}\"\n",
    "\n",
    "config = load_artifact(config_dir / \"config.json\")\n",
    "exact_data = load_artifact(config_dir / \"exact_data.pkl\")\n",
    "\n",
    "\n",
    "def process_run_gauge_dir(run, gauge_dir, exact_data):\n",
    "    samples = load_artifact(gauge_dir / f\"{run}.pkl\")\n",
    "    KL_divergence, E_samples = compare_exact_to_samples(exact_data, samples)\n",
    "    return KL_divergence\n",
    "\n",
    "\n",
    "gauge_dirs = sorted([x for x in embedding_dir.iterdir() if x.name.startswith(\"gauge_\")])\n",
    "runs = sorted([x.stem for x in gauge_dirs[0].iterdir() if x.name != \"gauge.pkl\"])\n",
    "run_data = {}\n",
    "for run in runs:\n",
    "    results = Parallel(n_jobs=n_jobs)(\n",
    "        delayed(process_run_gauge_dir)(run, gauge_dir, exact_data)\n",
    "        for gauge_dir in gauge_dirs\n",
    "    )\n",
    "    run_data[run] = compute_stats_over_dfs(results)"
   ]
  },
  {
   "cell_type": "code",
   "execution_count": 28,
   "id": "16b5d5a3-b879-4d80-b722-23d488b4a924",
   "metadata": {
    "tags": []
   },
   "outputs": [
    {
     "name": "stdout",
     "output_type": "stream",
     "text": [
      "time: 18.8 s (started: 2021-12-29 13:00:25 +01:00)\n"
     ]
    }
   ],
   "source": [
    "def plot_heat_map(KL_divergence, title):\n",
    "    cmap = sns.color_palette(\"rocket_r\", as_cmap=True)\n",
    "    s_values = KL_divergence.columns.to_numpy()\n",
    "    T_values = KL_divergence.index.to_numpy()\n",
    "    xticks = np.arange(len(s_values))[::5]\n",
    "    xticklabels = s_values[::5]\n",
    "    yticks = np.arange(len(T_values))\n",
    "    yticklabels = T_values\n",
    "\n",
    "    fig, ax = plt.subplots(figsize=(8, 6), dpi=300)\n",
    "    sns.heatmap(KL_divergence, ax=ax, vmin=0, vmax=0.025, cmap=cmap)\n",
    "    ax.set_title(title)\n",
    "    ax.invert_yaxis()\n",
    "    ax.set_xlabel(r\"$s$\")\n",
    "    ax.set_ylabel(r\"$T$ [mK]\")\n",
    "    ax.set_xticks(xticks)\n",
    "    ax.set_xticklabels(xticklabels, rotation=0)\n",
    "    ax.set_yticks(yticks)\n",
    "    ax.set_yticklabels(yticklabels, rotation=0)\n",
    "    plt.tight_layout()\n",
    "    \n",
    "    return fig, ax\n",
    "    \n",
    "plot_dir_heatmaps = config_dir / f\"plots/heatmaps/embedding_{embedding_id:02}\"\n",
    "if not plot_dir_heatmaps.exists():\n",
    "    plot_dir_heatmaps.mkdir(parents=True)\n",
    "    \n",
    "for name, KL_divergence in run_data.items():\n",
    "    KL_divergence = KL_divergence[\"means\"]\n",
    "    KL_divergence.index = pd.MultiIndex.from_tuples(KL_divergence.index)\n",
    "    KL_divergence = KL_divergence.unstack(level=-1)[0]\n",
    "    \n",
    "    title = {x.split(\"=\")[0]: float(x.split(\"=\")[1]) for x in name.split(\",\")}\n",
    "    title['t_pause'] = title['anneal_duration'] * title['s_pause']\n",
    "    title = fr\"$t_{{pause}} = {title['t_pause']} \\ μs, \\ s_{{pause}} = {title['s_pause']}, \\ \\Delta_{{pause}} = {title['pause_duration']} \\ μs, \\ \\alpha_{{quench}} = {title['max_slope']}$\"\n",
    "    \n",
    "    fig, ax = plot_heat_map(KL_divergence, title)\n",
    "    plt.savefig(plot_dir_heatmaps / f\"{name}.png\")\n",
    "    plt.close(fig)"
   ]
  },
  {
   "cell_type": "code",
   "execution_count": 42,
   "id": "edd0834a-f38a-422b-b880-927c3ce52ffb",
   "metadata": {},
   "outputs": [
    {
     "name": "stdout",
     "output_type": "stream",
     "text": [
      "time: 513 µs (started: 2021-12-29 14:06:59 +01:00)\n"
     ]
    }
   ],
   "source": [
    "def plot_histogram(E, title, weights=None):\n",
    "    fig, ax = plt.subplots(figsize=(10, 6), dpi=144)\n",
    "    ax.hist(E, bins=32, density=True, weights=weights)\n",
    "    ax.set_title(title)\n",
    "    ax.set_xlabel(r\"$E$\")\n",
    "    ax.grid()\n",
    "    \n",
    "    return fig, ax"
   ]
  },
  {
   "cell_type": "code",
   "execution_count": 43,
   "id": "dc1ab76f-ca2b-4252-b813-6fa16fbbc567",
   "metadata": {},
   "outputs": [
    {
     "name": "stdout",
     "output_type": "stream",
     "text": [
      "time: 5min (started: 2021-12-29 14:07:01 +01:00)\n"
     ]
    }
   ],
   "source": [
    "plot_dir_histograms_exact = config_dir / f\"plots/histograms/exact\"\n",
    "if not plot_dir_histograms_exact.exists():\n",
    "    plot_dir_histograms_exact.mkdir(parents=True)\n",
    "    \n",
    "for (s, T), data in exact_data.items():\n",
    "    if np.isnan(data[\"p\"]).any() or abs(data[\"p\"].sum() - 1) > 1e-2:\n",
    "        continue\n",
    "    E = np.random.choice(data[\"E\"], size=10 ** 6, p=data[\"p\"])\n",
    "    title = fr\"$s = {s}, \\ T = {T}$\"\n",
    "    fig, ax = plot_histogram(E, title)\n",
    "    plt.savefig(plot_dir_histograms_exact / f\"s={s:.2f},T={T:.3f}.png\")\n",
    "    plt.close(fig)"
   ]
  },
  {
   "cell_type": "code",
   "execution_count": 44,
   "id": "a07d1c4a-a5cf-438e-8148-ee8d08ed04e1",
   "metadata": {},
   "outputs": [
    {
     "name": "stdout",
     "output_type": "stream",
     "text": [
      "time: 1min 3s (started: 2021-12-29 14:12:01 +01:00)\n"
     ]
    }
   ],
   "source": [
    "plot_dir_histograms_samples = config_dir / f\"plots/histograms/embedding_{embedding_id:02}\"\n",
    "if not plot_dir_histograms_samples.exists():\n",
    "    plot_dir_histograms_samples.mkdir(parents=True)\n",
    "    \n",
    "for run in runs:\n",
    "    for gauge_dir in gauge_dirs:\n",
    "        samples = load_artifact(gauge_dir / f\"{run}.pkl\")\n",
    "        \n",
    "        title = {x.split(\"=\")[0]: float(x.split(\"=\")[1]) for x in run.split(\",\")}\n",
    "        title['t_pause'] = title['anneal_duration'] * title['s_pause']\n",
    "        title = fr\"$t_{{pause}} = {title['t_pause']} \\ μs, \\ s_{{pause}} = {title['s_pause']}, \\ \\Delta_{{pause}} = {title['pause_duration']} \\ μs, \\ \\alpha_{{quench}} = {title['max_slope']}$\"\n",
    "\n",
    "        fig, ax = plot_histogram(samples.record.energy, title, weights=samples.record.num_occurrences)\n",
    "        plt.savefig(plot_dir_histograms_samples / f\"{run}_{gauge_dir.name}.png\")\n",
    "        plt.close(fig)"
   ]
  }
 ],
 "metadata": {
  "kernelspec": {
   "display_name": "Python 3 (ipykernel)",
   "language": "python",
   "name": "python3"
  },
  "language_info": {
   "codemirror_mode": {
    "name": "ipython",
    "version": 3
   },
   "file_extension": ".py",
   "mimetype": "text/x-python",
   "name": "python",
   "nbconvert_exporter": "python",
   "pygments_lexer": "ipython3",
   "version": "3.9.7"
  }
 },
 "nbformat": 4,
 "nbformat_minor": 5
}
