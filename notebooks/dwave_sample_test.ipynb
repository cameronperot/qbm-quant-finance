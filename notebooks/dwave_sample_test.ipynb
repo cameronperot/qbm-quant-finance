{
 "cells": [
  {
   "cell_type": "code",
   "execution_count": 1,
   "id": "d914a2cd-4e4f-4736-a7f0-8b50e995d81c",
   "metadata": {},
   "outputs": [],
   "source": [
    "import matplotlib.pyplot as plt\n",
    "import numpy as np\n",
    "from dwave.system import DWaveSampler, FixedEmbeddingComposite\n",
    "from minorminer import find_embedding\n",
    "from dwave.inspector import show\n",
    "\n",
    "from qbm.utils import get_project_dir, get_rng, save_artifact"
   ]
  },
  {
   "cell_type": "code",
   "execution_count": 2,
   "id": "f70a3b38-a616-4d6b-8277-cd2473df30c9",
   "metadata": {},
   "outputs": [],
   "source": [
    "np.random.seed(0)\n",
    "n_visible = 8\n",
    "n_hidden = 4\n",
    "n_qubits = n_visible + n_hidden\n",
    "\u03bc = 0\n",
    "\u03c3 = 0.1\n",
    "h = np.random.normal(\u03bc, \u03c3, n_qubits)\n",
    "J = np.zeros((n_qubits, n_qubits))\n",
    "J[:n_visible, n_visible:] = np.random.normal(\u03bc, \u03c3, (n_visible, n_hidden))"
   ]
  },
  {
   "cell_type": "code",
   "execution_count": 3,
   "id": "af6f4028-2ee1-4300-b259-995ae148041e",
   "metadata": {},
   "outputs": [],
   "source": [
    "embedding = {\n",
    "    0: [4909],\n",
    "    8: [895],\n",
    "    9: [850],\n",
    "    10: [880],\n",
    "    11: [865],\n",
    "    1: [4939],\n",
    "    2: [4879],\n",
    "    3: [4774],\n",
    "    4: [4789],\n",
    "    5: [4924],\n",
    "    6: [4864],\n",
    "    7: [4894],\n",
    "}"
   ]
  },
  {
   "cell_type": "markdown",
   "id": "a462f263-3dbd-45bd-8e76-5c8c20eefd2e",
   "metadata": {},
   "source": [
    "## Advantage 4.1"
   ]
  },
  {
   "cell_type": "code",
   "execution_count": 4,
   "id": "144496d5-71d1-4102-bb21-1d915f92135d",
   "metadata": {},
   "outputs": [
    {
     "data": {
      "text/plain": [
       "{'timing': {'qpu_sampling_time': 1151.4,\n",
       "  'qpu_anneal_time_per_sample': 20.0,\n",
       "  'qpu_readout_time_per_sample': 74.6,\n",
       "  'qpu_access_time': 9598.0,\n",
       "  'qpu_access_overhead_time': 11813.0,\n",
       "  'qpu_programming_time': 8446.6,\n",
       "  'qpu_delay_time_per_sample': 20.54,\n",
       "  'total_post_processing_time': 3653.0,\n",
       "  'post_processing_overhead_time': 3653.0},\n",
       " 'problem_id': 'bccc88d5-c376-42f9-b559-3ff87fb45538',\n",
       " 'embedding_context': {'embedding': {0: (4909,),\n",
       "   8: (895,),\n",
       "   9: (850,),\n",
       "   10: (880,),\n",
       "   11: (865,),\n",
       "   1: (4939,),\n",
       "   2: (4879,),\n",
       "   3: (4774,),\n",
       "   4: (4789,),\n",
       "   5: (4924,),\n",
       "   6: (4864,),\n",
       "   7: (4894,)},\n",
       "  'chain_break_method': 'majority_vote',\n",
       "  'embedding_parameters': {},\n",
       "  'chain_strength': 0.37463220901130584},\n",
       " 'warnings': []}"
      ]
     },
     "execution_count": 4,
     "metadata": {},
     "output_type": "execute_result"
    }
   ],
   "source": [
    "qpu = DWaveSampler(region=\"na-west-1\", solver=\"Advantage_system4.1\",)\n",
    "sampler = FixedEmbeddingComposite(qpu, embedding)\n",
    "samples = sampler.sample_ising(h, J, num_reads=10, auto_scale=False, answer_mode=\"raw\")\n",
    "samples.info"
   ]
  },
  {
   "cell_type": "markdown",
   "id": "58aa13f6-d688-46d3-b608-e108bb629dc6",
   "metadata": {},
   "source": [
    "## Advantage 5.1"
   ]
  },
  {
   "cell_type": "code",
   "execution_count": 5,
   "id": "8e9e12b8-9a19-4cdb-882e-ccfb68f63b18",
   "metadata": {},
   "outputs": [
    {
     "data": {
      "text/plain": [
       "{'timing': {'qpu_sampling_time': 1645.0,\n",
       "  'qpu_anneal_time_per_sample': 20.0,\n",
       "  'qpu_readout_time_per_sample': 123.48,\n",
       "  'qpu_access_time': 10116.0,\n",
       "  'qpu_access_overhead_time': 7496.0,\n",
       "  'qpu_programming_time': 8471.0,\n",
       "  'qpu_delay_time_per_sample': 21.02,\n",
       "  'post_processing_overhead_time': 155.0,\n",
       "  'total_post_processing_time': 155.0},\n",
       " 'problem_id': '312d5eec-b848-433b-99fb-f6008f2eba41',\n",
       " 'embedding_context': {'embedding': {0: (4909,),\n",
       "   8: (895,),\n",
       "   9: (850,),\n",
       "   10: (880,),\n",
       "   11: (865,),\n",
       "   1: (4939,),\n",
       "   2: (4879,),\n",
       "   3: (4774,),\n",
       "   4: (4789,),\n",
       "   5: (4924,),\n",
       "   6: (4864,),\n",
       "   7: (4894,)},\n",
       "  'chain_break_method': 'majority_vote',\n",
       "  'embedding_parameters': {},\n",
       "  'chain_strength': 0.37463220901130584},\n",
       " 'warnings': []}"
      ]
     },
     "execution_count": 5,
     "metadata": {},
     "output_type": "execute_result"
    }
   ],
   "source": [
    "qpu = DWaveSampler(region=\"eu-central-1\", solver=\"Advantage_system5.1\")\n",
    "sampler = FixedEmbeddingComposite(qpu, embedding)\n",
    "samples = sampler.sample_ising(h, J, num_reads=10, auto_scale=False, answer_mode=\"raw\")\n",
    "samples.info"
   ]
  },
  {
   "cell_type": "code",
   "execution_count": null,
   "id": "14743cd7-af01-4ebb-a642-9c499145ca77",
   "metadata": {},
   "outputs": [],
   "source": []
  }
 ],
 "metadata": {
  "kernelspec": {
   "display_name": "Python 3 (ipykernel)",
   "language": "python",
   "name": "python3"
  },
  "language_info": {
   "codemirror_mode": {
    "name": "ipython",
    "version": 3
   },
   "file_extension": ".py",
   "mimetype": "text/x-python",
   "name": "python",
   "nbconvert_exporter": "python",
   "pygments_lexer": "ipython3",
   "version": "3.9.7"
  }
 },
 "nbformat": 4,
 "nbformat_minor": 5
}