{
 "cells": [
  {
   "cell_type": "markdown",
   "metadata": {},
   "source": [
    "# Data Analysis"
   ]
  },
  {
   "cell_type": "markdown",
   "metadata": {
    "tags": []
   },
   "source": [
    "## Setup"
   ]
  },
  {
   "cell_type": "markdown",
   "metadata": {
    "tags": []
   },
   "source": [
    "### Imports"
   ]
  },
  {
   "cell_type": "code",
   "execution_count": 1,
   "metadata": {},
   "outputs": [
    {
     "name": "stdout",
     "output_type": "stream",
     "text": [
      "time: 1.44 s (started: 2021-11-18 02:29:09 +01:00)\n"
     ]
    }
   ],
   "source": [
    "%load_ext autoreload\n",
    "%autoreload 2\n",
    "%load_ext autotime\n",
    "\n",
    "from datetime import date, datetime, timedelta\n",
    "from pathlib import Path\n",
    "\n",
    "import IPython.display as IPydisplay\n",
    "import matplotlib.pyplot as plt\n",
    "import mplfinance as mpf\n",
    "import numpy as np\n",
    "import pandas as pd\n",
    "\n",
    "from qbm.metrics import compute_annualized_volatility, compute_correlation_coefficients\n",
    "from qbm.plotting import (\n",
    "    mpf_style,\n",
    "    plot_correlation_coefficients,\n",
    "    plot_histogram_grid,\n",
    "    plot_qq_grid,\n",
    "    plot_violin,\n",
    ")\n",
    "from qbm.utils import (\n",
    "    binarize_df,\n",
    "    get_binarization_params,\n",
    "    PowerTransformer,\n",
    "    prepare_training_data,\n",
    "    unbinarize_df,\n",
    "    load_log_returns,\n",
    "    load_raw_data,\n",
    "    compute_df_stats,\n",
    "    compute_stats_over_dfs,\n",
    "    get_project_dir,\n",
    "    get_rng,\n",
    "    load_artifact,\n",
    "    lr_exp_decay,\n",
    "    save_artifact,\n",
    ")\n",
    "from qbm.sampling import generate_rbm_sample, generate_rbm_samples_df"
   ]
  },
  {
   "cell_type": "markdown",
   "metadata": {
    "tags": []
   },
   "source": [
    "### Data Import"
   ]
  },
  {
   "cell_type": "code",
   "execution_count": 2,
   "metadata": {
    "tags": []
   },
   "outputs": [
    {
     "name": "stdout",
     "output_type": "stream",
     "text": [
      "EURUSD\n"
     ]
    },
    {
     "data": {
      "text/html": [
       "<div>\n",
       "<style scoped>\n",
       "    .dataframe tbody tr th:only-of-type {\n",
       "        vertical-align: middle;\n",
       "    }\n",
       "\n",
       "    .dataframe tbody tr th {\n",
       "        vertical-align: top;\n",
       "    }\n",
       "\n",
       "    .dataframe thead th {\n",
       "        text-align: right;\n",
       "    }\n",
       "</style>\n",
       "<table border=\"1\" class=\"dataframe\">\n",
       "  <thead>\n",
       "    <tr style=\"text-align: right;\">\n",
       "      <th></th>\n",
       "      <th>open</th>\n",
       "      <th>high</th>\n",
       "      <th>low</th>\n",
       "      <th>close</th>\n",
       "      <th>volume</th>\n",
       "      <th>return</th>\n",
       "      <th>log_return</th>\n",
       "    </tr>\n",
       "    <tr>\n",
       "      <th>date</th>\n",
       "      <th></th>\n",
       "      <th></th>\n",
       "      <th></th>\n",
       "      <th></th>\n",
       "      <th></th>\n",
       "      <th></th>\n",
       "      <th></th>\n",
       "    </tr>\n",
       "  </thead>\n",
       "  <tbody>\n",
       "    <tr>\n",
       "      <th>1999-01-04</th>\n",
       "      <td>1.17400</td>\n",
       "      <td>1.19060</td>\n",
       "      <td>1.16950</td>\n",
       "      <td>1.18005</td>\n",
       "      <td>19664.0000</td>\n",
       "      <td>0.005153</td>\n",
       "      <td>0.005140</td>\n",
       "    </tr>\n",
       "    <tr>\n",
       "      <th>1999-01-06</th>\n",
       "      <td>1.17620</td>\n",
       "      <td>1.18130</td>\n",
       "      <td>1.15500</td>\n",
       "      <td>1.16815</td>\n",
       "      <td>31654.0000</td>\n",
       "      <td>-0.006844</td>\n",
       "      <td>-0.006868</td>\n",
       "    </tr>\n",
       "    <tr>\n",
       "      <th>1999-01-07</th>\n",
       "      <td>1.16250</td>\n",
       "      <td>1.17670</td>\n",
       "      <td>1.16050</td>\n",
       "      <td>1.16860</td>\n",
       "      <td>62349.0000</td>\n",
       "      <td>0.005247</td>\n",
       "      <td>0.005234</td>\n",
       "    </tr>\n",
       "    <tr>\n",
       "      <th>1999-01-08</th>\n",
       "      <td>1.17110</td>\n",
       "      <td>1.17330</td>\n",
       "      <td>1.15320</td>\n",
       "      <td>1.16325</td>\n",
       "      <td>43164.0000</td>\n",
       "      <td>-0.006703</td>\n",
       "      <td>-0.006726</td>\n",
       "    </tr>\n",
       "    <tr>\n",
       "      <th>1999-01-11</th>\n",
       "      <td>1.15650</td>\n",
       "      <td>1.16070</td>\n",
       "      <td>1.14850</td>\n",
       "      <td>1.15460</td>\n",
       "      <td>45083.0000</td>\n",
       "      <td>-0.001643</td>\n",
       "      <td>-0.001644</td>\n",
       "    </tr>\n",
       "    <tr>\n",
       "      <th>...</th>\n",
       "      <td>...</td>\n",
       "      <td>...</td>\n",
       "      <td>...</td>\n",
       "      <td>...</td>\n",
       "      <td>...</td>\n",
       "      <td>...</td>\n",
       "      <td>...</td>\n",
       "    </tr>\n",
       "    <tr>\n",
       "      <th>2019-12-23</th>\n",
       "      <td>1.10801</td>\n",
       "      <td>1.10958</td>\n",
       "      <td>1.10699</td>\n",
       "      <td>1.10917</td>\n",
       "      <td>108289.4297</td>\n",
       "      <td>0.001047</td>\n",
       "      <td>0.001046</td>\n",
       "    </tr>\n",
       "    <tr>\n",
       "      <th>2019-12-24</th>\n",
       "      <td>1.10918</td>\n",
       "      <td>1.10938</td>\n",
       "      <td>1.10690</td>\n",
       "      <td>1.10873</td>\n",
       "      <td>80970.6797</td>\n",
       "      <td>-0.000406</td>\n",
       "      <td>-0.000406</td>\n",
       "    </tr>\n",
       "    <tr>\n",
       "      <th>2019-12-27</th>\n",
       "      <td>1.11013</td>\n",
       "      <td>1.11883</td>\n",
       "      <td>1.10987</td>\n",
       "      <td>1.11713</td>\n",
       "      <td>124575.9063</td>\n",
       "      <td>0.006306</td>\n",
       "      <td>0.006286</td>\n",
       "    </tr>\n",
       "    <tr>\n",
       "      <th>2019-12-30</th>\n",
       "      <td>1.11812</td>\n",
       "      <td>1.12207</td>\n",
       "      <td>1.11806</td>\n",
       "      <td>1.12013</td>\n",
       "      <td>130773.8750</td>\n",
       "      <td>0.001798</td>\n",
       "      <td>0.001796</td>\n",
       "    </tr>\n",
       "    <tr>\n",
       "      <th>2019-12-31</th>\n",
       "      <td>1.12013</td>\n",
       "      <td>1.12391</td>\n",
       "      <td>1.11987</td>\n",
       "      <td>1.12072</td>\n",
       "      <td>107777.3125</td>\n",
       "      <td>0.000527</td>\n",
       "      <td>0.000527</td>\n",
       "    </tr>\n",
       "  </tbody>\n",
       "</table>\n",
       "<p>5166 rows \u00d7 7 columns</p>\n",
       "</div>"
      ],
      "text/plain": [
       "               open     high      low    close       volume    return  \\\n",
       "date                                                                    \n",
       "1999-01-04  1.17400  1.19060  1.16950  1.18005   19664.0000  0.005153   \n",
       "1999-01-06  1.17620  1.18130  1.15500  1.16815   31654.0000 -0.006844   \n",
       "1999-01-07  1.16250  1.17670  1.16050  1.16860   62349.0000  0.005247   \n",
       "1999-01-08  1.17110  1.17330  1.15320  1.16325   43164.0000 -0.006703   \n",
       "1999-01-11  1.15650  1.16070  1.14850  1.15460   45083.0000 -0.001643   \n",
       "...             ...      ...      ...      ...          ...       ...   \n",
       "2019-12-23  1.10801  1.10958  1.10699  1.10917  108289.4297  0.001047   \n",
       "2019-12-24  1.10918  1.10938  1.10690  1.10873   80970.6797 -0.000406   \n",
       "2019-12-27  1.11013  1.11883  1.10987  1.11713  124575.9063  0.006306   \n",
       "2019-12-30  1.11812  1.12207  1.11806  1.12013  130773.8750  0.001798   \n",
       "2019-12-31  1.12013  1.12391  1.11987  1.12072  107777.3125  0.000527   \n",
       "\n",
       "            log_return  \n",
       "date                    \n",
       "1999-01-04    0.005140  \n",
       "1999-01-06   -0.006868  \n",
       "1999-01-07    0.005234  \n",
       "1999-01-08   -0.006726  \n",
       "1999-01-11   -0.001644  \n",
       "...                ...  \n",
       "2019-12-23    0.001046  \n",
       "2019-12-24   -0.000406  \n",
       "2019-12-27    0.006286  \n",
       "2019-12-30    0.001796  \n",
       "2019-12-31    0.000527  \n",
       "\n",
       "[5166 rows x 7 columns]"
      ]
     },
     "metadata": {},
     "output_type": "display_data"
    },
    {
     "data": {
      "text/html": [
       "<div>\n",
       "<style scoped>\n",
       "    .dataframe tbody tr th:only-of-type {\n",
       "        vertical-align: middle;\n",
       "    }\n",
       "\n",
       "    .dataframe tbody tr th {\n",
       "        vertical-align: top;\n",
       "    }\n",
       "\n",
       "    .dataframe thead th {\n",
       "        text-align: right;\n",
       "    }\n",
       "</style>\n",
       "<table border=\"1\" class=\"dataframe\">\n",
       "  <thead>\n",
       "    <tr style=\"text-align: right;\">\n",
       "      <th></th>\n",
       "      <th>open</th>\n",
       "      <th>high</th>\n",
       "      <th>low</th>\n",
       "      <th>close</th>\n",
       "      <th>volume</th>\n",
       "      <th>return</th>\n",
       "      <th>log_return</th>\n",
       "    </tr>\n",
       "  </thead>\n",
       "  <tbody>\n",
       "    <tr>\n",
       "      <th>min</th>\n",
       "      <td>0.826700</td>\n",
       "      <td>0.832400</td>\n",
       "      <td>0.822900</td>\n",
       "      <td>0.826400</td>\n",
       "      <td>5.400000e+01</td>\n",
       "      <td>-0.026897</td>\n",
       "      <td>-0.027265</td>\n",
       "    </tr>\n",
       "    <tr>\n",
       "      <th>max</th>\n",
       "      <td>1.597200</td>\n",
       "      <td>1.603890</td>\n",
       "      <td>1.586430</td>\n",
       "      <td>1.597210</td>\n",
       "      <td>2.697619e+06</td>\n",
       "      <td>0.034954</td>\n",
       "      <td>0.034357</td>\n",
       "    </tr>\n",
       "    <tr>\n",
       "      <th>mean</th>\n",
       "      <td>1.203174</td>\n",
       "      <td>1.208784</td>\n",
       "      <td>1.197732</td>\n",
       "      <td>1.203230</td>\n",
       "      <td>4.835175e+05</td>\n",
       "      <td>0.000071</td>\n",
       "      <td>0.000052</td>\n",
       "    </tr>\n",
       "    <tr>\n",
       "      <th>median</th>\n",
       "      <td>1.213745</td>\n",
       "      <td>1.218800</td>\n",
       "      <td>1.206930</td>\n",
       "      <td>1.213665</td>\n",
       "      <td>2.178761e+05</td>\n",
       "      <td>0.000067</td>\n",
       "      <td>0.000067</td>\n",
       "    </tr>\n",
       "    <tr>\n",
       "      <th>std</th>\n",
       "      <td>0.165674</td>\n",
       "      <td>0.166238</td>\n",
       "      <td>0.164876</td>\n",
       "      <td>0.165638</td>\n",
       "      <td>5.373925e+05</td>\n",
       "      <td>0.006168</td>\n",
       "      <td>0.006167</td>\n",
       "    </tr>\n",
       "  </tbody>\n",
       "</table>\n",
       "</div>"
      ],
      "text/plain": [
       "            open      high       low     close        volume    return  \\\n",
       "min     0.826700  0.832400  0.822900  0.826400  5.400000e+01 -0.026897   \n",
       "max     1.597200  1.603890  1.586430  1.597210  2.697619e+06  0.034954   \n",
       "mean    1.203174  1.208784  1.197732  1.203230  4.835175e+05  0.000071   \n",
       "median  1.213745  1.218800  1.206930  1.213665  2.178761e+05  0.000067   \n",
       "std     0.165674  0.166238  0.164876  0.165638  5.373925e+05  0.006168   \n",
       "\n",
       "        log_return  \n",
       "min      -0.027265  \n",
       "max       0.034357  \n",
       "mean      0.000052  \n",
       "median    0.000067  \n",
       "std       0.006167  "
      ]
     },
     "metadata": {},
     "output_type": "display_data"
    },
    {
     "name": "stdout",
     "output_type": "stream",
     "text": [
      "Log Returns\n"
     ]
    },
    {
     "data": {
      "text/html": [
       "<div>\n",
       "<style scoped>\n",
       "    .dataframe tbody tr th:only-of-type {\n",
       "        vertical-align: middle;\n",
       "    }\n",
       "\n",
       "    .dataframe tbody tr th {\n",
       "        vertical-align: top;\n",
       "    }\n",
       "\n",
       "    .dataframe thead th {\n",
       "        text-align: right;\n",
       "    }\n",
       "</style>\n",
       "<table border=\"1\" class=\"dataframe\">\n",
       "  <thead>\n",
       "    <tr style=\"text-align: right;\">\n",
       "      <th></th>\n",
       "      <th>EURUSD</th>\n",
       "      <th>GBPUSD</th>\n",
       "      <th>USDCAD</th>\n",
       "      <th>USDJPY</th>\n",
       "    </tr>\n",
       "    <tr>\n",
       "      <th>date</th>\n",
       "      <th></th>\n",
       "      <th></th>\n",
       "      <th></th>\n",
       "      <th></th>\n",
       "    </tr>\n",
       "  </thead>\n",
       "  <tbody>\n",
       "    <tr>\n",
       "      <th>1999-01-04</th>\n",
       "      <td>0.005140</td>\n",
       "      <td>-0.000904</td>\n",
       "      <td>-0.003269</td>\n",
       "      <td>-0.013065</td>\n",
       "    </tr>\n",
       "    <tr>\n",
       "      <th>1999-01-06</th>\n",
       "      <td>-0.006868</td>\n",
       "      <td>-0.009712</td>\n",
       "      <td>-0.000992</td>\n",
       "      <td>0.013452</td>\n",
       "    </tr>\n",
       "    <tr>\n",
       "      <th>1999-01-07</th>\n",
       "      <td>0.005234</td>\n",
       "      <td>-0.003025</td>\n",
       "      <td>0.001191</td>\n",
       "      <td>-0.014041</td>\n",
       "    </tr>\n",
       "    <tr>\n",
       "      <th>1999-01-08</th>\n",
       "      <td>-0.006726</td>\n",
       "      <td>-0.000244</td>\n",
       "      <td>-0.001124</td>\n",
       "      <td>-0.001622</td>\n",
       "    </tr>\n",
       "    <tr>\n",
       "      <th>1999-01-11</th>\n",
       "      <td>-0.001644</td>\n",
       "      <td>0.000429</td>\n",
       "      <td>-0.003977</td>\n",
       "      <td>-0.018750</td>\n",
       "    </tr>\n",
       "    <tr>\n",
       "      <th>...</th>\n",
       "      <td>...</td>\n",
       "      <td>...</td>\n",
       "      <td>...</td>\n",
       "      <td>...</td>\n",
       "    </tr>\n",
       "    <tr>\n",
       "      <th>2019-12-23</th>\n",
       "      <td>0.001046</td>\n",
       "      <td>-0.004786</td>\n",
       "      <td>0.000145</td>\n",
       "      <td>-0.000987</td>\n",
       "    </tr>\n",
       "    <tr>\n",
       "      <th>2019-12-24</th>\n",
       "      <td>-0.000406</td>\n",
       "      <td>-0.001013</td>\n",
       "      <td>0.000738</td>\n",
       "      <td>-0.000073</td>\n",
       "    </tr>\n",
       "    <tr>\n",
       "      <th>2019-12-27</th>\n",
       "      <td>0.006286</td>\n",
       "      <td>0.005752</td>\n",
       "      <td>-0.002467</td>\n",
       "      <td>-0.000968</td>\n",
       "    </tr>\n",
       "    <tr>\n",
       "      <th>2019-12-30</th>\n",
       "      <td>0.001796</td>\n",
       "      <td>0.001641</td>\n",
       "      <td>-0.001064</td>\n",
       "      <td>-0.005167</td>\n",
       "    </tr>\n",
       "    <tr>\n",
       "      <th>2019-12-31</th>\n",
       "      <td>0.000527</td>\n",
       "      <td>0.011014</td>\n",
       "      <td>-0.005813</td>\n",
       "      <td>-0.002234</td>\n",
       "    </tr>\n",
       "  </tbody>\n",
       "</table>\n",
       "<p>5166 rows \u00d7 4 columns</p>\n",
       "</div>"
      ],
      "text/plain": [
       "              EURUSD    GBPUSD    USDCAD    USDJPY\n",
       "date                                              \n",
       "1999-01-04  0.005140 -0.000904 -0.003269 -0.013065\n",
       "1999-01-06 -0.006868 -0.009712 -0.000992  0.013452\n",
       "1999-01-07  0.005234 -0.003025  0.001191 -0.014041\n",
       "1999-01-08 -0.006726 -0.000244 -0.001124 -0.001622\n",
       "1999-01-11 -0.001644  0.000429 -0.003977 -0.018750\n",
       "...              ...       ...       ...       ...\n",
       "2019-12-23  0.001046 -0.004786  0.000145 -0.000987\n",
       "2019-12-24 -0.000406 -0.001013  0.000738 -0.000073\n",
       "2019-12-27  0.006286  0.005752 -0.002467 -0.000968\n",
       "2019-12-30  0.001796  0.001641 -0.001064 -0.005167\n",
       "2019-12-31  0.000527  0.011014 -0.005813 -0.002234\n",
       "\n",
       "[5166 rows x 4 columns]"
      ]
     },
     "metadata": {},
     "output_type": "display_data"
    },
    {
     "data": {
      "text/html": [
       "<div>\n",
       "<style scoped>\n",
       "    .dataframe tbody tr th:only-of-type {\n",
       "        vertical-align: middle;\n",
       "    }\n",
       "\n",
       "    .dataframe tbody tr th {\n",
       "        vertical-align: top;\n",
       "    }\n",
       "\n",
       "    .dataframe thead th {\n",
       "        text-align: right;\n",
       "    }\n",
       "</style>\n",
       "<table border=\"1\" class=\"dataframe\">\n",
       "  <thead>\n",
       "    <tr style=\"text-align: right;\">\n",
       "      <th></th>\n",
       "      <th>EURUSD</th>\n",
       "      <th>GBPUSD</th>\n",
       "      <th>USDCAD</th>\n",
       "      <th>USDJPY</th>\n",
       "    </tr>\n",
       "  </thead>\n",
       "  <tbody>\n",
       "    <tr>\n",
       "      <th>min</th>\n",
       "      <td>-0.027265</td>\n",
       "      <td>-0.063726</td>\n",
       "      <td>-0.037117</td>\n",
       "      <td>-0.034561</td>\n",
       "    </tr>\n",
       "    <tr>\n",
       "      <th>max</th>\n",
       "      <td>0.034357</td>\n",
       "      <td>0.035111</td>\n",
       "      <td>0.034804</td>\n",
       "      <td>0.052261</td>\n",
       "    </tr>\n",
       "    <tr>\n",
       "      <th>mean</th>\n",
       "      <td>0.000052</td>\n",
       "      <td>-0.000008</td>\n",
       "      <td>-0.000050</td>\n",
       "      <td>-0.000063</td>\n",
       "    </tr>\n",
       "    <tr>\n",
       "      <th>median</th>\n",
       "      <td>0.000067</td>\n",
       "      <td>-0.000020</td>\n",
       "      <td>-0.000047</td>\n",
       "      <td>-0.000018</td>\n",
       "    </tr>\n",
       "    <tr>\n",
       "      <th>std</th>\n",
       "      <td>0.006167</td>\n",
       "      <td>0.005728</td>\n",
       "      <td>0.005397</td>\n",
       "      <td>0.006321</td>\n",
       "    </tr>\n",
       "  </tbody>\n",
       "</table>\n",
       "</div>"
      ],
      "text/plain": [
       "          EURUSD    GBPUSD    USDCAD    USDJPY\n",
       "min    -0.027265 -0.063726 -0.037117 -0.034561\n",
       "max     0.034357  0.035111  0.034804  0.052261\n",
       "mean    0.000052 -0.000008 -0.000050 -0.000063\n",
       "median  0.000067 -0.000020 -0.000047 -0.000018\n",
       "std     0.006167  0.005728  0.005397  0.006321"
      ]
     },
     "metadata": {},
     "output_type": "display_data"
    },
    {
     "name": "stdout",
     "output_type": "stream",
     "text": [
      "time: 1.2 s (started: 2021-11-18 02:29:11 +01:00)\n"
     ]
    }
   ],
   "source": [
    "project_dir = get_project_dir()\n",
    "data_dir = project_dir / \"data\"\n",
    "if not (data_dir / \"train\").exists():\n",
    "    (data_dir / \"train\").mkdir()\n",
    "artifacts_dir = project_dir / \"artifacts\"\n",
    "plots_dir = project_dir / \"results/plots/data_analysis\"\n",
    "\n",
    "data_source = \"dukascopy\"\n",
    "start_date = datetime(1999, 1, 1)\n",
    "end_date = datetime(2019, 12, 31)\n",
    "currency_pairs = [\"EURUSD\", \"GBPUSD\", \"USDCAD\", \"USDJPY\"]\n",
    "\n",
    "dfs, log_returns_raw = load_raw_data(\n",
    "    data_dir,\n",
    "    data_source,\n",
    "    start_date=datetime(1990, 1, 1),\n",
    "    end_date=datetime(2021, 12, 31),\n",
    ")\n",
    "log_returns_raw.to_csv(data_dir / f\"train/{data_source}.csv\")\n",
    "\n",
    "# filter dates\n",
    "for pair, df in dfs.items():\n",
    "    dfs[pair] = df.loc[(df.index >= start_date) & (df.index <= end_date)]\n",
    "log_returns_raw = log_returns_raw.loc[\n",
    "    (log_returns_raw.index >= start_date) & (log_returns_raw.index <= end_date)\n",
    "]\n",
    "\n",
    "print(\"EURUSD\")\n",
    "display(dfs[\"EURUSD\"])\n",
    "display(compute_df_stats(dfs[\"EURUSD\"]))\n",
    "\n",
    "print(\"Log Returns\")\n",
    "display(log_returns_raw)\n",
    "display(compute_df_stats((log_returns_raw)))"
   ]
  },
  {
   "cell_type": "markdown",
   "metadata": {
    "tags": []
   },
   "source": [
    "## Raw Data Analysis Plots"
   ]
  },
  {
   "cell_type": "markdown",
   "metadata": {
    "tags": []
   },
   "source": [
    "### Candlestick OHLC Plots"
   ]
  },
  {
   "cell_type": "code",
   "execution_count": 3,
   "metadata": {
    "tags": []
   },
   "outputs": [
    {
     "name": "stdout",
     "output_type": "stream",
     "text": [
      "time: 3.2 s (started: 2021-11-17 20:25:54 +01:00)\n"
     ]
    }
   ],
   "source": [
    "for pair in currency_pairs:\n",
    "    df = dfs[pair]\n",
    "    mpf.plot(\n",
    "        df[df.index > df.index.max() - timedelta(days=365)],\n",
    "        title=pair,\n",
    "        type=\"candlestick\",\n",
    "        style=mpf_style,\n",
    "        figsize=(15, 6),\n",
    "        volume=True,\n",
    "        tight_layout=True,\n",
    "        savefig=dict(fname=plots_dir / f\"candlestick_{pair}.png\", dpi=300),\n",
    "    )"
   ]
  },
  {
   "cell_type": "code",
   "execution_count": 4,
   "metadata": {},
   "outputs": [
    {
     "data": {
      "text/plain": [
       "<IPython.core.display.Image object>"
      ]
     },
     "execution_count": 4,
     "metadata": {},
     "output_type": "execute_result"
    },
    {
     "name": "stdout",
     "output_type": "stream",
     "text": [
      "time: 2.83 ms (started: 2021-11-17 20:25:57 +01:00)\n"
     ]
    }
   ],
   "source": [
    "IPydisplay.Image(plots_dir / f\"candlestick_EURUSD.png\")"
   ]
  },
  {
   "cell_type": "code",
   "execution_count": 5,
   "metadata": {},
   "outputs": [
    {
     "data": {
      "text/plain": [
       "<IPython.core.display.Image object>"
      ]
     },
     "execution_count": 5,
     "metadata": {},
     "output_type": "execute_result"
    },
    {
     "name": "stdout",
     "output_type": "stream",
     "text": [
      "time: 13.1 ms (started: 2021-11-17 20:25:57 +01:00)\n"
     ]
    }
   ],
   "source": [
    "IPydisplay.Image(plots_dir / f\"candlestick_GBPUSD.png\")"
   ]
  },
  {
   "cell_type": "code",
   "execution_count": 6,
   "metadata": {},
   "outputs": [
    {
     "data": {
      "text/plain": [
       "<IPython.core.display.Image object>"
      ]
     },
     "execution_count": 6,
     "metadata": {},
     "output_type": "execute_result"
    },
    {
     "name": "stdout",
     "output_type": "stream",
     "text": [
      "time: 13.8 ms (started: 2021-11-17 20:25:57 +01:00)\n"
     ]
    }
   ],
   "source": [
    "IPydisplay.Image(plots_dir / f\"candlestick_USDCAD.png\")"
   ]
  },
  {
   "cell_type": "code",
   "execution_count": 7,
   "metadata": {},
   "outputs": [
    {
     "data": {
      "text/plain": [
       "<IPython.core.display.Image object>"
      ]
     },
     "execution_count": 7,
     "metadata": {},
     "output_type": "execute_result"
    },
    {
     "name": "stdout",
     "output_type": "stream",
     "text": [
      "time: 16.1 ms (started: 2021-11-17 20:25:57 +01:00)\n"
     ]
    }
   ],
   "source": [
    "IPydisplay.Image(plots_dir / f\"candlestick_USDJPY.png\")"
   ]
  },
  {
   "cell_type": "markdown",
   "metadata": {
    "tags": []
   },
   "source": [
    "### Histograms"
   ]
  },
  {
   "cell_type": "code",
   "execution_count": 8,
   "metadata": {
    "tags": []
   },
   "outputs": [
    {
     "data": {
      "text/plain": [
       "<Figure size 3000x1800 with 4 Axes>"
      ]
     },
     "metadata": {},
     "output_type": "display_data"
    },
    {
     "name": "stdout",
     "output_type": "stream",
     "text": [
      "time: 1.15 s (started: 2021-11-17 20:25:57 +01:00)\n"
     ]
    }
   ],
   "source": [
    "params = {\n",
    "    \"xlims\": (-0.03, 0.03),\n",
    "    \"ylims\": (0, 100),\n",
    "    \"xticks\": np.linspace(-0.03, 0.03, 7),\n",
    "    \"yticks\": np.linspace(0, 100, 6),\n",
    "}\n",
    "fig, ax = plot_histogram_grid(log_returns_raw, params, bins=80, density=True)\n",
    "plt.savefig(plots_dir / \"histograms.png\")"
   ]
  },
  {
   "cell_type": "markdown",
   "metadata": {
    "tags": []
   },
   "source": [
    "### Violin/Box Plot"
   ]
  },
  {
   "cell_type": "code",
   "execution_count": 9,
   "metadata": {},
   "outputs": [
    {
     "data": {
      "text/plain": [
       "<Figure size 2700x1800 with 1 Axes>"
      ]
     },
     "metadata": {},
     "output_type": "display_data"
    },
    {
     "name": "stdout",
     "output_type": "stream",
     "text": [
      "time: 538 ms (started: 2021-11-17 20:25:58 +01:00)\n"
     ]
    }
   ],
   "source": [
    "params = {\"ylims\": (-0.0667, 0.0667), \"yticks\": np.linspace(-0.06, 0.06, 7)}\n",
    "fig, ax = plot_violin(log_returns_raw, params)\n",
    "plt.savefig(plots_dir / \"violin.png\")"
   ]
  },
  {
   "cell_type": "markdown",
   "metadata": {
    "tags": []
   },
   "source": [
    "## Data Curation"
   ]
  },
  {
   "cell_type": "code",
   "execution_count": 10,
   "metadata": {},
   "outputs": [
    {
     "name": "stdout",
     "output_type": "stream",
     "text": [
      "\n",
      "Raw Data\n"
     ]
    },
    {
     "data": {
      "text/html": [
       "<div>\n",
       "<style scoped>\n",
       "    .dataframe tbody tr th:only-of-type {\n",
       "        vertical-align: middle;\n",
       "    }\n",
       "\n",
       "    .dataframe tbody tr th {\n",
       "        vertical-align: top;\n",
       "    }\n",
       "\n",
       "    .dataframe thead th {\n",
       "        text-align: right;\n",
       "    }\n",
       "</style>\n",
       "<table border=\"1\" class=\"dataframe\">\n",
       "  <thead>\n",
       "    <tr style=\"text-align: right;\">\n",
       "      <th></th>\n",
       "      <th>EURUSD</th>\n",
       "      <th>GBPUSD</th>\n",
       "      <th>USDCAD</th>\n",
       "      <th>USDJPY</th>\n",
       "    </tr>\n",
       "  </thead>\n",
       "  <tbody>\n",
       "    <tr>\n",
       "      <th>min</th>\n",
       "      <td>-0.027265</td>\n",
       "      <td>-0.063726</td>\n",
       "      <td>-0.037117</td>\n",
       "      <td>-0.034561</td>\n",
       "    </tr>\n",
       "    <tr>\n",
       "      <th>max</th>\n",
       "      <td>0.034357</td>\n",
       "      <td>0.035111</td>\n",
       "      <td>0.034804</td>\n",
       "      <td>0.052261</td>\n",
       "    </tr>\n",
       "    <tr>\n",
       "      <th>mean</th>\n",
       "      <td>0.000052</td>\n",
       "      <td>-0.000008</td>\n",
       "      <td>-0.000050</td>\n",
       "      <td>-0.000063</td>\n",
       "    </tr>\n",
       "    <tr>\n",
       "      <th>median</th>\n",
       "      <td>0.000067</td>\n",
       "      <td>-0.000020</td>\n",
       "      <td>-0.000047</td>\n",
       "      <td>-0.000018</td>\n",
       "    </tr>\n",
       "    <tr>\n",
       "      <th>std</th>\n",
       "      <td>0.006167</td>\n",
       "      <td>0.005728</td>\n",
       "      <td>0.005397</td>\n",
       "      <td>0.006321</td>\n",
       "    </tr>\n",
       "  </tbody>\n",
       "</table>\n",
       "</div>"
      ],
      "text/plain": [
       "          EURUSD    GBPUSD    USDCAD    USDJPY\n",
       "min    -0.027265 -0.063726 -0.037117 -0.034561\n",
       "max     0.034357  0.035111  0.034804  0.052261\n",
       "mean    0.000052 -0.000008 -0.000050 -0.000063\n",
       "median  0.000067 -0.000020 -0.000047 -0.000018\n",
       "std     0.006167  0.005728  0.005397  0.006321"
      ]
     },
     "metadata": {},
     "output_type": "display_data"
    },
    {
     "name": "stdout",
     "output_type": "stream",
     "text": [
      "Curated\n"
     ]
    },
    {
     "data": {
      "text/html": [
       "<div>\n",
       "<style scoped>\n",
       "    .dataframe tbody tr th:only-of-type {\n",
       "        vertical-align: middle;\n",
       "    }\n",
       "\n",
       "    .dataframe tbody tr th {\n",
       "        vertical-align: top;\n",
       "    }\n",
       "\n",
       "    .dataframe thead th {\n",
       "        text-align: right;\n",
       "    }\n",
       "</style>\n",
       "<table border=\"1\" class=\"dataframe\">\n",
       "  <thead>\n",
       "    <tr style=\"text-align: right;\">\n",
       "      <th></th>\n",
       "      <th>EURUSD</th>\n",
       "      <th>GBPUSD</th>\n",
       "      <th>USDCAD</th>\n",
       "      <th>USDJPY</th>\n",
       "    </tr>\n",
       "  </thead>\n",
       "  <tbody>\n",
       "    <tr>\n",
       "      <th>min</th>\n",
       "      <td>-0.027265</td>\n",
       "      <td>-0.038992</td>\n",
       "      <td>-0.037117</td>\n",
       "      <td>-0.034561</td>\n",
       "    </tr>\n",
       "    <tr>\n",
       "      <th>max</th>\n",
       "      <td>0.034357</td>\n",
       "      <td>0.035111</td>\n",
       "      <td>0.034804</td>\n",
       "      <td>0.052261</td>\n",
       "    </tr>\n",
       "    <tr>\n",
       "      <th>mean</th>\n",
       "      <td>0.000056</td>\n",
       "      <td>0.000004</td>\n",
       "      <td>-0.000053</td>\n",
       "      <td>-0.000058</td>\n",
       "    </tr>\n",
       "    <tr>\n",
       "      <th>median</th>\n",
       "      <td>0.000067</td>\n",
       "      <td>-0.000020</td>\n",
       "      <td>-0.000047</td>\n",
       "      <td>-0.000018</td>\n",
       "    </tr>\n",
       "    <tr>\n",
       "      <th>std</th>\n",
       "      <td>0.006160</td>\n",
       "      <td>0.005660</td>\n",
       "      <td>0.005394</td>\n",
       "      <td>0.006309</td>\n",
       "    </tr>\n",
       "  </tbody>\n",
       "</table>\n",
       "</div>"
      ],
      "text/plain": [
       "          EURUSD    GBPUSD    USDCAD    USDJPY\n",
       "min    -0.027265 -0.038992 -0.037117 -0.034561\n",
       "max     0.034357  0.035111  0.034804  0.052261\n",
       "mean    0.000056  0.000004 -0.000053 -0.000058\n",
       "median  0.000067 -0.000020 -0.000047 -0.000018\n",
       "std     0.006160  0.005660  0.005394  0.006309"
      ]
     },
     "metadata": {},
     "output_type": "display_data"
    },
    {
     "name": "stdout",
     "output_type": "stream",
     "text": [
      "time: 23.8 ms (started: 2021-11-17 20:25:59 +01:00)\n"
     ]
    }
   ],
   "source": [
    "# find and remove outliers above threshold\n",
    "log_returns = load_log_returns(\n",
    "    \"dukascopy\", start_date=\"1999-01-01\", end_date=\"2019-12-31\", outlier_threshold=10\n",
    ")\n",
    "\n",
    "print(\"\\nRaw Data\")\n",
    "display(compute_df_stats(log_returns_raw))\n",
    "print(\"Curated\")\n",
    "display(compute_df_stats(log_returns))"
   ]
  },
  {
   "cell_type": "code",
   "execution_count": 11,
   "metadata": {
    "tags": []
   },
   "outputs": [
    {
     "data": {
      "text/plain": [
       "<Figure size 2700x1800 with 1 Axes>"
      ]
     },
     "metadata": {},
     "output_type": "display_data"
    },
    {
     "name": "stdout",
     "output_type": "stream",
     "text": [
      "time: 531 ms (started: 2021-11-17 20:25:59 +01:00)\n"
     ]
    }
   ],
   "source": [
    "params = {\"ylims\": (-0.0667, 0.0667), \"yticks\": np.linspace(-0.06, 0.06, 7)}\n",
    "fig, ax = plot_violin(log_returns, params)\n",
    "plt.savefig(plots_dir / \"violin_train.png\")"
   ]
  },
  {
   "cell_type": "markdown",
   "metadata": {},
   "source": [
    "## Data Transformation"
   ]
  },
  {
   "cell_type": "code",
   "execution_count": 12,
   "metadata": {},
   "outputs": [
    {
     "name": "stdout",
     "output_type": "stream",
     "text": [
      "time: 11.3 ms (started: 2021-11-17 20:25:59 +01:00)\n"
     ]
    }
   ],
   "source": [
    "transformer = PowerTransformer(log_returns_raw, power=0.5, threshold=1)\n",
    "log_returns_transformed = transformer.transform(log_returns_raw)"
   ]
  },
  {
   "cell_type": "markdown",
   "metadata": {},
   "source": [
    "### Histograms"
   ]
  },
  {
   "cell_type": "code",
   "execution_count": 13,
   "metadata": {},
   "outputs": [
    {
     "data": {
      "text/plain": [
       "<Figure size 3000x1800 with 4 Axes>"
      ]
     },
     "metadata": {},
     "output_type": "display_data"
    },
    {
     "name": "stdout",
     "output_type": "stream",
     "text": [
      "time: 928 ms (started: 2021-11-17 20:25:59 +01:00)\n"
     ]
    }
   ],
   "source": [
    "params = {\n",
    "    \"xlims\": (-0.03, 0.03),\n",
    "    \"ylims\": (0, 100),\n",
    "    \"xticks\": np.linspace(-0.03, 0.03, 7),\n",
    "    \"yticks\": np.linspace(0, 100, 6),\n",
    "}\n",
    "fig, ax = plot_histogram_grid(log_returns_transformed, params, bins=30, density=True)\n",
    "plt.savefig(plots_dir / \"histograms_transformed.png\")"
   ]
  },
  {
   "cell_type": "markdown",
   "metadata": {},
   "source": [
    "### Violin/Box Plot"
   ]
  },
  {
   "cell_type": "code",
   "execution_count": 14,
   "metadata": {},
   "outputs": [
    {
     "data": {
      "text/plain": [
       "<Figure size 2700x1800 with 1 Axes>"
      ]
     },
     "metadata": {},
     "output_type": "display_data"
    },
    {
     "name": "stdout",
     "output_type": "stream",
     "text": [
      "time: 538 ms (started: 2021-11-17 20:26:00 +01:00)\n"
     ]
    }
   ],
   "source": [
    "params = {\"ylims\": (-0.0233, 0.0233), \"yticks\": np.linspace(-0.04, 0.04, 9)}\n",
    "fig, ax = plot_violin(log_returns_transformed, params)\n",
    "plt.savefig(plots_dir / \"violin_transformed.png\")"
   ]
  },
  {
   "cell_type": "markdown",
   "metadata": {
    "tags": []
   },
   "source": [
    "## Binarization of Data"
   ]
  },
  {
   "cell_type": "markdown",
   "metadata": {
    "tags": []
   },
   "source": [
    "### Binarization of Data"
   ]
  },
  {
   "cell_type": "code",
   "execution_count": 15,
   "metadata": {},
   "outputs": [
    {
     "name": "stdout",
     "output_type": "stream",
     "text": [
      "Discretization Errors for n_bits = 16\n"
     ]
    },
    {
     "data": {
      "text/html": [
       "<div>\n",
       "<style scoped>\n",
       "    .dataframe tbody tr th:only-of-type {\n",
       "        vertical-align: middle;\n",
       "    }\n",
       "\n",
       "    .dataframe tbody tr th {\n",
       "        vertical-align: top;\n",
       "    }\n",
       "\n",
       "    .dataframe thead th {\n",
       "        text-align: right;\n",
       "    }\n",
       "</style>\n",
       "<table border=\"1\" class=\"dataframe\">\n",
       "  <thead>\n",
       "    <tr style=\"text-align: right;\">\n",
       "      <th></th>\n",
       "      <th>EURUSD</th>\n",
       "      <th>GBPUSD</th>\n",
       "      <th>USDCAD</th>\n",
       "      <th>USDJPY</th>\n",
       "    </tr>\n",
       "  </thead>\n",
       "  <tbody>\n",
       "    <tr>\n",
       "      <th>max</th>\n",
       "      <td>4.699172e-07</td>\n",
       "      <td>5.653249e-07</td>\n",
       "      <td>5.486262e-07</td>\n",
       "      <td>6.623774e-07</td>\n",
       "    </tr>\n",
       "    <tr>\n",
       "      <th>mean</th>\n",
       "      <td>2.317001e-07</td>\n",
       "      <td>2.837606e-07</td>\n",
       "      <td>2.748302e-07</td>\n",
       "      <td>3.292663e-07</td>\n",
       "    </tr>\n",
       "  </tbody>\n",
       "</table>\n",
       "</div>"
      ],
      "text/plain": [
       "            EURUSD        GBPUSD        USDCAD        USDJPY\n",
       "max   4.699172e-07  5.653249e-07  5.486262e-07  6.623774e-07\n",
       "mean  2.317001e-07  2.837606e-07  2.748302e-07  3.292663e-07"
      ]
     },
     "metadata": {},
     "output_type": "display_data"
    },
    {
     "name": "stdout",
     "output_type": "stream",
     "text": [
      "time: 63.9 ms (started: 2021-11-17 20:26:01 +01:00)\n"
     ]
    }
   ],
   "source": [
    "n_bits = 16\n",
    "binarization_params = {}\n",
    "for column in log_returns.columns:\n",
    "    binarization_params[column] = {\n",
    "        \"n_bits\": n_bits,\n",
    "        \"x_min\": log_returns[column].min(),\n",
    "        \"x_max\": log_returns[column].max(),\n",
    "    }\n",
    "\n",
    "log_returns_binarized = binarize_df(log_returns, binarization_params)\n",
    "log_returns_unbinarized = unbinarize_df(log_returns_binarized, binarization_params)\n",
    "print(f\"Discretization Errors for n_bits = {n_bits}\")\n",
    "display((log_returns - log_returns_unbinarized).abs().agg([\"max\", \"mean\"]))"
   ]
  },
  {
   "cell_type": "markdown",
   "metadata": {
    "tags": []
   },
   "source": [
    "## Correlation Coefficients"
   ]
  },
  {
   "cell_type": "code",
   "execution_count": 16,
   "metadata": {},
   "outputs": [
    {
     "data": {
      "text/html": [
       "<div>\n",
       "<style scoped>\n",
       "    .dataframe tbody tr th:only-of-type {\n",
       "        vertical-align: middle;\n",
       "    }\n",
       "\n",
       "    .dataframe tbody tr th {\n",
       "        vertical-align: top;\n",
       "    }\n",
       "\n",
       "    .dataframe thead th {\n",
       "        text-align: right;\n",
       "    }\n",
       "</style>\n",
       "<table border=\"1\" class=\"dataframe\">\n",
       "  <thead>\n",
       "    <tr style=\"text-align: right;\">\n",
       "      <th></th>\n",
       "      <th>Pearson</th>\n",
       "      <th>Spearman</th>\n",
       "      <th>Kendall</th>\n",
       "    </tr>\n",
       "  </thead>\n",
       "  <tbody>\n",
       "    <tr>\n",
       "      <th>EURUSD/GBPUSD</th>\n",
       "      <td>0.618646</td>\n",
       "      <td>0.617284</td>\n",
       "      <td>0.444639</td>\n",
       "    </tr>\n",
       "    <tr>\n",
       "      <th>EURUSD/USDJPY</th>\n",
       "      <td>-0.255886</td>\n",
       "      <td>-0.303177</td>\n",
       "      <td>-0.212124</td>\n",
       "    </tr>\n",
       "    <tr>\n",
       "      <th>EURUSD/USDCAD</th>\n",
       "      <td>-0.443807</td>\n",
       "      <td>-0.411753</td>\n",
       "      <td>-0.286886</td>\n",
       "    </tr>\n",
       "    <tr>\n",
       "      <th>GBPUSD/USDJPY</th>\n",
       "      <td>-0.138721</td>\n",
       "      <td>-0.207959</td>\n",
       "      <td>-0.145096</td>\n",
       "    </tr>\n",
       "    <tr>\n",
       "      <th>GBPUSD/USDCAD</th>\n",
       "      <td>-0.423923</td>\n",
       "      <td>-0.373673</td>\n",
       "      <td>-0.258303</td>\n",
       "    </tr>\n",
       "    <tr>\n",
       "      <th>USDJPY/USDCAD</th>\n",
       "      <td>0.002190</td>\n",
       "      <td>0.060884</td>\n",
       "      <td>0.042477</td>\n",
       "    </tr>\n",
       "  </tbody>\n",
       "</table>\n",
       "</div>"
      ],
      "text/plain": [
       "                Pearson  Spearman   Kendall\n",
       "EURUSD/GBPUSD  0.618646  0.617284  0.444639\n",
       "EURUSD/USDJPY -0.255886 -0.303177 -0.212124\n",
       "EURUSD/USDCAD -0.443807 -0.411753 -0.286886\n",
       "GBPUSD/USDJPY -0.138721 -0.207959 -0.145096\n",
       "GBPUSD/USDCAD -0.423923 -0.373673 -0.258303\n",
       "USDJPY/USDCAD  0.002190  0.060884  0.042477"
      ]
     },
     "execution_count": 16,
     "metadata": {},
     "output_type": "execute_result"
    },
    {
     "name": "stdout",
     "output_type": "stream",
     "text": [
      "time: 18.2 ms (started: 2021-11-17 20:26:01 +01:00)\n"
     ]
    }
   ],
   "source": [
    "combinations = (\n",
    "    (\"EURUSD\", \"GBPUSD\"),\n",
    "    (\"EURUSD\", \"USDJPY\"),\n",
    "    (\"EURUSD\", \"USDCAD\"),\n",
    "    (\"GBPUSD\", \"USDJPY\"),\n",
    "    (\"GBPUSD\", \"USDCAD\"),\n",
    "    (\"USDJPY\", \"USDCAD\"),\n",
    ")\n",
    "correlation_coefficients = compute_correlation_coefficients(log_returns, combinations)\n",
    "correlation_coefficients"
   ]
  },
  {
   "cell_type": "markdown",
   "metadata": {
    "tags": []
   },
   "source": [
    "## Probability Density Estimation"
   ]
  },
  {
   "cell_type": "markdown",
   "metadata": {
    "tags": []
   },
   "source": [
    "### KDE"
   ]
  },
  {
   "cell_type": "code",
   "execution_count": 17,
   "metadata": {},
   "outputs": [
    {
     "data": {
      "text/html": [
       "<div>\n",
       "<style scoped>\n",
       "    .dataframe tbody tr th:only-of-type {\n",
       "        vertical-align: middle;\n",
       "    }\n",
       "\n",
       "    .dataframe tbody tr th {\n",
       "        vertical-align: top;\n",
       "    }\n",
       "\n",
       "    .dataframe thead th {\n",
       "        text-align: right;\n",
       "    }\n",
       "</style>\n",
       "<table border=\"1\" class=\"dataframe\">\n",
       "  <thead>\n",
       "    <tr style=\"text-align: right;\">\n",
       "      <th></th>\n",
       "      <th>EURUSD</th>\n",
       "      <th>GBPUSD</th>\n",
       "      <th>USDCAD</th>\n",
       "      <th>USDJPY</th>\n",
       "    </tr>\n",
       "  </thead>\n",
       "  <tbody>\n",
       "    <tr>\n",
       "      <th>0</th>\n",
       "      <td>0.003734</td>\n",
       "      <td>0.004766</td>\n",
       "      <td>-0.003005</td>\n",
       "      <td>0.008220</td>\n",
       "    </tr>\n",
       "    <tr>\n",
       "      <th>1</th>\n",
       "      <td>0.002564</td>\n",
       "      <td>0.001632</td>\n",
       "      <td>0.003112</td>\n",
       "      <td>0.004052</td>\n",
       "    </tr>\n",
       "    <tr>\n",
       "      <th>2</th>\n",
       "      <td>0.000345</td>\n",
       "      <td>-0.003756</td>\n",
       "      <td>-0.002496</td>\n",
       "      <td>-0.004794</td>\n",
       "    </tr>\n",
       "    <tr>\n",
       "      <th>3</th>\n",
       "      <td>0.007721</td>\n",
       "      <td>0.003112</td>\n",
       "      <td>0.003966</td>\n",
       "      <td>-0.009438</td>\n",
       "    </tr>\n",
       "    <tr>\n",
       "      <th>4</th>\n",
       "      <td>-0.004092</td>\n",
       "      <td>-0.001645</td>\n",
       "      <td>0.001767</td>\n",
       "      <td>0.000392</td>\n",
       "    </tr>\n",
       "    <tr>\n",
       "      <th>...</th>\n",
       "      <td>...</td>\n",
       "      <td>...</td>\n",
       "      <td>...</td>\n",
       "      <td>...</td>\n",
       "    </tr>\n",
       "    <tr>\n",
       "      <th>5160</th>\n",
       "      <td>-0.002548</td>\n",
       "      <td>-0.000704</td>\n",
       "      <td>0.007154</td>\n",
       "      <td>0.013358</td>\n",
       "    </tr>\n",
       "    <tr>\n",
       "      <th>5161</th>\n",
       "      <td>0.000652</td>\n",
       "      <td>0.002378</td>\n",
       "      <td>0.000327</td>\n",
       "      <td>0.001645</td>\n",
       "    </tr>\n",
       "    <tr>\n",
       "      <th>5162</th>\n",
       "      <td>-0.004745</td>\n",
       "      <td>-0.009863</td>\n",
       "      <td>0.005019</td>\n",
       "      <td>0.005476</td>\n",
       "    </tr>\n",
       "    <tr>\n",
       "      <th>5163</th>\n",
       "      <td>0.012994</td>\n",
       "      <td>0.002949</td>\n",
       "      <td>0.001464</td>\n",
       "      <td>-0.006887</td>\n",
       "    </tr>\n",
       "    <tr>\n",
       "      <th>5164</th>\n",
       "      <td>0.007120</td>\n",
       "      <td>0.009315</td>\n",
       "      <td>-0.009251</td>\n",
       "      <td>-0.008028</td>\n",
       "    </tr>\n",
       "  </tbody>\n",
       "</table>\n",
       "<p>5165 rows \u00d7 4 columns</p>\n",
       "</div>"
      ],
      "text/plain": [
       "        EURUSD    GBPUSD    USDCAD    USDJPY\n",
       "0     0.003734  0.004766 -0.003005  0.008220\n",
       "1     0.002564  0.001632  0.003112  0.004052\n",
       "2     0.000345 -0.003756 -0.002496 -0.004794\n",
       "3     0.007721  0.003112  0.003966 -0.009438\n",
       "4    -0.004092 -0.001645  0.001767  0.000392\n",
       "...        ...       ...       ...       ...\n",
       "5160 -0.002548 -0.000704  0.007154  0.013358\n",
       "5161  0.000652  0.002378  0.000327  0.001645\n",
       "5162 -0.004745 -0.009863  0.005019  0.005476\n",
       "5163  0.012994  0.002949  0.001464 -0.006887\n",
       "5164  0.007120  0.009315 -0.009251 -0.008028\n",
       "\n",
       "[5165 rows x 4 columns]"
      ]
     },
     "execution_count": 17,
     "metadata": {},
     "output_type": "execute_result"
    },
    {
     "name": "stdout",
     "output_type": "stream",
     "text": [
      "time: 46.7 ms (started: 2021-11-17 20:26:01 +01:00)\n"
     ]
    }
   ],
   "source": [
    "from sklearn.neighbors import KernelDensity\n",
    "\n",
    "kde = KernelDensity(kernel=\"gaussian\", bandwidth=0.0001).fit(log_returns.to_numpy())\n",
    "samples = pd.DataFrame(kde.sample(log_returns.shape[0]), columns=log_returns.columns)\n",
    "samples"
   ]
  },
  {
   "cell_type": "code",
   "execution_count": 18,
   "metadata": {},
   "outputs": [
    {
     "data": {
      "text/plain": [
       "<Figure size 2700x2700 with 4 Axes>"
      ]
     },
     "metadata": {},
     "output_type": "display_data"
    },
    {
     "data": {
      "text/plain": [
       "<Figure size 3000x1800 with 6 Axes>"
      ]
     },
     "metadata": {},
     "output_type": "display_data"
    },
    {
     "name": "stdout",
     "output_type": "stream",
     "text": [
      "time: 3.98 s (started: 2021-11-17 20:26:01 +01:00)\n"
     ]
    }
   ],
   "source": [
    "params = {\n",
    "    \"title\": \"test\",\n",
    "    \"xlims\": (-0.045, 0.045),\n",
    "    \"ylims\": (-0.045, 0.045),\n",
    "    \"xticks\": np.linspace(-0.04, 0.04, 9),\n",
    "    \"yticks\": np.linspace(-0.04, 0.04, 9),\n",
    "}\n",
    "fig, axs = plot_qq_grid(log_returns, samples, params)\n",
    "plt.savefig(plots_dir / \"kde_qq.png\")\n",
    "\n",
    "correlation_coefficients_data = compute_correlation_coefficients(\n",
    "    log_returns, combinations\n",
    ")\n",
    "correlation_coefficients_sample = compute_stats_over_dfs(\n",
    "    [\n",
    "        compute_correlation_coefficients(\n",
    "            pd.DataFrame(kde.sample(log_returns.shape[0]), columns=log_returns.columns),\n",
    "            combinations,\n",
    "        )\n",
    "        for i in range(100)\n",
    "    ]\n",
    ")\n",
    "\n",
    "fig, axs = plot_correlation_coefficients(\n",
    "    correlation_coefficients_data, correlation_coefficients_sample\n",
    ")\n",
    "plt.savefig(plots_dir / \"kde_correlation_coefficients.png\")"
   ]
  },
  {
   "cell_type": "code",
   "execution_count": 19,
   "metadata": {},
   "outputs": [
    {
     "name": "stdout",
     "output_type": "stream",
     "text": [
      "Annualized Volatility\n"
     ]
    },
    {
     "data": {
      "text/html": [
       "<div>\n",
       "<style scoped>\n",
       "    .dataframe tbody tr th:only-of-type {\n",
       "        vertical-align: middle;\n",
       "    }\n",
       "\n",
       "    .dataframe tbody tr th {\n",
       "        vertical-align: top;\n",
       "    }\n",
       "\n",
       "    .dataframe thead th {\n",
       "        text-align: right;\n",
       "    }\n",
       "</style>\n",
       "<table border=\"1\" class=\"dataframe\">\n",
       "  <thead>\n",
       "    <tr style=\"text-align: right;\">\n",
       "      <th></th>\n",
       "      <th>data</th>\n",
       "      <th>sample</th>\n",
       "    </tr>\n",
       "  </thead>\n",
       "  <tbody>\n",
       "    <tr>\n",
       "      <th>EURUSD</th>\n",
       "      <td>0.097785</td>\n",
       "      <td>0.097560</td>\n",
       "    </tr>\n",
       "    <tr>\n",
       "      <th>GBPUSD</th>\n",
       "      <td>0.089846</td>\n",
       "      <td>0.091575</td>\n",
       "    </tr>\n",
       "    <tr>\n",
       "      <th>USDCAD</th>\n",
       "      <td>0.085625</td>\n",
       "      <td>0.086258</td>\n",
       "    </tr>\n",
       "    <tr>\n",
       "      <th>USDJPY</th>\n",
       "      <td>0.100156</td>\n",
       "      <td>0.095926</td>\n",
       "    </tr>\n",
       "  </tbody>\n",
       "</table>\n",
       "</div>"
      ],
      "text/plain": [
       "            data    sample\n",
       "EURUSD  0.097785  0.097560\n",
       "GBPUSD  0.089846  0.091575\n",
       "USDCAD  0.085625  0.086258\n",
       "USDJPY  0.100156  0.095926"
      ]
     },
     "execution_count": 19,
     "metadata": {},
     "output_type": "execute_result"
    },
    {
     "name": "stdout",
     "output_type": "stream",
     "text": [
      "time: 5.45 ms (started: 2021-11-17 20:26:05 +01:00)\n"
     ]
    }
   ],
   "source": [
    "print(\"Annualized Volatility\")\n",
    "pd.DataFrame(\n",
    "    {\n",
    "        \"data\": compute_annualized_volatility(log_returns),\n",
    "        \"sample\": compute_annualized_volatility(samples),\n",
    "    }\n",
    ")"
   ]
  },
  {
   "cell_type": "markdown",
   "metadata": {},
   "source": [
    "## Volatiliy"
   ]
  },
  {
   "cell_type": "code",
   "execution_count": 5,
   "metadata": {},
   "outputs": [
    {
     "data": {
      "text/html": [
       "<div>\n",
       "<style scoped>\n",
       "    .dataframe tbody tr th:only-of-type {\n",
       "        vertical-align: middle;\n",
       "    }\n",
       "\n",
       "    .dataframe tbody tr th {\n",
       "        vertical-align: top;\n",
       "    }\n",
       "\n",
       "    .dataframe thead th {\n",
       "        text-align: right;\n",
       "    }\n",
       "</style>\n",
       "<table border=\"1\" class=\"dataframe\">\n",
       "  <thead>\n",
       "    <tr style=\"text-align: right;\">\n",
       "      <th></th>\n",
       "      <th>EURUSD</th>\n",
       "      <th>GBPUSD</th>\n",
       "      <th>USDCAD</th>\n",
       "      <th>USDJPY</th>\n",
       "      <th>EURUSD_volatility_binary</th>\n",
       "      <th>GBPUSD_volatility_binary</th>\n",
       "      <th>USDCAD_volatility_binary</th>\n",
       "      <th>USDJPY_volatility_binary</th>\n",
       "    </tr>\n",
       "    <tr>\n",
       "      <th>date</th>\n",
       "      <th></th>\n",
       "      <th></th>\n",
       "      <th></th>\n",
       "      <th></th>\n",
       "      <th></th>\n",
       "      <th></th>\n",
       "      <th></th>\n",
       "      <th></th>\n",
       "    </tr>\n",
       "  </thead>\n",
       "  <tbody>\n",
       "    <tr>\n",
       "      <th>1999-04-06</th>\n",
       "      <td>0.006283</td>\n",
       "      <td>-0.005453</td>\n",
       "      <td>0.001598</td>\n",
       "      <td>-0.008912</td>\n",
       "      <td>0</td>\n",
       "      <td>0</td>\n",
       "      <td>0</td>\n",
       "      <td>1</td>\n",
       "    </tr>\n",
       "    <tr>\n",
       "      <th>1999-04-07</th>\n",
       "      <td>-0.003327</td>\n",
       "      <td>0.003012</td>\n",
       "      <td>-0.003334</td>\n",
       "      <td>0.006361</td>\n",
       "      <td>0</td>\n",
       "      <td>0</td>\n",
       "      <td>0</td>\n",
       "      <td>1</td>\n",
       "    </tr>\n",
       "    <tr>\n",
       "      <th>1999-04-08</th>\n",
       "      <td>0.003571</td>\n",
       "      <td>-0.000311</td>\n",
       "      <td>0.000600</td>\n",
       "      <td>-0.002059</td>\n",
       "      <td>0</td>\n",
       "      <td>0</td>\n",
       "      <td>0</td>\n",
       "      <td>1</td>\n",
       "    </tr>\n",
       "    <tr>\n",
       "      <th>1999-04-12</th>\n",
       "      <td>0.002124</td>\n",
       "      <td>0.000124</td>\n",
       "      <td>-0.005615</td>\n",
       "      <td>-0.003732</td>\n",
       "      <td>0</td>\n",
       "      <td>0</td>\n",
       "      <td>0</td>\n",
       "      <td>1</td>\n",
       "    </tr>\n",
       "    <tr>\n",
       "      <th>1999-04-13</th>\n",
       "      <td>-0.001853</td>\n",
       "      <td>-0.000247</td>\n",
       "      <td>-0.000939</td>\n",
       "      <td>-0.006247</td>\n",
       "      <td>0</td>\n",
       "      <td>0</td>\n",
       "      <td>0</td>\n",
       "      <td>1</td>\n",
       "    </tr>\n",
       "    <tr>\n",
       "      <th>...</th>\n",
       "      <td>...</td>\n",
       "      <td>...</td>\n",
       "      <td>...</td>\n",
       "      <td>...</td>\n",
       "      <td>...</td>\n",
       "      <td>...</td>\n",
       "      <td>...</td>\n",
       "      <td>...</td>\n",
       "    </tr>\n",
       "    <tr>\n",
       "      <th>2019-12-23</th>\n",
       "      <td>0.001046</td>\n",
       "      <td>-0.004786</td>\n",
       "      <td>0.000145</td>\n",
       "      <td>-0.000987</td>\n",
       "      <td>0</td>\n",
       "      <td>1</td>\n",
       "      <td>0</td>\n",
       "      <td>0</td>\n",
       "    </tr>\n",
       "    <tr>\n",
       "      <th>2019-12-24</th>\n",
       "      <td>-0.000406</td>\n",
       "      <td>-0.001013</td>\n",
       "      <td>0.000738</td>\n",
       "      <td>-0.000073</td>\n",
       "      <td>0</td>\n",
       "      <td>1</td>\n",
       "      <td>0</td>\n",
       "      <td>0</td>\n",
       "    </tr>\n",
       "    <tr>\n",
       "      <th>2019-12-27</th>\n",
       "      <td>0.006286</td>\n",
       "      <td>0.005752</td>\n",
       "      <td>-0.002467</td>\n",
       "      <td>-0.000968</td>\n",
       "      <td>0</td>\n",
       "      <td>1</td>\n",
       "      <td>0</td>\n",
       "      <td>0</td>\n",
       "    </tr>\n",
       "    <tr>\n",
       "      <th>2019-12-30</th>\n",
       "      <td>0.001796</td>\n",
       "      <td>0.001641</td>\n",
       "      <td>-0.001064</td>\n",
       "      <td>-0.005167</td>\n",
       "      <td>0</td>\n",
       "      <td>1</td>\n",
       "      <td>0</td>\n",
       "      <td>0</td>\n",
       "    </tr>\n",
       "    <tr>\n",
       "      <th>2019-12-31</th>\n",
       "      <td>0.000527</td>\n",
       "      <td>0.011014</td>\n",
       "      <td>-0.005813</td>\n",
       "      <td>-0.002234</td>\n",
       "      <td>0</td>\n",
       "      <td>1</td>\n",
       "      <td>0</td>\n",
       "      <td>0</td>\n",
       "    </tr>\n",
       "  </tbody>\n",
       "</table>\n",
       "<p>5111 rows \u00d7 8 columns</p>\n",
       "</div>"
      ],
      "text/plain": [
       "              EURUSD    GBPUSD    USDCAD    USDJPY  EURUSD_volatility_binary  \\\n",
       "date                                                                           \n",
       "1999-04-06  0.006283 -0.005453  0.001598 -0.008912                         0   \n",
       "1999-04-07 -0.003327  0.003012 -0.003334  0.006361                         0   \n",
       "1999-04-08  0.003571 -0.000311  0.000600 -0.002059                         0   \n",
       "1999-04-12  0.002124  0.000124 -0.005615 -0.003732                         0   \n",
       "1999-04-13 -0.001853 -0.000247 -0.000939 -0.006247                         0   \n",
       "...              ...       ...       ...       ...                       ...   \n",
       "2019-12-23  0.001046 -0.004786  0.000145 -0.000987                         0   \n",
       "2019-12-24 -0.000406 -0.001013  0.000738 -0.000073                         0   \n",
       "2019-12-27  0.006286  0.005752 -0.002467 -0.000968                         0   \n",
       "2019-12-30  0.001796  0.001641 -0.001064 -0.005167                         0   \n",
       "2019-12-31  0.000527  0.011014 -0.005813 -0.002234                         0   \n",
       "\n",
       "            GBPUSD_volatility_binary  USDCAD_volatility_binary  \\\n",
       "date                                                             \n",
       "1999-04-06                         0                         0   \n",
       "1999-04-07                         0                         0   \n",
       "1999-04-08                         0                         0   \n",
       "1999-04-12                         0                         0   \n",
       "1999-04-13                         0                         0   \n",
       "...                              ...                       ...   \n",
       "2019-12-23                         1                         0   \n",
       "2019-12-24                         1                         0   \n",
       "2019-12-27                         1                         0   \n",
       "2019-12-30                         1                         0   \n",
       "2019-12-31                         1                         0   \n",
       "\n",
       "            USDJPY_volatility_binary  \n",
       "date                                  \n",
       "1999-04-06                         1  \n",
       "1999-04-07                         1  \n",
       "1999-04-08                         1  \n",
       "1999-04-12                         1  \n",
       "1999-04-13                         1  \n",
       "...                              ...  \n",
       "2019-12-23                         0  \n",
       "2019-12-24                         0  \n",
       "2019-12-27                         0  \n",
       "2019-12-30                         0  \n",
       "2019-12-31                         0  \n",
       "\n",
       "[5111 rows x 8 columns]"
      ]
     },
     "metadata": {},
     "output_type": "display_data"
    },
    {
     "data": {
      "text/plain": [
       "<Figure size 3000x1800 with 4 Axes>"
      ]
     },
     "metadata": {
      "needs_background": "light"
     },
     "output_type": "display_data"
    },
    {
     "name": "stdout",
     "output_type": "stream",
     "text": [
      "time: 3.08 s (started: 2021-11-18 02:29:57 +01:00)\n"
     ]
    }
   ],
   "source": [
    "from qbm.metrics import compute_rolling_volatility\n",
    "from qbm.utils import binarize_volatility\n",
    "from qbm.plotting import plot_volatility_grid\n",
    "\n",
    "log_returns_volatility = log_returns_raw.loc[\n",
    "    (log_returns_raw.index >= datetime(1999, 1, 1) - timedelta(days=90))\n",
    "    & (log_returns_raw.index <= datetime(2019, 12, 31))\n",
    "]\n",
    "volatility = compute_rolling_volatility(log_returns_volatility, timedelta(days=90))\n",
    "volatility_binarized = binarize_volatility(volatility)\n",
    "train_data = pd.merge(\n",
    "    log_returns_volatility, volatility_binarized, left_index=True, right_index=True\n",
    ")\n",
    "display(train_data)\n",
    "\n",
    "params = {\n",
    "    \"yscale\": \"log\",\n",
    "    \"xlims\": (\n",
    "        volatility.index.min() - timedelta(days=90),\n",
    "        volatility.index.max() + timedelta(days=90),\n",
    "    ),\n",
    "    \"ylims\": (3e-2, 3e-1),\n",
    "    \"xticks\": [date(year, 1, 1) for year in range(1996, 2025, 4)],\n",
    "    \"label\": \"3M Rolling\",\n",
    "}\n",
    "fig, ax = plot_volatility_grid(volatility, params)\n",
    "plt.savefig(plots_dir / \"rolling_volatility.png\")"
   ]
  }
 ],
 "metadata": {
  "interpreter": {
   "hash": "23986ce38b171527f2e0dc81cc67736e49ea0511ca5d457d20f25692d0f172ac"
  },
  "kernelspec": {
   "display_name": "Python 3 (ipykernel)",
   "language": "python",
   "name": "python3"
  },
  "language_info": {
   "codemirror_mode": {
    "name": "ipython",
    "version": 3
   },
   "file_extension": ".py",
   "mimetype": "text/x-python",
   "name": "python",
   "nbconvert_exporter": "python",
   "pygments_lexer": "ipython3",
   "version": "3.9.7"
  },
  "toc-autonumbering": false
 },
 "nbformat": 4,
 "nbformat_minor": 4
}