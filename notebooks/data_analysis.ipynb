{
 "cells": [
  {
   "cell_type": "markdown",
   "metadata": {},
   "source": [
    "# Data Analysis"
   ]
  },
  {
   "cell_type": "markdown",
   "metadata": {
    "tags": []
   },
   "source": [
    "## Setup"
   ]
  },
  {
   "cell_type": "markdown",
   "metadata": {
    "tags": []
   },
   "source": [
    "### Imports"
   ]
  },
  {
   "cell_type": "code",
   "execution_count": 1,
   "metadata": {},
   "outputs": [
    {
     "name": "stdout",
     "output_type": "stream",
     "text": [
      "time: 717 ms (started: 2021-11-15 11:57:40 +01:00)\n"
     ]
    }
   ],
   "source": [
    "%load_ext autoreload\n",
    "%autoreload 2\n",
    "%load_ext autotime\n",
    "\n",
    "from datetime import datetime, timedelta\n",
    "from pathlib import Path\n",
    "\n",
    "import IPython.display as IPydisplay\n",
    "import matplotlib.pyplot as plt\n",
    "import mplfinance as mpf\n",
    "import numpy as np\n",
    "import pandas as pd\n",
    "\n",
    "from qbm.metrics import compute_annualized_volatility, compute_correlation_coefficients\n",
    "from qbm.plotting import (\n",
    "    mpf_style,\n",
    "    plot_correlation_coefficients,\n",
    "    plot_histogram_grid,\n",
    "    plot_qq_grid,\n",
    "    plot_violin,\n",
    ")\n",
    "from qbm.utils import (\n",
    "    binarize_df,\n",
    "    get_binarization_params,\n",
    "    prepare_training_data,\n",
    "    unbinarize_df,\n",
    "    load_log_returns,\n",
    "    load_raw_data,\n",
    "    compute_df_stats,\n",
    "    compute_stats_over_dfs,\n",
    "    get_project_dir,\n",
    "    get_rng,\n",
    "    load_artifact,\n",
    "    lr_exp_decay,\n",
    "    save_artifact,\n",
    ")\n",
    "from qbm.sampling import generate_rbm_sample, generate_rbm_samples_df"
   ]
  },
  {
   "cell_type": "markdown",
   "metadata": {
    "tags": []
   },
   "source": [
    "### Data Import"
   ]
  },
  {
   "cell_type": "code",
   "execution_count": 2,
   "metadata": {
    "tags": []
   },
   "outputs": [
    {
     "name": "stdout",
     "output_type": "stream",
     "text": [
      "EURUSD\n"
     ]
    },
    {
     "data": {
      "text/html": [
       "<div>\n",
       "<style scoped>\n",
       "    .dataframe tbody tr th:only-of-type {\n",
       "        vertical-align: middle;\n",
       "    }\n",
       "\n",
       "    .dataframe tbody tr th {\n",
       "        vertical-align: top;\n",
       "    }\n",
       "\n",
       "    .dataframe thead th {\n",
       "        text-align: right;\n",
       "    }\n",
       "</style>\n",
       "<table border=\"1\" class=\"dataframe\">\n",
       "  <thead>\n",
       "    <tr style=\"text-align: right;\">\n",
       "      <th></th>\n",
       "      <th>open</th>\n",
       "      <th>high</th>\n",
       "      <th>low</th>\n",
       "      <th>close</th>\n",
       "      <th>volume</th>\n",
       "      <th>return</th>\n",
       "      <th>log_return</th>\n",
       "    </tr>\n",
       "    <tr>\n",
       "      <th>date</th>\n",
       "      <th></th>\n",
       "      <th></th>\n",
       "      <th></th>\n",
       "      <th></th>\n",
       "      <th></th>\n",
       "      <th></th>\n",
       "      <th></th>\n",
       "    </tr>\n",
       "  </thead>\n",
       "  <tbody>\n",
       "    <tr>\n",
       "      <th>1999-01-04</th>\n",
       "      <td>1.17400</td>\n",
       "      <td>1.19060</td>\n",
       "      <td>1.16950</td>\n",
       "      <td>1.18005</td>\n",
       "      <td>19664.0000</td>\n",
       "      <td>0.005153</td>\n",
       "      <td>0.005140</td>\n",
       "    </tr>\n",
       "    <tr>\n",
       "      <th>1999-01-06</th>\n",
       "      <td>1.17620</td>\n",
       "      <td>1.18130</td>\n",
       "      <td>1.15500</td>\n",
       "      <td>1.16815</td>\n",
       "      <td>31654.0000</td>\n",
       "      <td>-0.006844</td>\n",
       "      <td>-0.006868</td>\n",
       "    </tr>\n",
       "    <tr>\n",
       "      <th>1999-01-07</th>\n",
       "      <td>1.16250</td>\n",
       "      <td>1.17670</td>\n",
       "      <td>1.16050</td>\n",
       "      <td>1.16860</td>\n",
       "      <td>62349.0000</td>\n",
       "      <td>0.005247</td>\n",
       "      <td>0.005234</td>\n",
       "    </tr>\n",
       "    <tr>\n",
       "      <th>1999-01-08</th>\n",
       "      <td>1.17110</td>\n",
       "      <td>1.17330</td>\n",
       "      <td>1.15320</td>\n",
       "      <td>1.16325</td>\n",
       "      <td>43164.0000</td>\n",
       "      <td>-0.006703</td>\n",
       "      <td>-0.006726</td>\n",
       "    </tr>\n",
       "    <tr>\n",
       "      <th>1999-01-11</th>\n",
       "      <td>1.15650</td>\n",
       "      <td>1.16070</td>\n",
       "      <td>1.14850</td>\n",
       "      <td>1.15460</td>\n",
       "      <td>45083.0000</td>\n",
       "      <td>-0.001643</td>\n",
       "      <td>-0.001644</td>\n",
       "    </tr>\n",
       "    <tr>\n",
       "      <th>...</th>\n",
       "      <td>...</td>\n",
       "      <td>...</td>\n",
       "      <td>...</td>\n",
       "      <td>...</td>\n",
       "      <td>...</td>\n",
       "      <td>...</td>\n",
       "      <td>...</td>\n",
       "    </tr>\n",
       "    <tr>\n",
       "      <th>2020-12-23</th>\n",
       "      <td>1.21871</td>\n",
       "      <td>1.22210</td>\n",
       "      <td>1.21538</td>\n",
       "      <td>1.21939</td>\n",
       "      <td>186474.2969</td>\n",
       "      <td>0.000558</td>\n",
       "      <td>0.000558</td>\n",
       "    </tr>\n",
       "    <tr>\n",
       "      <th>2020-12-24</th>\n",
       "      <td>1.21940</td>\n",
       "      <td>1.22156</td>\n",
       "      <td>1.21773</td>\n",
       "      <td>1.21820</td>\n",
       "      <td>150064.3594</td>\n",
       "      <td>-0.000984</td>\n",
       "      <td>-0.000985</td>\n",
       "    </tr>\n",
       "    <tr>\n",
       "      <th>2020-12-29</th>\n",
       "      <td>1.22196</td>\n",
       "      <td>1.22750</td>\n",
       "      <td>1.22193</td>\n",
       "      <td>1.22519</td>\n",
       "      <td>152109.0313</td>\n",
       "      <td>0.002643</td>\n",
       "      <td>0.002640</td>\n",
       "    </tr>\n",
       "    <tr>\n",
       "      <th>2020-12-30</th>\n",
       "      <td>1.22520</td>\n",
       "      <td>1.23101</td>\n",
       "      <td>1.22511</td>\n",
       "      <td>1.22984</td>\n",
       "      <td>157635.7188</td>\n",
       "      <td>0.003787</td>\n",
       "      <td>0.003780</td>\n",
       "    </tr>\n",
       "    <tr>\n",
       "      <th>2020-12-31</th>\n",
       "      <td>1.22986</td>\n",
       "      <td>1.23092</td>\n",
       "      <td>1.22091</td>\n",
       "      <td>1.22141</td>\n",
       "      <td>162429.7031</td>\n",
       "      <td>-0.006871</td>\n",
       "      <td>-0.006894</td>\n",
       "    </tr>\n",
       "  </tbody>\n",
       "</table>\n",
       "<p>5415 rows \u00d7 7 columns</p>\n",
       "</div>"
      ],
      "text/plain": [
       "               open     high      low    close       volume    return  \\\n",
       "date                                                                    \n",
       "1999-01-04  1.17400  1.19060  1.16950  1.18005   19664.0000  0.005153   \n",
       "1999-01-06  1.17620  1.18130  1.15500  1.16815   31654.0000 -0.006844   \n",
       "1999-01-07  1.16250  1.17670  1.16050  1.16860   62349.0000  0.005247   \n",
       "1999-01-08  1.17110  1.17330  1.15320  1.16325   43164.0000 -0.006703   \n",
       "1999-01-11  1.15650  1.16070  1.14850  1.15460   45083.0000 -0.001643   \n",
       "...             ...      ...      ...      ...          ...       ...   \n",
       "2020-12-23  1.21871  1.22210  1.21538  1.21939  186474.2969  0.000558   \n",
       "2020-12-24  1.21940  1.22156  1.21773  1.21820  150064.3594 -0.000984   \n",
       "2020-12-29  1.22196  1.22750  1.22193  1.22519  152109.0313  0.002643   \n",
       "2020-12-30  1.22520  1.23101  1.22511  1.22984  157635.7188  0.003787   \n",
       "2020-12-31  1.22986  1.23092  1.22091  1.22141  162429.7031 -0.006871   \n",
       "\n",
       "            log_return  \n",
       "date                    \n",
       "1999-01-04    0.005140  \n",
       "1999-01-06   -0.006868  \n",
       "1999-01-07    0.005234  \n",
       "1999-01-08   -0.006726  \n",
       "1999-01-11   -0.001644  \n",
       "...                ...  \n",
       "2020-12-23    0.000558  \n",
       "2020-12-24   -0.000985  \n",
       "2020-12-29    0.002640  \n",
       "2020-12-30    0.003780  \n",
       "2020-12-31   -0.006894  \n",
       "\n",
       "[5415 rows x 7 columns]"
      ]
     },
     "metadata": {},
     "output_type": "display_data"
    },
    {
     "data": {
      "text/html": [
       "<div>\n",
       "<style scoped>\n",
       "    .dataframe tbody tr th:only-of-type {\n",
       "        vertical-align: middle;\n",
       "    }\n",
       "\n",
       "    .dataframe tbody tr th {\n",
       "        vertical-align: top;\n",
       "    }\n",
       "\n",
       "    .dataframe thead th {\n",
       "        text-align: right;\n",
       "    }\n",
       "</style>\n",
       "<table border=\"1\" class=\"dataframe\">\n",
       "  <thead>\n",
       "    <tr style=\"text-align: right;\">\n",
       "      <th></th>\n",
       "      <th>open</th>\n",
       "      <th>high</th>\n",
       "      <th>low</th>\n",
       "      <th>close</th>\n",
       "      <th>volume</th>\n",
       "      <th>return</th>\n",
       "      <th>log_return</th>\n",
       "    </tr>\n",
       "  </thead>\n",
       "  <tbody>\n",
       "    <tr>\n",
       "      <th>min</th>\n",
       "      <td>0.826700</td>\n",
       "      <td>0.832400</td>\n",
       "      <td>0.822900</td>\n",
       "      <td>0.826400</td>\n",
       "      <td>5.400000e+01</td>\n",
       "      <td>-0.026897</td>\n",
       "      <td>-0.027265</td>\n",
       "    </tr>\n",
       "    <tr>\n",
       "      <th>max</th>\n",
       "      <td>1.597200</td>\n",
       "      <td>1.603890</td>\n",
       "      <td>1.586430</td>\n",
       "      <td>1.597210</td>\n",
       "      <td>2.697619e+06</td>\n",
       "      <td>0.034954</td>\n",
       "      <td>0.034357</td>\n",
       "    </tr>\n",
       "    <tr>\n",
       "      <th>mean</th>\n",
       "      <td>1.200355</td>\n",
       "      <td>1.205907</td>\n",
       "      <td>1.194972</td>\n",
       "      <td>1.200420</td>\n",
       "      <td>4.800815e+05</td>\n",
       "      <td>0.000078</td>\n",
       "      <td>0.000059</td>\n",
       "    </tr>\n",
       "    <tr>\n",
       "      <th>median</th>\n",
       "      <td>1.203160</td>\n",
       "      <td>1.208290</td>\n",
       "      <td>1.198080</td>\n",
       "      <td>1.203280</td>\n",
       "      <td>2.200406e+05</td>\n",
       "      <td>0.000074</td>\n",
       "      <td>0.000074</td>\n",
       "    </tr>\n",
       "    <tr>\n",
       "      <th>std</th>\n",
       "      <td>0.162600</td>\n",
       "      <td>0.163168</td>\n",
       "      <td>0.161807</td>\n",
       "      <td>0.162564</td>\n",
       "      <td>5.296595e+05</td>\n",
       "      <td>0.006110</td>\n",
       "      <td>0.006108</td>\n",
       "    </tr>\n",
       "  </tbody>\n",
       "</table>\n",
       "</div>"
      ],
      "text/plain": [
       "            open      high       low     close        volume    return  \\\n",
       "min     0.826700  0.832400  0.822900  0.826400  5.400000e+01 -0.026897   \n",
       "max     1.597200  1.603890  1.586430  1.597210  2.697619e+06  0.034954   \n",
       "mean    1.200355  1.205907  1.194972  1.200420  4.800815e+05  0.000078   \n",
       "median  1.203160  1.208290  1.198080  1.203280  2.200406e+05  0.000074   \n",
       "std     0.162600  0.163168  0.161807  0.162564  5.296595e+05  0.006110   \n",
       "\n",
       "        log_return  \n",
       "min      -0.027265  \n",
       "max       0.034357  \n",
       "mean      0.000059  \n",
       "median    0.000074  \n",
       "std       0.006108  "
      ]
     },
     "metadata": {},
     "output_type": "display_data"
    },
    {
     "name": "stdout",
     "output_type": "stream",
     "text": [
      "Log Returns\n"
     ]
    },
    {
     "data": {
      "text/html": [
       "<div>\n",
       "<style scoped>\n",
       "    .dataframe tbody tr th:only-of-type {\n",
       "        vertical-align: middle;\n",
       "    }\n",
       "\n",
       "    .dataframe tbody tr th {\n",
       "        vertical-align: top;\n",
       "    }\n",
       "\n",
       "    .dataframe thead th {\n",
       "        text-align: right;\n",
       "    }\n",
       "</style>\n",
       "<table border=\"1\" class=\"dataframe\">\n",
       "  <thead>\n",
       "    <tr style=\"text-align: right;\">\n",
       "      <th></th>\n",
       "      <th>EURUSD</th>\n",
       "      <th>GBPUSD</th>\n",
       "      <th>USDCAD</th>\n",
       "      <th>USDJPY</th>\n",
       "    </tr>\n",
       "    <tr>\n",
       "      <th>date</th>\n",
       "      <th></th>\n",
       "      <th></th>\n",
       "      <th></th>\n",
       "      <th></th>\n",
       "    </tr>\n",
       "  </thead>\n",
       "  <tbody>\n",
       "    <tr>\n",
       "      <th>1999-01-04</th>\n",
       "      <td>0.005140</td>\n",
       "      <td>-0.000904</td>\n",
       "      <td>-0.003269</td>\n",
       "      <td>-0.013065</td>\n",
       "    </tr>\n",
       "    <tr>\n",
       "      <th>1999-01-06</th>\n",
       "      <td>-0.006868</td>\n",
       "      <td>-0.009712</td>\n",
       "      <td>-0.000992</td>\n",
       "      <td>0.013452</td>\n",
       "    </tr>\n",
       "    <tr>\n",
       "      <th>1999-01-07</th>\n",
       "      <td>0.005234</td>\n",
       "      <td>-0.003025</td>\n",
       "      <td>0.001191</td>\n",
       "      <td>-0.014041</td>\n",
       "    </tr>\n",
       "    <tr>\n",
       "      <th>1999-01-08</th>\n",
       "      <td>-0.006726</td>\n",
       "      <td>-0.000244</td>\n",
       "      <td>-0.001124</td>\n",
       "      <td>-0.001622</td>\n",
       "    </tr>\n",
       "    <tr>\n",
       "      <th>1999-01-11</th>\n",
       "      <td>-0.001644</td>\n",
       "      <td>0.000429</td>\n",
       "      <td>-0.003977</td>\n",
       "      <td>-0.018750</td>\n",
       "    </tr>\n",
       "    <tr>\n",
       "      <th>...</th>\n",
       "      <td>...</td>\n",
       "      <td>...</td>\n",
       "      <td>...</td>\n",
       "      <td>...</td>\n",
       "    </tr>\n",
       "    <tr>\n",
       "      <th>2020-12-23</th>\n",
       "      <td>0.000558</td>\n",
       "      <td>0.008271</td>\n",
       "      <td>-0.003847</td>\n",
       "      <td>0.000174</td>\n",
       "    </tr>\n",
       "    <tr>\n",
       "      <th>2020-12-24</th>\n",
       "      <td>-0.000985</td>\n",
       "      <td>0.001730</td>\n",
       "      <td>0.001027</td>\n",
       "      <td>0.001014</td>\n",
       "    </tr>\n",
       "    <tr>\n",
       "      <th>2020-12-29</th>\n",
       "      <td>0.002640</td>\n",
       "      <td>0.002433</td>\n",
       "      <td>-0.001613</td>\n",
       "      <td>-0.001351</td>\n",
       "    </tr>\n",
       "    <tr>\n",
       "      <th>2020-12-30</th>\n",
       "      <td>0.003780</td>\n",
       "      <td>0.009725</td>\n",
       "      <td>-0.005568</td>\n",
       "      <td>-0.004122</td>\n",
       "    </tr>\n",
       "    <tr>\n",
       "      <th>2020-12-31</th>\n",
       "      <td>-0.006894</td>\n",
       "      <td>0.002521</td>\n",
       "      <td>-0.002285</td>\n",
       "      <td>0.001279</td>\n",
       "    </tr>\n",
       "  </tbody>\n",
       "</table>\n",
       "<p>5415 rows \u00d7 4 columns</p>\n",
       "</div>"
      ],
      "text/plain": [
       "              EURUSD    GBPUSD    USDCAD    USDJPY\n",
       "date                                              \n",
       "1999-01-04  0.005140 -0.000904 -0.003269 -0.013065\n",
       "1999-01-06 -0.006868 -0.009712 -0.000992  0.013452\n",
       "1999-01-07  0.005234 -0.003025  0.001191 -0.014041\n",
       "1999-01-08 -0.006726 -0.000244 -0.001124 -0.001622\n",
       "1999-01-11 -0.001644  0.000429 -0.003977 -0.018750\n",
       "...              ...       ...       ...       ...\n",
       "2020-12-23  0.000558  0.008271 -0.003847  0.000174\n",
       "2020-12-24 -0.000985  0.001730  0.001027  0.001014\n",
       "2020-12-29  0.002640  0.002433 -0.001613 -0.001351\n",
       "2020-12-30  0.003780  0.009725 -0.005568 -0.004122\n",
       "2020-12-31 -0.006894  0.002521 -0.002285  0.001279\n",
       "\n",
       "[5415 rows x 4 columns]"
      ]
     },
     "metadata": {},
     "output_type": "display_data"
    },
    {
     "data": {
      "text/html": [
       "<div>\n",
       "<style scoped>\n",
       "    .dataframe tbody tr th:only-of-type {\n",
       "        vertical-align: middle;\n",
       "    }\n",
       "\n",
       "    .dataframe tbody tr th {\n",
       "        vertical-align: top;\n",
       "    }\n",
       "\n",
       "    .dataframe thead th {\n",
       "        text-align: right;\n",
       "    }\n",
       "</style>\n",
       "<table border=\"1\" class=\"dataframe\">\n",
       "  <thead>\n",
       "    <tr style=\"text-align: right;\">\n",
       "      <th></th>\n",
       "      <th>EURUSD</th>\n",
       "      <th>GBPUSD</th>\n",
       "      <th>USDCAD</th>\n",
       "      <th>USDJPY</th>\n",
       "    </tr>\n",
       "  </thead>\n",
       "  <tbody>\n",
       "    <tr>\n",
       "      <th>min</th>\n",
       "      <td>-0.027265</td>\n",
       "      <td>-0.063726</td>\n",
       "      <td>-0.037117</td>\n",
       "      <td>-0.034561</td>\n",
       "    </tr>\n",
       "    <tr>\n",
       "      <th>max</th>\n",
       "      <td>0.034357</td>\n",
       "      <td>0.035111</td>\n",
       "      <td>0.034804</td>\n",
       "      <td>0.052261</td>\n",
       "    </tr>\n",
       "    <tr>\n",
       "      <th>mean</th>\n",
       "      <td>0.000059</td>\n",
       "      <td>-0.000004</td>\n",
       "      <td>-0.000058</td>\n",
       "      <td>-0.000065</td>\n",
       "    </tr>\n",
       "    <tr>\n",
       "      <th>median</th>\n",
       "      <td>0.000074</td>\n",
       "      <td>0.000000</td>\n",
       "      <td>-0.000052</td>\n",
       "      <td>-0.000038</td>\n",
       "    </tr>\n",
       "    <tr>\n",
       "      <th>std</th>\n",
       "      <td>0.006108</td>\n",
       "      <td>0.005795</td>\n",
       "      <td>0.005381</td>\n",
       "      <td>0.006275</td>\n",
       "    </tr>\n",
       "  </tbody>\n",
       "</table>\n",
       "</div>"
      ],
      "text/plain": [
       "          EURUSD    GBPUSD    USDCAD    USDJPY\n",
       "min    -0.027265 -0.063726 -0.037117 -0.034561\n",
       "max     0.034357  0.035111  0.034804  0.052261\n",
       "mean    0.000059 -0.000004 -0.000058 -0.000065\n",
       "median  0.000074  0.000000 -0.000052 -0.000038\n",
       "std     0.006108  0.005795  0.005381  0.006275"
      ]
     },
     "metadata": {},
     "output_type": "display_data"
    },
    {
     "name": "stdout",
     "output_type": "stream",
     "text": [
      "time: 1.77 s (started: 2021-11-15 11:57:40 +01:00)\n"
     ]
    }
   ],
   "source": [
    "project_dir = get_project_dir()\n",
    "data_dir = project_dir / \"data\"\n",
    "if not (data_dir / \"train\").exists():\n",
    "    (data_dir / \"train\").mkdir()\n",
    "artifacts_dir = project_dir / \"artifacts\"\n",
    "plots_dir = project_dir / \"results/plots/data_analysis\"\n",
    "\n",
    "data_source = \"dukascopy\"\n",
    "start_date = datetime(1999, 1, 1)\n",
    "end_date = datetime(2020, 12, 31)\n",
    "currency_pairs = [\"EURUSD\", \"GBPUSD\", \"USDCAD\", \"USDJPY\"]\n",
    "\n",
    "dfs, log_returns_raw = load_raw_data(\n",
    "    data_dir,\n",
    "    data_source,\n",
    "    start_date=datetime(1990, 1, 1),\n",
    "    end_date=datetime(2021, 12, 31),\n",
    ")\n",
    "log_returns_raw.to_csv(data_dir / f\"train/{data_source}.csv\")\n",
    "\n",
    "# filter dates\n",
    "for pair, df in dfs.items():\n",
    "    dfs[pair] = df.loc[(df.index >= start_date) & (df.index <= end_date)]\n",
    "log_returns_raw = log_returns_raw.loc[\n",
    "    (log_returns_raw.index >= start_date) & (log_returns_raw.index <= end_date)\n",
    "]\n",
    "\n",
    "print(\"EURUSD\")\n",
    "display(dfs[\"EURUSD\"])\n",
    "display(compute_df_stats(dfs[\"EURUSD\"]))\n",
    "\n",
    "print(\"Log Returns\")\n",
    "display(log_returns_raw)\n",
    "display(compute_df_stats((log_returns_raw)))"
   ]
  },
  {
   "cell_type": "markdown",
   "metadata": {
    "tags": []
   },
   "source": [
    "## Raw Data Analysis Plots"
   ]
  },
  {
   "cell_type": "markdown",
   "metadata": {
    "tags": []
   },
   "source": [
    "### Candlestick OHLC Plots"
   ]
  },
  {
   "cell_type": "code",
   "execution_count": 3,
   "metadata": {
    "tags": []
   },
   "outputs": [
    {
     "name": "stdout",
     "output_type": "stream",
     "text": [
      "time: 3.6 s (started: 2021-11-15 11:57:42 +01:00)\n"
     ]
    }
   ],
   "source": [
    "for pair in currency_pairs:\n",
    "    df = dfs[pair]\n",
    "    mpf.plot(\n",
    "        df[df.index > df.index.max() - timedelta(days=365)],\n",
    "        title=pair,\n",
    "        type=\"candlestick\",\n",
    "        style=mpf_style,\n",
    "        figsize=(15, 6),\n",
    "        volume=True,\n",
    "        tight_layout=True,\n",
    "        savefig=dict(fname=plots_dir / f\"candlestick_{pair}.png\", dpi=300),\n",
    "    )"
   ]
  },
  {
   "cell_type": "code",
   "execution_count": 4,
   "metadata": {},
   "outputs": [
    {
     "data": {
      "text/plain": [
       "<IPython.core.display.Image object>"
      ]
     },
     "execution_count": 4,
     "metadata": {},
     "output_type": "execute_result"
    },
    {
     "name": "stdout",
     "output_type": "stream",
     "text": [
      "time: 3.46 ms (started: 2021-11-15 11:57:46 +01:00)\n"
     ]
    }
   ],
   "source": [
    "IPydisplay.Image(plots_dir / f\"candlestick_EURUSD.png\")"
   ]
  },
  {
   "cell_type": "code",
   "execution_count": 5,
   "metadata": {},
   "outputs": [
    {
     "data": {
      "text/plain": [
       "<IPython.core.display.Image object>"
      ]
     },
     "execution_count": 5,
     "metadata": {},
     "output_type": "execute_result"
    },
    {
     "name": "stdout",
     "output_type": "stream",
     "text": [
      "time: 12 ms (started: 2021-11-15 11:57:46 +01:00)\n"
     ]
    }
   ],
   "source": [
    "IPydisplay.Image(plots_dir / f\"candlestick_GBPUSD.png\")"
   ]
  },
  {
   "cell_type": "code",
   "execution_count": 6,
   "metadata": {},
   "outputs": [
    {
     "data": {
      "text/plain": [
       "<IPython.core.display.Image object>"
      ]
     },
     "execution_count": 6,
     "metadata": {},
     "output_type": "execute_result"
    },
    {
     "name": "stdout",
     "output_type": "stream",
     "text": [
      "time: 19.6 ms (started: 2021-11-15 11:57:46 +01:00)\n"
     ]
    }
   ],
   "source": [
    "IPydisplay.Image(plots_dir / f\"candlestick_USDCAD.png\")"
   ]
  },
  {
   "cell_type": "code",
   "execution_count": 7,
   "metadata": {},
   "outputs": [
    {
     "data": {
      "text/plain": [
       "<IPython.core.display.Image object>"
      ]
     },
     "execution_count": 7,
     "metadata": {},
     "output_type": "execute_result"
    },
    {
     "name": "stdout",
     "output_type": "stream",
     "text": [
      "time: 11.1 ms (started: 2021-11-15 11:57:46 +01:00)\n"
     ]
    }
   ],
   "source": [
    "IPydisplay.Image(plots_dir / f\"candlestick_USDJPY.png\")"
   ]
  },
  {
   "cell_type": "markdown",
   "metadata": {
    "tags": []
   },
   "source": [
    "### Histograms"
   ]
  },
  {
   "cell_type": "code",
   "execution_count": 8,
   "metadata": {
    "tags": []
   },
   "outputs": [
    {
     "data": {
      "text/plain": [
       "<Figure size 3000x1800 with 4 Axes>"
      ]
     },
     "metadata": {},
     "output_type": "display_data"
    },
    {
     "name": "stdout",
     "output_type": "stream",
     "text": [
      "time: 1.6 s (started: 2021-11-15 11:57:46 +01:00)\n"
     ]
    }
   ],
   "source": [
    "params = {\n",
    "    \"xlims\": (-0.03, 0.03),\n",
    "    \"ylims\": (0, 100),\n",
    "    \"xticks\": np.linspace(-0.03, 0.03, 7),\n",
    "    \"yticks\": np.linspace(0, 100, 6),\n",
    "}\n",
    "fig, ax = plot_histogram_grid(log_returns_raw, params, bins=80, density=True)\n",
    "plt.savefig(plots_dir / \"histograms.png\")"
   ]
  },
  {
   "cell_type": "markdown",
   "metadata": {
    "tags": []
   },
   "source": [
    "### Violin/Box Plot"
   ]
  },
  {
   "cell_type": "code",
   "execution_count": 9,
   "metadata": {},
   "outputs": [
    {
     "data": {
      "text/plain": [
       "<Figure size 2700x1800 with 1 Axes>"
      ]
     },
     "metadata": {},
     "output_type": "display_data"
    },
    {
     "name": "stdout",
     "output_type": "stream",
     "text": [
      "time: 740 ms (started: 2021-11-15 11:57:47 +01:00)\n"
     ]
    }
   ],
   "source": [
    "params = {\"ylims\": (-0.0667, 0.0667), \"yticks\": np.linspace(-0.06, 0.06, 7)}\n",
    "fig, ax = plot_violin(log_returns_raw, params)\n",
    "plt.savefig(plots_dir / \"violin.png\")"
   ]
  },
  {
   "cell_type": "markdown",
   "metadata": {},
   "source": [
    "## Data Curation"
   ]
  },
  {
   "cell_type": "code",
   "execution_count": 10,
   "metadata": {},
   "outputs": [
    {
     "name": "stdout",
     "output_type": "stream",
     "text": [
      "\n",
      "Raw Data\n"
     ]
    },
    {
     "data": {
      "text/html": [
       "<div>\n",
       "<style scoped>\n",
       "    .dataframe tbody tr th:only-of-type {\n",
       "        vertical-align: middle;\n",
       "    }\n",
       "\n",
       "    .dataframe tbody tr th {\n",
       "        vertical-align: top;\n",
       "    }\n",
       "\n",
       "    .dataframe thead th {\n",
       "        text-align: right;\n",
       "    }\n",
       "</style>\n",
       "<table border=\"1\" class=\"dataframe\">\n",
       "  <thead>\n",
       "    <tr style=\"text-align: right;\">\n",
       "      <th></th>\n",
       "      <th>EURUSD</th>\n",
       "      <th>GBPUSD</th>\n",
       "      <th>USDCAD</th>\n",
       "      <th>USDJPY</th>\n",
       "    </tr>\n",
       "  </thead>\n",
       "  <tbody>\n",
       "    <tr>\n",
       "      <th>min</th>\n",
       "      <td>-0.027265</td>\n",
       "      <td>-0.063726</td>\n",
       "      <td>-0.037117</td>\n",
       "      <td>-0.034561</td>\n",
       "    </tr>\n",
       "    <tr>\n",
       "      <th>max</th>\n",
       "      <td>0.034357</td>\n",
       "      <td>0.035111</td>\n",
       "      <td>0.034804</td>\n",
       "      <td>0.052261</td>\n",
       "    </tr>\n",
       "    <tr>\n",
       "      <th>mean</th>\n",
       "      <td>0.000059</td>\n",
       "      <td>-0.000004</td>\n",
       "      <td>-0.000058</td>\n",
       "      <td>-0.000065</td>\n",
       "    </tr>\n",
       "    <tr>\n",
       "      <th>median</th>\n",
       "      <td>0.000074</td>\n",
       "      <td>0.000000</td>\n",
       "      <td>-0.000052</td>\n",
       "      <td>-0.000038</td>\n",
       "    </tr>\n",
       "    <tr>\n",
       "      <th>std</th>\n",
       "      <td>0.006108</td>\n",
       "      <td>0.005795</td>\n",
       "      <td>0.005381</td>\n",
       "      <td>0.006275</td>\n",
       "    </tr>\n",
       "  </tbody>\n",
       "</table>\n",
       "</div>"
      ],
      "text/plain": [
       "          EURUSD    GBPUSD    USDCAD    USDJPY\n",
       "min    -0.027265 -0.063726 -0.037117 -0.034561\n",
       "max     0.034357  0.035111  0.034804  0.052261\n",
       "mean    0.000059 -0.000004 -0.000058 -0.000065\n",
       "median  0.000074  0.000000 -0.000052 -0.000038\n",
       "std     0.006108  0.005795  0.005381  0.006275"
      ]
     },
     "metadata": {},
     "output_type": "display_data"
    },
    {
     "name": "stdout",
     "output_type": "stream",
     "text": [
      "Curated\n"
     ]
    },
    {
     "data": {
      "text/html": [
       "<div>\n",
       "<style scoped>\n",
       "    .dataframe tbody tr th:only-of-type {\n",
       "        vertical-align: middle;\n",
       "    }\n",
       "\n",
       "    .dataframe tbody tr th {\n",
       "        vertical-align: top;\n",
       "    }\n",
       "\n",
       "    .dataframe thead th {\n",
       "        text-align: right;\n",
       "    }\n",
       "</style>\n",
       "<table border=\"1\" class=\"dataframe\">\n",
       "  <thead>\n",
       "    <tr style=\"text-align: right;\">\n",
       "      <th></th>\n",
       "      <th>EURUSD</th>\n",
       "      <th>GBPUSD</th>\n",
       "      <th>USDCAD</th>\n",
       "      <th>USDJPY</th>\n",
       "    </tr>\n",
       "  </thead>\n",
       "  <tbody>\n",
       "    <tr>\n",
       "      <th>min</th>\n",
       "      <td>-0.027265</td>\n",
       "      <td>-0.038992</td>\n",
       "      <td>-0.037117</td>\n",
       "      <td>-0.034561</td>\n",
       "    </tr>\n",
       "    <tr>\n",
       "      <th>max</th>\n",
       "      <td>0.034357</td>\n",
       "      <td>0.028512</td>\n",
       "      <td>0.034804</td>\n",
       "      <td>0.037652</td>\n",
       "    </tr>\n",
       "    <tr>\n",
       "      <th>mean</th>\n",
       "      <td>0.000050</td>\n",
       "      <td>-0.000003</td>\n",
       "      <td>-0.000049</td>\n",
       "      <td>-0.000068</td>\n",
       "    </tr>\n",
       "    <tr>\n",
       "      <th>median</th>\n",
       "      <td>0.000067</td>\n",
       "      <td>-0.000020</td>\n",
       "      <td>-0.000047</td>\n",
       "      <td>-0.000018</td>\n",
       "    </tr>\n",
       "    <tr>\n",
       "      <th>std</th>\n",
       "      <td>0.006149</td>\n",
       "      <td>0.005639</td>\n",
       "      <td>0.005385</td>\n",
       "      <td>0.006268</td>\n",
       "    </tr>\n",
       "  </tbody>\n",
       "</table>\n",
       "</div>"
      ],
      "text/plain": [
       "          EURUSD    GBPUSD    USDCAD    USDJPY\n",
       "min    -0.027265 -0.038992 -0.037117 -0.034561\n",
       "max     0.034357  0.028512  0.034804  0.037652\n",
       "mean    0.000050 -0.000003 -0.000049 -0.000068\n",
       "median  0.000067 -0.000020 -0.000047 -0.000018\n",
       "std     0.006149  0.005639  0.005385  0.006268"
      ]
     },
     "metadata": {},
     "output_type": "display_data"
    },
    {
     "name": "stdout",
     "output_type": "stream",
     "text": [
      "time: 28.3 ms (started: 2021-11-15 11:57:48 +01:00)\n"
     ]
    }
   ],
   "source": [
    "# find and remove outliers above threshold\n",
    "log_returns = load_log_returns(\n",
    "    \"dukascopy\", start_date=\"1999-01-01\", end_date=\"2019-12-31\", outlier_threshold=8\n",
    ")\n",
    "\n",
    "print(\"\\nRaw Data\")\n",
    "display(compute_df_stats(log_returns_raw))\n",
    "print(\"Curated\")\n",
    "display(compute_df_stats(log_returns))"
   ]
  },
  {
   "cell_type": "code",
   "execution_count": 11,
   "metadata": {
    "tags": []
   },
   "outputs": [
    {
     "data": {
      "text/plain": [
       "<Figure size 2700x1800 with 1 Axes>"
      ]
     },
     "metadata": {},
     "output_type": "display_data"
    },
    {
     "name": "stdout",
     "output_type": "stream",
     "text": [
      "time: 813 ms (started: 2021-11-15 11:57:48 +01:00)\n"
     ]
    }
   ],
   "source": [
    "params = {\"ylims\": (-0.0667, 0.0667), \"yticks\": np.linspace(-0.06, 0.06, 7)}\n",
    "fig, ax = plot_violin(log_returns, params)\n",
    "plt.savefig(plots_dir / \"violin_train.png\")"
   ]
  },
  {
   "cell_type": "markdown",
   "metadata": {
    "tags": []
   },
   "source": [
    "## Binarization of Data"
   ]
  },
  {
   "cell_type": "markdown",
   "metadata": {
    "tags": []
   },
   "source": [
    "### Binarization of Data"
   ]
  },
  {
   "cell_type": "code",
   "execution_count": 12,
   "metadata": {},
   "outputs": [
    {
     "name": "stdout",
     "output_type": "stream",
     "text": [
      "Discretization Errors for n_bits = 16\n"
     ]
    },
    {
     "data": {
      "text/html": [
       "<div>\n",
       "<style scoped>\n",
       "    .dataframe tbody tr th:only-of-type {\n",
       "        vertical-align: middle;\n",
       "    }\n",
       "\n",
       "    .dataframe tbody tr th {\n",
       "        vertical-align: top;\n",
       "    }\n",
       "\n",
       "    .dataframe thead th {\n",
       "        text-align: right;\n",
       "    }\n",
       "</style>\n",
       "<table border=\"1\" class=\"dataframe\">\n",
       "  <thead>\n",
       "    <tr style=\"text-align: right;\">\n",
       "      <th></th>\n",
       "      <th>EURUSD</th>\n",
       "      <th>GBPUSD</th>\n",
       "      <th>USDCAD</th>\n",
       "      <th>USDJPY</th>\n",
       "    </tr>\n",
       "  </thead>\n",
       "  <tbody>\n",
       "    <tr>\n",
       "      <th>max</th>\n",
       "      <td>4.699172e-07</td>\n",
       "      <td>5.149917e-07</td>\n",
       "      <td>5.486262e-07</td>\n",
       "      <td>5.508586e-07</td>\n",
       "    </tr>\n",
       "    <tr>\n",
       "      <th>mean</th>\n",
       "      <td>2.316821e-07</td>\n",
       "      <td>2.548981e-07</td>\n",
       "      <td>2.748410e-07</td>\n",
       "      <td>2.774857e-07</td>\n",
       "    </tr>\n",
       "  </tbody>\n",
       "</table>\n",
       "</div>"
      ],
      "text/plain": [
       "            EURUSD        GBPUSD        USDCAD        USDJPY\n",
       "max   4.699172e-07  5.149917e-07  5.486262e-07  5.508586e-07\n",
       "mean  2.316821e-07  2.548981e-07  2.748410e-07  2.774857e-07"
      ]
     },
     "metadata": {},
     "output_type": "display_data"
    },
    {
     "name": "stdout",
     "output_type": "stream",
     "text": [
      "time: 90.1 ms (started: 2021-11-15 11:57:49 +01:00)\n"
     ]
    }
   ],
   "source": [
    "n_bits = 16\n",
    "binarization_params = {}\n",
    "for column in log_returns.columns:\n",
    "    binarization_params[column] = {\n",
    "        \"n_bits\": n_bits,\n",
    "        \"x_min\": log_returns[column].min(),\n",
    "        \"x_max\": log_returns[column].max(),\n",
    "    }\n",
    "\n",
    "log_returns_binarized = binarize_df(log_returns, binarization_params)\n",
    "log_returns_unbinarized = unbinarize_df(log_returns_binarized, binarization_params)\n",
    "print(f\"Discretization Errors for n_bits = {n_bits}\")\n",
    "display((log_returns - log_returns_unbinarized).abs().agg([\"max\", \"mean\"]))"
   ]
  },
  {
   "cell_type": "markdown",
   "metadata": {
    "tags": []
   },
   "source": [
    "## Correlation Coefficients"
   ]
  },
  {
   "cell_type": "code",
   "execution_count": 13,
   "metadata": {},
   "outputs": [
    {
     "data": {
      "text/html": [
       "<div>\n",
       "<style scoped>\n",
       "    .dataframe tbody tr th:only-of-type {\n",
       "        vertical-align: middle;\n",
       "    }\n",
       "\n",
       "    .dataframe tbody tr th {\n",
       "        vertical-align: top;\n",
       "    }\n",
       "\n",
       "    .dataframe thead th {\n",
       "        text-align: right;\n",
       "    }\n",
       "</style>\n",
       "<table border=\"1\" class=\"dataframe\">\n",
       "  <thead>\n",
       "    <tr style=\"text-align: right;\">\n",
       "      <th></th>\n",
       "      <th>Pearson</th>\n",
       "      <th>Spearman</th>\n",
       "      <th>Kendall</th>\n",
       "    </tr>\n",
       "  </thead>\n",
       "  <tbody>\n",
       "    <tr>\n",
       "      <th>EURUSD/GBPUSD</th>\n",
       "      <td>0.616834</td>\n",
       "      <td>0.617062</td>\n",
       "      <td>0.444424</td>\n",
       "    </tr>\n",
       "    <tr>\n",
       "      <th>EURUSD/USDJPY</th>\n",
       "      <td>-0.265169</td>\n",
       "      <td>-0.303933</td>\n",
       "      <td>-0.212593</td>\n",
       "    </tr>\n",
       "    <tr>\n",
       "      <th>EURUSD/USDCAD</th>\n",
       "      <td>-0.441786</td>\n",
       "      <td>-0.411412</td>\n",
       "      <td>-0.286610</td>\n",
       "    </tr>\n",
       "    <tr>\n",
       "      <th>GBPUSD/USDJPY</th>\n",
       "      <td>-0.150245</td>\n",
       "      <td>-0.208661</td>\n",
       "      <td>-0.145539</td>\n",
       "    </tr>\n",
       "    <tr>\n",
       "      <th>GBPUSD/USDCAD</th>\n",
       "      <td>-0.421101</td>\n",
       "      <td>-0.373310</td>\n",
       "      <td>-0.258017</td>\n",
       "    </tr>\n",
       "    <tr>\n",
       "      <th>USDJPY/USDCAD</th>\n",
       "      <td>0.009134</td>\n",
       "      <td>0.061499</td>\n",
       "      <td>0.042880</td>\n",
       "    </tr>\n",
       "  </tbody>\n",
       "</table>\n",
       "</div>"
      ],
      "text/plain": [
       "                Pearson  Spearman   Kendall\n",
       "EURUSD/GBPUSD  0.616834  0.617062  0.444424\n",
       "EURUSD/USDJPY -0.265169 -0.303933 -0.212593\n",
       "EURUSD/USDCAD -0.441786 -0.411412 -0.286610\n",
       "GBPUSD/USDJPY -0.150245 -0.208661 -0.145539\n",
       "GBPUSD/USDCAD -0.421101 -0.373310 -0.258017\n",
       "USDJPY/USDCAD  0.009134  0.061499  0.042880"
      ]
     },
     "execution_count": 13,
     "metadata": {},
     "output_type": "execute_result"
    },
    {
     "name": "stdout",
     "output_type": "stream",
     "text": [
      "time: 23.8 ms (started: 2021-11-15 11:57:49 +01:00)\n"
     ]
    }
   ],
   "source": [
    "combinations = (\n",
    "    (\"EURUSD\", \"GBPUSD\"),\n",
    "    (\"EURUSD\", \"USDJPY\"),\n",
    "    (\"EURUSD\", \"USDCAD\"),\n",
    "    (\"GBPUSD\", \"USDJPY\"),\n",
    "    (\"GBPUSD\", \"USDCAD\"),\n",
    "    (\"USDJPY\", \"USDCAD\"),\n",
    ")\n",
    "correlation_coefficients = compute_correlation_coefficients(log_returns, combinations)\n",
    "correlation_coefficients"
   ]
  },
  {
   "cell_type": "markdown",
   "metadata": {
    "tags": []
   },
   "source": [
    "## Probability Density Estimation"
   ]
  },
  {
   "cell_type": "markdown",
   "metadata": {
    "tags": []
   },
   "source": [
    "### KDE"
   ]
  },
  {
   "cell_type": "code",
   "execution_count": 14,
   "metadata": {},
   "outputs": [
    {
     "data": {
      "text/html": [
       "<div>\n",
       "<style scoped>\n",
       "    .dataframe tbody tr th:only-of-type {\n",
       "        vertical-align: middle;\n",
       "    }\n",
       "\n",
       "    .dataframe tbody tr th {\n",
       "        vertical-align: top;\n",
       "    }\n",
       "\n",
       "    .dataframe thead th {\n",
       "        text-align: right;\n",
       "    }\n",
       "</style>\n",
       "<table border=\"1\" class=\"dataframe\">\n",
       "  <thead>\n",
       "    <tr style=\"text-align: right;\">\n",
       "      <th></th>\n",
       "      <th>EURUSD</th>\n",
       "      <th>GBPUSD</th>\n",
       "      <th>USDCAD</th>\n",
       "      <th>USDJPY</th>\n",
       "    </tr>\n",
       "  </thead>\n",
       "  <tbody>\n",
       "    <tr>\n",
       "      <th>0</th>\n",
       "      <td>0.007472</td>\n",
       "      <td>0.003541</td>\n",
       "      <td>0.000296</td>\n",
       "      <td>0.003696</td>\n",
       "    </tr>\n",
       "    <tr>\n",
       "      <th>1</th>\n",
       "      <td>0.015639</td>\n",
       "      <td>0.005325</td>\n",
       "      <td>-0.003944</td>\n",
       "      <td>-0.008312</td>\n",
       "    </tr>\n",
       "    <tr>\n",
       "      <th>2</th>\n",
       "      <td>0.003876</td>\n",
       "      <td>-0.001721</td>\n",
       "      <td>0.004473</td>\n",
       "      <td>0.001946</td>\n",
       "    </tr>\n",
       "    <tr>\n",
       "      <th>3</th>\n",
       "      <td>0.011120</td>\n",
       "      <td>0.003819</td>\n",
       "      <td>-0.000757</td>\n",
       "      <td>-0.001916</td>\n",
       "    </tr>\n",
       "    <tr>\n",
       "      <th>4</th>\n",
       "      <td>0.003980</td>\n",
       "      <td>0.000570</td>\n",
       "      <td>-0.002885</td>\n",
       "      <td>0.004076</td>\n",
       "    </tr>\n",
       "    <tr>\n",
       "      <th>...</th>\n",
       "      <td>...</td>\n",
       "      <td>...</td>\n",
       "      <td>...</td>\n",
       "      <td>...</td>\n",
       "    </tr>\n",
       "    <tr>\n",
       "      <th>5159</th>\n",
       "      <td>-0.011640</td>\n",
       "      <td>0.012370</td>\n",
       "      <td>0.009715</td>\n",
       "      <td>0.004072</td>\n",
       "    </tr>\n",
       "    <tr>\n",
       "      <th>5160</th>\n",
       "      <td>0.001809</td>\n",
       "      <td>0.004267</td>\n",
       "      <td>-0.001626</td>\n",
       "      <td>-0.003865</td>\n",
       "    </tr>\n",
       "    <tr>\n",
       "      <th>5161</th>\n",
       "      <td>0.010613</td>\n",
       "      <td>0.012972</td>\n",
       "      <td>-0.005126</td>\n",
       "      <td>0.001136</td>\n",
       "    </tr>\n",
       "    <tr>\n",
       "      <th>5162</th>\n",
       "      <td>0.004318</td>\n",
       "      <td>-0.000599</td>\n",
       "      <td>0.015656</td>\n",
       "      <td>-0.002522</td>\n",
       "    </tr>\n",
       "    <tr>\n",
       "      <th>5163</th>\n",
       "      <td>-0.004485</td>\n",
       "      <td>0.001875</td>\n",
       "      <td>0.000709</td>\n",
       "      <td>-0.014098</td>\n",
       "    </tr>\n",
       "  </tbody>\n",
       "</table>\n",
       "<p>5164 rows \u00d7 4 columns</p>\n",
       "</div>"
      ],
      "text/plain": [
       "        EURUSD    GBPUSD    USDCAD    USDJPY\n",
       "0     0.007472  0.003541  0.000296  0.003696\n",
       "1     0.015639  0.005325 -0.003944 -0.008312\n",
       "2     0.003876 -0.001721  0.004473  0.001946\n",
       "3     0.011120  0.003819 -0.000757 -0.001916\n",
       "4     0.003980  0.000570 -0.002885  0.004076\n",
       "...        ...       ...       ...       ...\n",
       "5159 -0.011640  0.012370  0.009715  0.004072\n",
       "5160  0.001809  0.004267 -0.001626 -0.003865\n",
       "5161  0.010613  0.012972 -0.005126  0.001136\n",
       "5162  0.004318 -0.000599  0.015656 -0.002522\n",
       "5163 -0.004485  0.001875  0.000709 -0.014098\n",
       "\n",
       "[5164 rows x 4 columns]"
      ]
     },
     "execution_count": 14,
     "metadata": {},
     "output_type": "execute_result"
    },
    {
     "name": "stdout",
     "output_type": "stream",
     "text": [
      "time: 59.1 ms (started: 2021-11-15 11:57:49 +01:00)\n"
     ]
    }
   ],
   "source": [
    "from sklearn.neighbors import KernelDensity\n",
    "\n",
    "kde = KernelDensity(kernel=\"gaussian\", bandwidth=0.0001).fit(log_returns.to_numpy())\n",
    "samples = pd.DataFrame(kde.sample(log_returns.shape[0]), columns=log_returns.columns)\n",
    "samples"
   ]
  },
  {
   "cell_type": "code",
   "execution_count": 47,
   "metadata": {},
   "outputs": [
    {
     "data": {
      "text/plain": [
       "<Figure size 2700x2700 with 4 Axes>"
      ]
     },
     "metadata": {},
     "output_type": "display_data"
    },
    {
     "data": {
      "text/plain": [
       "<Figure size 3000x1800 with 6 Axes>"
      ]
     },
     "metadata": {},
     "output_type": "display_data"
    },
    {
     "name": "stdout",
     "output_type": "stream",
     "text": [
      "time: 6.45 s (started: 2021-11-15 12:28:57 +01:00)\n"
     ]
    }
   ],
   "source": [
    "params = {\n",
    "    \"title\": \"test\",\n",
    "    \"xlims\": (-0.045, 0.045),\n",
    "    \"ylims\": (-0.045, 0.045),\n",
    "    \"xticks\": np.linspace(-0.04, 0.04, 9),\n",
    "    \"yticks\": np.linspace(-0.04, 0.04, 9),\n",
    "}\n",
    "fig, axs = plot_qq_grid(log_returns, samples, params)\n",
    "plt.savefig(plots_dir / \"kde_qq.png\")\n",
    "\n",
    "correlation_coefficients_data = compute_correlation_coefficients(\n",
    "    log_returns, combinations\n",
    ")\n",
    "correlation_coefficients_sample = compute_stats_over_dfs(\n",
    "    [\n",
    "        compute_correlation_coefficients(\n",
    "            pd.DataFrame(kde.sample(log_returns.shape[0]), columns=log_returns.columns),\n",
    "            combinations,\n",
    "        )\n",
    "        for i in range(100)\n",
    "    ]\n",
    ")\n",
    "\n",
    "fig, axs = plot_correlation_coefficients(\n",
    "    correlation_coefficients_data, correlation_coefficients_sample\n",
    ")\n",
    "plt.savefig(plots_dir / \"kde_correlation_coefficients.png\")"
   ]
  },
  {
   "cell_type": "code",
   "execution_count": 16,
   "metadata": {},
   "outputs": [
    {
     "name": "stdout",
     "output_type": "stream",
     "text": [
      "Annualized Volatility\n"
     ]
    },
    {
     "data": {
      "text/html": [
       "<div>\n",
       "<style scoped>\n",
       "    .dataframe tbody tr th:only-of-type {\n",
       "        vertical-align: middle;\n",
       "    }\n",
       "\n",
       "    .dataframe tbody tr th {\n",
       "        vertical-align: top;\n",
       "    }\n",
       "\n",
       "    .dataframe thead th {\n",
       "        text-align: right;\n",
       "    }\n",
       "</style>\n",
       "<table border=\"1\" class=\"dataframe\">\n",
       "  <thead>\n",
       "    <tr style=\"text-align: right;\">\n",
       "      <th></th>\n",
       "      <th>data</th>\n",
       "      <th>sample</th>\n",
       "    </tr>\n",
       "  </thead>\n",
       "  <tbody>\n",
       "    <tr>\n",
       "      <th>EURUSD</th>\n",
       "      <td>0.097614</td>\n",
       "      <td>0.096869</td>\n",
       "    </tr>\n",
       "    <tr>\n",
       "      <th>GBPUSD</th>\n",
       "      <td>0.089519</td>\n",
       "      <td>0.089950</td>\n",
       "    </tr>\n",
       "    <tr>\n",
       "      <th>USDCAD</th>\n",
       "      <td>0.085481</td>\n",
       "      <td>0.084287</td>\n",
       "    </tr>\n",
       "    <tr>\n",
       "      <th>USDJPY</th>\n",
       "      <td>0.099496</td>\n",
       "      <td>0.098679</td>\n",
       "    </tr>\n",
       "  </tbody>\n",
       "</table>\n",
       "</div>"
      ],
      "text/plain": [
       "            data    sample\n",
       "EURUSD  0.097614  0.096869\n",
       "GBPUSD  0.089519  0.089950\n",
       "USDCAD  0.085481  0.084287\n",
       "USDJPY  0.099496  0.098679"
      ]
     },
     "execution_count": 16,
     "metadata": {},
     "output_type": "execute_result"
    },
    {
     "name": "stdout",
     "output_type": "stream",
     "text": [
      "time: 6.62 ms (started: 2021-11-15 11:57:55 +01:00)\n"
     ]
    }
   ],
   "source": [
    "print(\"Annualized Volatility\")\n",
    "pd.DataFrame(\n",
    "    {\n",
    "        \"data\": compute_annualized_volatility(log_returns),\n",
    "        \"sample\": compute_annualized_volatility(samples),\n",
    "    }\n",
    ")"
   ]
  },
  {
   "cell_type": "markdown",
   "metadata": {},
   "source": [
    "## Volatiliy"
   ]
  },
  {
   "cell_type": "code",
   "execution_count": 17,
   "metadata": {},
   "outputs": [
    {
     "data": {
      "text/html": [
       "<div>\n",
       "<style scoped>\n",
       "    .dataframe tbody tr th:only-of-type {\n",
       "        vertical-align: middle;\n",
       "    }\n",
       "\n",
       "    .dataframe tbody tr th {\n",
       "        vertical-align: top;\n",
       "    }\n",
       "\n",
       "    .dataframe thead th {\n",
       "        text-align: right;\n",
       "    }\n",
       "</style>\n",
       "<table border=\"1\" class=\"dataframe\">\n",
       "  <thead>\n",
       "    <tr style=\"text-align: right;\">\n",
       "      <th></th>\n",
       "      <th>EURUSD</th>\n",
       "      <th>GBPUSD</th>\n",
       "      <th>USDCAD</th>\n",
       "      <th>USDJPY</th>\n",
       "      <th>EURUSD_volatility_binary</th>\n",
       "      <th>GBPUSD_volatility_binary</th>\n",
       "      <th>USDCAD_volatility_binary</th>\n",
       "      <th>USDJPY_volatility_binary</th>\n",
       "    </tr>\n",
       "    <tr>\n",
       "      <th>date</th>\n",
       "      <th></th>\n",
       "      <th></th>\n",
       "      <th></th>\n",
       "      <th></th>\n",
       "      <th></th>\n",
       "      <th></th>\n",
       "      <th></th>\n",
       "      <th></th>\n",
       "    </tr>\n",
       "  </thead>\n",
       "  <tbody>\n",
       "    <tr>\n",
       "      <th>1999-04-06</th>\n",
       "      <td>0.006283</td>\n",
       "      <td>-0.005453</td>\n",
       "      <td>0.001598</td>\n",
       "      <td>-0.008912</td>\n",
       "      <td>0</td>\n",
       "      <td>0</td>\n",
       "      <td>0</td>\n",
       "      <td>1</td>\n",
       "    </tr>\n",
       "    <tr>\n",
       "      <th>1999-04-07</th>\n",
       "      <td>-0.003327</td>\n",
       "      <td>0.003012</td>\n",
       "      <td>-0.003334</td>\n",
       "      <td>0.006361</td>\n",
       "      <td>0</td>\n",
       "      <td>0</td>\n",
       "      <td>0</td>\n",
       "      <td>1</td>\n",
       "    </tr>\n",
       "    <tr>\n",
       "      <th>1999-04-08</th>\n",
       "      <td>0.003571</td>\n",
       "      <td>-0.000311</td>\n",
       "      <td>0.000600</td>\n",
       "      <td>-0.002059</td>\n",
       "      <td>0</td>\n",
       "      <td>0</td>\n",
       "      <td>0</td>\n",
       "      <td>1</td>\n",
       "    </tr>\n",
       "    <tr>\n",
       "      <th>1999-04-12</th>\n",
       "      <td>0.002124</td>\n",
       "      <td>0.000124</td>\n",
       "      <td>-0.005615</td>\n",
       "      <td>-0.003732</td>\n",
       "      <td>0</td>\n",
       "      <td>0</td>\n",
       "      <td>0</td>\n",
       "      <td>1</td>\n",
       "    </tr>\n",
       "    <tr>\n",
       "      <th>1999-04-13</th>\n",
       "      <td>-0.001853</td>\n",
       "      <td>-0.000247</td>\n",
       "      <td>-0.000939</td>\n",
       "      <td>-0.006247</td>\n",
       "      <td>0</td>\n",
       "      <td>0</td>\n",
       "      <td>0</td>\n",
       "      <td>1</td>\n",
       "    </tr>\n",
       "    <tr>\n",
       "      <th>...</th>\n",
       "      <td>...</td>\n",
       "      <td>...</td>\n",
       "      <td>...</td>\n",
       "      <td>...</td>\n",
       "      <td>...</td>\n",
       "      <td>...</td>\n",
       "      <td>...</td>\n",
       "      <td>...</td>\n",
       "    </tr>\n",
       "    <tr>\n",
       "      <th>2019-12-23</th>\n",
       "      <td>0.001046</td>\n",
       "      <td>-0.004786</td>\n",
       "      <td>0.000145</td>\n",
       "      <td>-0.000987</td>\n",
       "      <td>0</td>\n",
       "      <td>1</td>\n",
       "      <td>0</td>\n",
       "      <td>0</td>\n",
       "    </tr>\n",
       "    <tr>\n",
       "      <th>2019-12-24</th>\n",
       "      <td>-0.000406</td>\n",
       "      <td>-0.001013</td>\n",
       "      <td>0.000738</td>\n",
       "      <td>-0.000073</td>\n",
       "      <td>0</td>\n",
       "      <td>1</td>\n",
       "      <td>0</td>\n",
       "      <td>0</td>\n",
       "    </tr>\n",
       "    <tr>\n",
       "      <th>2019-12-27</th>\n",
       "      <td>0.006286</td>\n",
       "      <td>0.005752</td>\n",
       "      <td>-0.002467</td>\n",
       "      <td>-0.000968</td>\n",
       "      <td>0</td>\n",
       "      <td>1</td>\n",
       "      <td>0</td>\n",
       "      <td>0</td>\n",
       "    </tr>\n",
       "    <tr>\n",
       "      <th>2019-12-30</th>\n",
       "      <td>0.001796</td>\n",
       "      <td>0.001641</td>\n",
       "      <td>-0.001064</td>\n",
       "      <td>-0.005167</td>\n",
       "      <td>0</td>\n",
       "      <td>1</td>\n",
       "      <td>0</td>\n",
       "      <td>0</td>\n",
       "    </tr>\n",
       "    <tr>\n",
       "      <th>2019-12-31</th>\n",
       "      <td>0.000527</td>\n",
       "      <td>0.011014</td>\n",
       "      <td>-0.005813</td>\n",
       "      <td>-0.002234</td>\n",
       "      <td>0</td>\n",
       "      <td>1</td>\n",
       "      <td>0</td>\n",
       "      <td>0</td>\n",
       "    </tr>\n",
       "  </tbody>\n",
       "</table>\n",
       "<p>5109 rows \u00d7 8 columns</p>\n",
       "</div>"
      ],
      "text/plain": [
       "              EURUSD    GBPUSD    USDCAD    USDJPY  EURUSD_volatility_binary  \\\n",
       "date                                                                           \n",
       "1999-04-06  0.006283 -0.005453  0.001598 -0.008912                         0   \n",
       "1999-04-07 -0.003327  0.003012 -0.003334  0.006361                         0   \n",
       "1999-04-08  0.003571 -0.000311  0.000600 -0.002059                         0   \n",
       "1999-04-12  0.002124  0.000124 -0.005615 -0.003732                         0   \n",
       "1999-04-13 -0.001853 -0.000247 -0.000939 -0.006247                         0   \n",
       "...              ...       ...       ...       ...                       ...   \n",
       "2019-12-23  0.001046 -0.004786  0.000145 -0.000987                         0   \n",
       "2019-12-24 -0.000406 -0.001013  0.000738 -0.000073                         0   \n",
       "2019-12-27  0.006286  0.005752 -0.002467 -0.000968                         0   \n",
       "2019-12-30  0.001796  0.001641 -0.001064 -0.005167                         0   \n",
       "2019-12-31  0.000527  0.011014 -0.005813 -0.002234                         0   \n",
       "\n",
       "            GBPUSD_volatility_binary  USDCAD_volatility_binary  \\\n",
       "date                                                             \n",
       "1999-04-06                         0                         0   \n",
       "1999-04-07                         0                         0   \n",
       "1999-04-08                         0                         0   \n",
       "1999-04-12                         0                         0   \n",
       "1999-04-13                         0                         0   \n",
       "...                              ...                       ...   \n",
       "2019-12-23                         1                         0   \n",
       "2019-12-24                         1                         0   \n",
       "2019-12-27                         1                         0   \n",
       "2019-12-30                         1                         0   \n",
       "2019-12-31                         1                         0   \n",
       "\n",
       "            USDJPY_volatility_binary  \n",
       "date                                  \n",
       "1999-04-06                         1  \n",
       "1999-04-07                         1  \n",
       "1999-04-08                         1  \n",
       "1999-04-12                         1  \n",
       "1999-04-13                         1  \n",
       "...                              ...  \n",
       "2019-12-23                         0  \n",
       "2019-12-24                         0  \n",
       "2019-12-27                         0  \n",
       "2019-12-30                         0  \n",
       "2019-12-31                         0  \n",
       "\n",
       "[5109 rows x 8 columns]"
      ]
     },
     "metadata": {},
     "output_type": "display_data"
    },
    {
     "data": {
      "text/plain": [
       "<Figure size 3000x1800 with 4 Axes>"
      ]
     },
     "metadata": {},
     "output_type": "display_data"
    },
    {
     "name": "stdout",
     "output_type": "stream",
     "text": [
      "time: 5.06 s (started: 2021-11-15 11:57:55 +01:00)\n"
     ]
    }
   ],
   "source": [
    "from qbm.metrics import compute_rolling_volatility\n",
    "from qbm.utils import binarize_volatility\n",
    "from qbm.plotting import plot_volatility_grid\n",
    "from datetime import date\n",
    "\n",
    "volatility = compute_rolling_volatility(log_returns, timedelta(days=90))\n",
    "volatility_binarized = binarize_volatility(volatility)\n",
    "train_data = pd.merge(\n",
    "    log_returns, volatility_binarized, left_index=True, right_index=True\n",
    ")\n",
    "display(train_data)\n",
    "\n",
    "params = {\n",
    "    \"yscale\": \"log\",\n",
    "    \"xlims\": (\n",
    "        volatility.index.min() - timedelta(days=90),\n",
    "        volatility.index.max() + timedelta(days=90),\n",
    "    ),\n",
    "    \"ylims\": (3e-2, 3e-1),\n",
    "    \"xticks\": [date(year, 1, 1) for year in range(1996, 2025, 4)],\n",
    "    \"label\": \"3M Rolling\",\n",
    "}\n",
    "fig, ax = plot_volatility_grid(volatility, params)\n",
    "plt.savefig(plots_dir / \"rolling_volatility.png\")"
   ]
  },
  {
   "cell_type": "code",
   "execution_count": 62,
   "metadata": {},
   "outputs": [
    {
     "data": {
      "text/plain": [
       "EURUSD    0.131185\n",
       "GBPUSD    0.126346\n",
       "USDCAD    0.128737\n",
       "USDJPY    0.128116\n",
       "dtype: float64"
      ]
     },
     "execution_count": 62,
     "metadata": {},
     "output_type": "execute_result"
    },
    {
     "name": "stdout",
     "output_type": "stream",
     "text": [
      "time: 4.39 ms (started: 2021-11-15 12:41:52 +01:00)\n"
     ]
    }
   ],
   "source": [
    "def filter_df_on_values(df, column_values, drop_filter_columns=True):\n",
    "    \"\"\"\n",
    "    Return a copy of the dataframe filtered conditionally on provided\n",
    "    column values.\n",
    "    \n",
    "    :param df: Dataframe to filter.\n",
    "    :param column_values: Dictionary where the keys are column names, and the\n",
    "        values are values on which to filter the dataframe.\n",
    "    :param drop_filter_columns: If True returns a copy of the dataframe with\n",
    "        the filtered columns dropped.\n",
    "        \n",
    "    :returns: A dataframe filtered conditionally on the provided column values.\n",
    "    \"\"\"\n",
    "    df = df.copy()\n",
    "    for column, value in column_values.items():\n",
    "        df = df.loc[df[column] == value]\n",
    "\n",
    "    if drop_filter_columns:\n",
    "        df.drop(column_values.keys(), axis=1, inplace=True)\n",
    "\n",
    "    return df\n",
    "\n",
    "\n",
    "low_volatility_column_values = {\n",
    "    f\"{pair}_volatility_binary\": 1 for pair in currency_pairs\n",
    "}\n",
    "\n",
    "compute_annualized_volatility(\n",
    "    filter_df_on_values(train_data, low_volatility_column_values)\n",
    ")"
   ]
  },
  {
   "cell_type": "code",
   "execution_count": 19,
   "metadata": {},
   "outputs": [
    {
     "data": {
      "text/plain": [
       "EURUSD                      0.131185\n",
       "GBPUSD                      0.126346\n",
       "USDCAD                      0.128737\n",
       "USDJPY                      0.128116\n",
       "EURUSD_volatility_binary    0.000000\n",
       "GBPUSD_volatility_binary    0.000000\n",
       "USDCAD_volatility_binary    0.000000\n",
       "USDJPY_volatility_binary    0.000000\n",
       "dtype: float64"
      ]
     },
     "execution_count": 19,
     "metadata": {},
     "output_type": "execute_result"
    },
    {
     "name": "stdout",
     "output_type": "stream",
     "text": [
      "time: 11.7 ms (started: 2021-11-15 11:58:00 +01:00)\n"
     ]
    }
   ],
   "source": [
    "high_volatility = train_data[\n",
    "    (train_data[\"EURUSD_volatility_binary\"] == 1) & \n",
    "    (train_data[\"GBPUSD_volatility_binary\"] == 1) & \n",
    "    (train_data[\"USDCAD_volatility_binary\"] == 1) & \n",
    "    (train_data[\"USDJPY_volatility_binary\"] == 1)\n",
    "]\n",
    "compute_annualized_volatility(high_volatility)"
   ]
  },
  {
   "cell_type": "code",
   "execution_count": 89,
   "metadata": {},
   "outputs": [
    {
     "data": {
      "text/plain": [
       "(<Figure size 3300x3300 with 6 Axes>,\n",
       " array([[<AxesSubplot:title={'center':'EURUSD/GBPUSD'}>,\n",
       "         <AxesSubplot:title={'center':'EURUSD/USDJPY'}>],\n",
       "        [<AxesSubplot:title={'center':'EURUSD/USDCAD'}>,\n",
       "         <AxesSubplot:title={'center':'GBPUSD/USDJPY'}>],\n",
       "        [<AxesSubplot:title={'center':'GBPUSD/USDCAD'}>,\n",
       "         <AxesSubplot:title={'center':'USDJPY/USDCAD'}>]], dtype=object))"
      ]
     },
     "execution_count": 89,
     "metadata": {},
     "output_type": "execute_result"
    },
    {
     "data": {
      "text/plain": [
       "<Figure size 3300x3300 with 6 Axes>"
      ]
     },
     "metadata": {},
     "output_type": "display_data"
    },
    {
     "name": "stdout",
     "output_type": "stream",
     "text": [
      "time: 5.87 s (started: 2021-11-15 19:02:07 +01:00)\n"
     ]
    }
   ],
   "source": [
    "from qbm.plotting import plot_tail_concentrations\n",
    "dfs = {\n",
    "    \"Data\": log_returns,\n",
    "}\n",
    "plot_tail_concentrations(dfs, combinations)"
   ]
  }
 ],
 "metadata": {
  "interpreter": {
   "hash": "23986ce38b171527f2e0dc81cc67736e49ea0511ca5d457d20f25692d0f172ac"
  },
  "kernelspec": {
   "display_name": "Python 3 (ipykernel)",
   "language": "python",
   "name": "python3"
  },
  "language_info": {
   "codemirror_mode": {
    "name": "ipython",
    "version": 3
   },
   "file_extension": ".py",
   "mimetype": "text/x-python",
   "name": "python",
   "nbconvert_exporter": "python",
   "pygments_lexer": "ipython3",
   "version": "3.9.7"
  },
  "toc-autonumbering": false
 },
 "nbformat": 4,
 "nbformat_minor": 4
}