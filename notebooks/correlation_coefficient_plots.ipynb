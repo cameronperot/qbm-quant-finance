{
 "cells": [
  {
   "cell_type": "markdown",
   "metadata": {},
   "source": [
    "# Correlation Coefficient Plots"
   ]
  },
  {
   "cell_type": "code",
   "execution_count": 1,
   "metadata": {},
   "outputs": [
    {
     "name": "stdout",
     "output_type": "stream",
     "text": [
      "time: 402 ms (started: 2022-04-03 17:30:38 +02:00)\n"
     ]
    }
   ],
   "source": [
    "%load_ext autoreload\n",
    "%autoreload 2\n",
    "%load_ext autotime\n",
    "\n",
    "import matplotlib.pyplot as plt\n",
    "import matplotlib\n",
    "import numpy as np\n",
    "import pandas as pd\n",
    "\n",
    "from qbm.utils import get_project_dir\n",
    "\n",
    "project_dir = get_project_dir()\n",
    "\n",
    "matplotlib.rcParams.update({'font.size': 14})"
   ]
  },
  {
   "cell_type": "code",
   "execution_count": 2,
   "metadata": {},
   "outputs": [
    {
     "data": {
      "text/plain": [
       "<Figure size 3450x2400 with 6 Axes>"
      ]
     },
     "metadata": {
      "needs_background": "light"
     },
     "output_type": "display_data"
    },
    {
     "name": "stdout",
     "output_type": "stream",
     "text": [
      "time: 1.28 s (started: 2022-04-03 17:30:38 +02:00)\n"
     ]
    }
   ],
   "source": [
    "ccs = pd.read_csv(\n",
    "    project_dir / \"results/data/rbm/correlation_coefficients.csv\", index_col=\"currency_pairs\"\n",
    ")\n",
    "model_prefixes = [\"B\", \"X\", \"V\", \"XV\"]\n",
    "cc_names = [\"Pearson\", \"Spearman\", \"Kendall\"]\n",
    "\n",
    "fig, axs = plt.subplots(2, 3, figsize=(11.5, 8), dpi=300)\n",
    "\n",
    "markers = [\"^\", \"<\", \"v\", \">\"]\n",
    "colors = [\"tab:blue\", \"tab:orange\", \"tab:red\", \"tab:green\"]\n",
    "for currency_pair, ax in zip(ccs.index, axs.flatten()):\n",
    "    data_ = [ccs.loc[currency_pair, f\"B_{cc_name}_data\"] for cc_name in cc_names]\n",
    "    ax.set_title(currency_pair)\n",
    "    ax.set_xticks(ticks=range(3))\n",
    "    ax.set_xlim((-0.5, 2.5))\n",
    "    ax.set_xticklabels(labels=cc_names)\n",
    "    for i, model_prefix in enumerate(model_prefixes):\n",
    "        means_ = [\n",
    "            ccs.loc[currency_pair, f\"{model_prefix}_{cc_name}_mean\"]\n",
    "            for cc_name in cc_names\n",
    "        ]\n",
    "        stds_ = [\n",
    "            ccs.loc[currency_pair, f\"{model_prefix}_{cc_name}_std\"]\n",
    "            for cc_name in cc_names\n",
    "        ]\n",
    "        ax.errorbar(\n",
    "            range(3),\n",
    "            means_,\n",
    "            yerr=stds_,\n",
    "            label=f\"RBM ({model_prefix})\",\n",
    "            markersize=8,\n",
    "            linewidth=1.8,\n",
    "            capsize=6,\n",
    "            fmt=markers[i],\n",
    "            color=colors[i],\n",
    "        )\n",
    "    ax.grid()\n",
    "    ax.scatter(range(3), data_, c=\"k\", marker=\"o\", s=64, label=\"Data Set\")\n",
    "axs[0, 0].legend()\n",
    "axs[0, 0].set_yticks(np.arange(0.3, 0.65, 0.1))\n",
    "axs[0, 0].set_ylim((0.25, 0.65))\n",
    "axs[0, 1].set_yticks(-np.arange(0.2, 0.55, 0.05))\n",
    "axs[0, 1].set_ylim((-0.475, -0.2125))\n",
    "axs[0, 2].set_yticks(-np.arange(0.15, 0.4, 0.05))\n",
    "axs[0, 2].set_ylim((-0.325, -0.125))\n",
    "axs[1, 0].set_yticks(-np.arange(0.15, 0.45, 0.05))\n",
    "axs[1, 0].set_ylim((-0.43, -0.175))\n",
    "axs[1, 1].set_yticks(-np.arange(0.1, 0.25, 0.02))\n",
    "axs[1, 1].set_ylim((-0.215, -0.11))\n",
    "axs[1, 2].set_yticks(np.arange(0, 0.09, 0.02))\n",
    "axs[1, 2].set_ylim((-0.01, 0.09))\n",
    "plt.tight_layout()\n",
    "plt.savefig(project_dir / \"results/plots/rbm/correlation_coefficients.png\")"
   ]
  },
  {
   "cell_type": "code",
   "execution_count": 3,
   "metadata": {},
   "outputs": [
    {
     "data": {
      "text/plain": [
       "<Figure size 3450x2400 with 6 Axes>"
      ]
     },
     "metadata": {
      "needs_background": "light"
     },
     "output_type": "display_data"
    },
    {
     "name": "stdout",
     "output_type": "stream",
     "text": [
      "time: 1.16 s (started: 2022-04-03 17:30:40 +02:00)\n"
     ]
    }
   ],
   "source": [
    "ccs = pd.read_csv(\n",
    "    project_dir / \"results/data/qbm/correlation_coefficients.csv\", index_col=\"currency_pairs\"\n",
    ")\n",
    "model_prefixes = [\"bqrbm\", \"rbm\"]\n",
    "cc_names = [\"Pearson\", \"Spearman\", \"Kendall\"]\n",
    "\n",
    "fig, axs = plt.subplots(2, 3, figsize=(11.5, 8), dpi=300)\n",
    "\n",
    "markers = [\"^\", \"<\"]\n",
    "colors = [\"tab:red\", \"tab:blue\"]\n",
    "for currency_pair, ax in zip(ccs.index, axs.flatten()):\n",
    "    data_ = [ccs.loc[currency_pair, f\"Data_{cc_name}\"] for cc_name in cc_names]\n",
    "    ax.set_title(currency_pair)\n",
    "    ax.set_xticks(ticks=range(3))\n",
    "    ax.set_xlim((-0.5, 2.5))\n",
    "    ax.set_xticklabels(labels=cc_names)\n",
    "    for i, model_prefix in enumerate(model_prefixes):\n",
    "        means_ = [\n",
    "            ccs.loc[currency_pair, f\"{model_prefix}_{cc_name}_mean\"]\n",
    "            for cc_name in cc_names\n",
    "        ]\n",
    "        stds_ = [\n",
    "            ccs.loc[currency_pair, f\"{model_prefix}_{cc_name}_std\"]\n",
    "            for cc_name in cc_names\n",
    "        ]\n",
    "        ax.errorbar(\n",
    "            range(3),\n",
    "            means_,\n",
    "            yerr=stds_,\n",
    "            label=f\"{model_prefix.upper()}\",\n",
    "            markersize=8,\n",
    "            linewidth=1.8,\n",
    "            capsize=6,\n",
    "            fmt=markers[i],\n",
    "            color=colors[i],\n",
    "        )\n",
    "    ax.grid()\n",
    "    ax.scatter(range(3), data_, c=\"k\", marker=\"o\", s=64, label=\"Data Set\")\n",
    "axs[0, 0].legend(loc=\"lower left\")\n",
    "axs[0, 0].set_yticks(np.arange(0.3, 0.65, 0.1))\n",
    "axs[0, 0].set_ylim((0.25, 0.65))\n",
    "axs[0, 1].set_yticks(-np.arange(0.2, 0.55, 0.1))\n",
    "axs[0, 1].set_ylim((-0.55, -0.15))\n",
    "axs[0, 2].set_yticks(-np.arange(0.1, 0.4, 0.05))\n",
    "axs[0, 2].set_ylim((-0.325, -0.075))\n",
    "axs[1, 0].set_yticks(-np.arange(0.15, 0.45, 0.05))\n",
    "axs[1, 0].set_ylim((-0.43, -0.165))\n",
    "axs[1, 1].set_yticks(-np.arange(0, 0.25, 0.025))\n",
    "axs[1, 1].set_ylim((-0.22, -0.08))\n",
    "axs[1, 2].set_yticks(np.arange(0, 0.09, 0.02))\n",
    "axs[1, 2].set_ylim((-0.01, 0.09))\n",
    "plt.tight_layout()\n",
    "plt.savefig(project_dir / \"results/plots/qbm/log_returns/correlation_coefficients.png\")"
   ]
  }
 ],
 "metadata": {
  "interpreter": {
   "hash": "23986ce38b171527f2e0dc81cc67736e49ea0511ca5d457d20f25692d0f172ac"
  },
  "kernelspec": {
   "display_name": "Python 3 (ipykernel)",
   "language": "python",
   "name": "python3"
  },
  "language_info": {
   "codemirror_mode": {
    "name": "ipython",
    "version": 3
   },
   "file_extension": ".py",
   "mimetype": "text/x-python",
   "name": "python",
   "nbconvert_exporter": "python",
   "pygments_lexer": "ipython3",
   "version": "3.9.7"
  },
  "toc-autonumbering": false
 },
 "nbformat": 4,
 "nbformat_minor": 4
}