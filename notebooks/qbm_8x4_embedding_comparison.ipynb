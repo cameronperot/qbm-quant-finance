{
 "cells": [
  {
   "cell_type": "markdown",
   "id": "0fb62c48-2177-49aa-a2e0-e6ab4960fd30",
   "metadata": {},
   "source": [
    "# Sample Analysis"
   ]
  },
  {
   "cell_type": "code",
   "execution_count": 1,
   "id": "5660c694-9943-4078-8345-64acd3cec43e",
   "metadata": {
    "tags": []
   },
   "outputs": [
    {
     "name": "stdout",
     "output_type": "stream",
     "text": [
      "time: 1.58 s (started: 2022-02-24 12:16:07 +01:00)\n"
     ]
    }
   ],
   "source": [
    "%load_ext autoreload\n",
    "%autoreload 2\n",
    "%load_ext autotime\n",
    "%load_ext line_profiler\n",
    "\n",
    "from joblib import Parallel, delayed\n",
    "\n",
    "import matplotlib.pyplot as plt\n",
    "import numpy as np\n",
    "import pandas as pd\n",
    "import seaborn as sns\n",
    "from dwave.system import DWaveSampler, FixedEmbeddingComposite\n",
    "from matplotlib.patches import Rectangle\n",
    "from numba import njit\n",
    "from scipy.constants import k as k_B, h as h_P\n",
    "\n",
    "k_B /= h_P * 1e9\n",
    "\n",
    "from qbm.utils import (\n",
    "    compute_stats_over_dfs,\n",
    "    convert_bin_list_to_str,\n",
    "    get_project_dir,\n",
    "    get_rng,\n",
    "    load_artifact,\n",
    "    save_artifact,\n",
    ")\n",
    "\n",
    "project_dir = get_project_dir()"
   ]
  },
  {
   "cell_type": "markdown",
   "id": "549de356-cbf7-4300-bff5-5a1d61107eab",
   "metadata": {
    "tags": []
   },
   "source": [
    "## Analysis functions"
   ]
  },
  {
   "cell_type": "code",
   "execution_count": 2,
   "id": "016dfb81-ea40-4a8d-972b-21997e1c825c",
   "metadata": {
    "tags": []
   },
   "outputs": [
    {
     "name": "stdout",
     "output_type": "stream",
     "text": [
      "time: 20.3 ms (started: 2022-02-24 12:16:08 +01:00)\n"
     ]
    }
   ],
   "source": [
    "@njit(boundscheck=True)\n",
    "def kl_divergence(\n",
    "    p_exact,\n",
    "    E_exact,\n",
    "    E_sample,\n",
    "    counts_sample,\n",
    "    n_bins=32,\n",
    "    prob_sum_tol=1e-6,\n",
    "    \u03f5_smooth=1e-6,\n",
    "):\n",
    "    \"\"\"\n",
    "    Computes the KL divergence of the theory w.r.t. the sample, i.e., \n",
    "    D_KL(p_exact || p_sample).\n",
    "    \n",
    "    :param p_exact: Exact computed probability vector, i.e., the diagonal of \u03c1.\n",
    "    :param E_exact: Exact computed energy vector, i.e., the diagonal of H.\n",
    "    :param E_sample: Energies of the sample.\n",
    "    :param n_bins: Number of bins to compute over.\n",
    "    :param prob_sum_tol: The tolerance for the probabilities to sum up to approx 1.\n",
    "    :param \u03f5_smooth: Smoothing parameter for the sample distribution.\n",
    "    \n",
    "    :returns: D_KL(p_exact || p_sample).\n",
    "    \"\"\"\n",
    "    p = np.zeros(n_bins)\n",
    "    q = np.zeros(n_bins)\n",
    "    \n",
    "    # compute the bin edges\n",
    "    buffer = np.abs(E_exact).max() * 1e-15\n",
    "    bin_edges = np.linspace(E_exact.min() - buffer, E_exact.max() + buffer, n_bins + 1)\n",
    "    \n",
    "    # check that bin edges include all possible E values\n",
    "    assert bin_edges.min() <= E_exact.min()\n",
    "    assert bin_edges.max() >= E_exact.max()\n",
    "    \n",
    "    # bin the probabilities\n",
    "    sum_counts = counts_sample.sum()\n",
    "    for i, (a, b) in enumerate(zip(bin_edges[:-1], bin_edges[1:])):\n",
    "        if i < n_bins - 1:\n",
    "            p[i] = p_exact[np.logical_and(E_exact >= a, E_exact < b)].sum()\n",
    "            q[i] = (\n",
    "                counts_sample[np.logical_and(E_sample >= a, E_sample < b)].sum()\n",
    "                / sum_counts\n",
    "            )\n",
    "        else:\n",
    "            p[i] = p_exact[E_exact >= a].sum()\n",
    "            q[i] = counts_sample[E_sample >= a].sum() / sum_counts\n",
    "\n",
    "    # smoothing of sample data\n",
    "    smooth_mask = np.logical_and(p > 0, q == 0)\n",
    "    not_smooth_mask = np.logical_not(smooth_mask)\n",
    "    q[smooth_mask] = p[smooth_mask] * \u03f5_smooth\n",
    "    q[not_smooth_mask] -= q[smooth_mask].sum() / not_smooth_mask.sum()\n",
    "\n",
    "    # check that p and q sum up to approx 1\n",
    "    assert np.abs(p.sum() - 1) < prob_sum_tol\n",
    "    assert np.abs(q.sum() - 1) < prob_sum_tol\n",
    "\n",
    "    # take intersection of supports to avoid div zero errors\n",
    "    support_intersection = np.logical_and(p > 0, q > 0)\n",
    "    p = p[support_intersection]\n",
    "    q = q[support_intersection]\n",
    "\n",
    "    return (p * np.log(p / q)).sum()\n",
    "\n",
    "\n",
    "@njit(boundscheck=True)\n",
    "def get_state_energies(states, E_exact):\n",
    "    \"\"\"\n",
    "    Returns the (quantum + classical) energies of the provided states corresponding\n",
    "    to the provided exact calculated energies.\n",
    "    \n",
    "    :param states: Array of states. Must be a value in 0, 1, ..., 2 ** n_qubits - 1.\n",
    "    :param E_exact: Array of exact computed energies, corresponds to the diagonal of H.\n",
    "    \n",
    "    :returns: Array where entry i is the energy of states[i].\n",
    "    \"\"\"\n",
    "    E_sample = np.zeros(len(states))\n",
    "    for i, state in enumerate(states):\n",
    "        E_sample[i] = E_exact[state]\n",
    "\n",
    "    return E_sample\n",
    "\n",
    "\n",
    "def convert_spin_vector_to_state_number(spins):\n",
    "    \"\"\"\n",
    "    Converts the spins vector (e.g. all values \u00b11) to an integer corresponding to the state.\n",
    "    For example, the spin vector [1, 1, 1, 1] corresponds to the state |0000\u27e9 which is the\n",
    "    0th state. The spin vector [-1, -1, -1, -1] corresponds to the state |1111\u27e9 which is the\n",
    "    15th state.\n",
    "    \n",
    "    :param spins: Vector of spin values (\u00b11).\n",
    "    \n",
    "    :returns: Integer corresponding to the state. \n",
    "    \"\"\"\n",
    "    bit_vector = ((1 - spins) / 2).astype(np.int64)\n",
    "\n",
    "    return (bit_vector * 2 ** np.arange(len(spins) - 1, -1, -1)).sum()\n",
    "\n",
    "\n",
    "def kl_divergence_df(exact_data, sample):\n",
    "    \"\"\"\n",
    "    Compares each exact computed data distribution against the provided sample instance.\n",
    "    \n",
    "    :param exact_data: Dictionary with keys of the form (s, T) with s being the relative\n",
    "        anneal time at which H and \u03c1 were computed, and T being the effective temperature.\n",
    "        Values are of the form {\"E\": [...], \"p\": [...]}\n",
    "    :param sample: Instance of Ocean SDK SampleSet.\n",
    "    \n",
    "    :returns: Dataframe of KL divergences, with T values as index and s values as columns.\n",
    "    \"\"\"\n",
    "    # convert spin vectors to state numbers\n",
    "    states = np.array(\n",
    "        [convert_spin_vector_to_state_number(x) for x in sample.record.sample]\n",
    "    )\n",
    "\n",
    "    dkl = {}\n",
    "    for s, T in exact_data.keys():\n",
    "        p_exact = exact_data[(s, T)][\"p\"]\n",
    "        E_exact = exact_data[(s, T)][\"E\"]\n",
    "        E_sample = get_state_energies(states, E_exact)\n",
    "\n",
    "        dkl[int(T * 1000), s] = kl_divergence(\n",
    "            p_exact, E_exact, E_sample, sample.record.num_occurrences\n",
    "        )\n",
    "\n",
    "    return pd.Series(dkl)\n",
    "\n",
    "\n",
    "def process_run_gauge_dir(run, gauge_dir, exact_data):\n",
    "    \"\"\"\n",
    "    Helper function for processing the runs and computing the KL divergences\n",
    "    in parallel.\n",
    "    \n",
    "    :param run: Name of the run.\n",
    "    :param gauge_dir: Directory of the gauge data.\n",
    "    :param exact_data: Exact computed data to compare against.\n",
    "    \n",
    "    :returns: KL divergence dataframe.\n",
    "    \"\"\"\n",
    "    sample = load_artifact(gauge_dir / f\"{run}.pkl\")\n",
    "    dkl_df = kl_divergence_df(exact_data, sample)\n",
    "\n",
    "    return dkl_df"
   ]
  },
  {
   "cell_type": "markdown",
   "id": "3b37ec7b-41dc-49f4-8420-3948259849b4",
   "metadata": {},
   "source": [
    "## Data Loading"
   ]
  },
  {
   "cell_type": "code",
   "execution_count": 3,
   "id": "02f26312-e6bb-498d-a1e6-054814a23813",
   "metadata": {
    "tags": []
   },
   "outputs": [
    {
     "name": "stdout",
     "output_type": "stream",
     "text": [
      "time: 358 ms (started: 2022-02-24 12:16:08 +01:00)\n"
     ]
    }
   ],
   "source": [
    "config_id = 2\n",
    "n_jobs = 6\n",
    "best_embedding_id = 5\n",
    "\n",
    "config_dir = project_dir / f\"artifacts/exact_analysis/{config_id:02}/\"\n",
    "embedding_dirs = sorted([x for x in (config_dir / \"samples\").iterdir()])\n",
    "\n",
    "config = load_artifact(config_dir / \"config.json\")\n",
    "exact_data = load_artifact(config_dir / \"exact_data.pkl\")\n",
    "\n",
    "gauge_dirs = sorted(\n",
    "    [x for x in embedding_dirs[best_embedding_id - 1].iterdir() if x.name.startswith(\"gauge_\")]\n",
    ")\n",
    "run_names = sorted([x.stem for x in gauge_dirs[0].iterdir() if x.name != \"gauge.pkl\"])\n",
    "\n",
    "run_infos = {}\n",
    "t_as = []\n",
    "s_pauses = []\n",
    "anneal_durations = []\n",
    "pause_durations = []\n",
    "for run_name in run_names:\n",
    "    run_info = {x.split(\"=\")[0]: x.split(\"=\")[1] for x in run_name.split(\"-\")}\n",
    "    for k, v in run_info.items():\n",
    "        if k in (\"t_pause\", \"s_pause\", \"pause_duration\", \"quench_slope\"):\n",
    "            run_info[k] = float(v)\n",
    "    for k, v in run_info.items():\n",
    "        if k in (\"reverse\", \"reinit\") and v == \"True\":\n",
    "            run_info[k] = True\n",
    "        elif k in (\"reverse\", \"reinit\") and v == \"False\":\n",
    "            run_info[k] = False\n",
    "\n",
    "    if \"reverse\" in run_info:\n",
    "        run_info[\"t_a\"] = round(run_info[\"t_pause\"] / (1 - run_info[\"s_pause\"]), 1)\n",
    "    else:\n",
    "        run_info[\"reverse\"] = False\n",
    "        run_info[\"reinit\"] = True\n",
    "        run_info[\"t_a\"] = round(run_info[\"t_pause\"] / run_info[\"s_pause\"], 1)\n",
    "    run_infos[run_name] = run_info\n",
    "\n",
    "    if run_info[\"t_a\"] not in t_as:\n",
    "        t_as.append(run_info[\"t_a\"])\n",
    "\n",
    "    if run_info[\"s_pause\"] not in s_pauses:\n",
    "        s_pauses.append(run_info[\"s_pause\"])\n",
    "\n",
    "    if run_info[\"pause_duration\"] not in pause_durations:\n",
    "        pause_durations.append(run_info[\"pause_duration\"])\n",
    "\n",
    "t_as = sorted(t_as)\n",
    "s_pauses = sorted(s_pauses)\n",
    "pause_durations = sorted(pause_durations)\n",
    "anneal_durations = sorted(anneal_durations)\n",
    "\n",
    "t_as = [x for x in t_as if x != 10]\n",
    "run_names_ = []\n",
    "run_names_best_embedding = []\n",
    "for run_name in run_names:\n",
    "    run_info = run_infos[run_name]\n",
    "    if (\n",
    "        round(run_info[\"s_pause\"] * 100) % 5 == 0\n",
    "        and run_info[\"pause_duration\"] == 0\n",
    "        and run_info[\"t_a\"] == 20\n",
    "        and not run_info[\"reverse\"]\n",
    "    ):\n",
    "        run_names_.append(run_name)\n",
    "    if (\n",
    "        run_info[\"pause_duration\"] == 0\n",
    "        and run_info[\"t_a\"] == 20\n",
    "        and not run_info[\"reverse\"]\n",
    "    ):\n",
    "        run_names_best_embedding.append(run_name)\n",
    "        \n",
    "run_names_best_embedding = sorted(run_names_best_embedding, key=lambda x: run_infos[x][\"s_pause\"])\n",
    "run_infos_best_embedding = {k: v for k, v in run_infos.items() if k in run_names_best_embedding}\n",
    "run_names = sorted(run_names_, key=lambda x: run_infos[x][\"s_pause\"])\n",
    "run_infos = {k: v for k, v in run_infos.items() if k in run_names}"
   ]
  },
  {
   "cell_type": "markdown",
   "id": "ac237732-ca63-46f2-b919-8ce27b30757a",
   "metadata": {},
   "source": [
    "## KL Divergence Computations"
   ]
  },
  {
   "cell_type": "code",
   "execution_count": 4,
   "id": "d5bafaff-ca1d-4cb0-9740-12e6fa964ba4",
   "metadata": {
    "tags": []
   },
   "outputs": [
    {
     "name": "stdout",
     "output_type": "stream",
     "text": [
      "time: 680 ms (started: 2022-02-24 12:16:09 +01:00)\n"
     ]
    }
   ],
   "source": [
    "compute_kl_divergences = False\n",
    "dkls_file_path = config_dir / \"kl_divergences_embedding_comparison.pkl\"\n",
    "if not dkls_file_path.exists() or compute_kl_divergences:\n",
    "    dkls_embeddings = {}\n",
    "    for embedding_dir in embedding_dirs:\n",
    "        embedding_id = int(embedding_dir.name.split(\"_\")[-1])\n",
    "        gauge_dirs = sorted(\n",
    "            [x for x in embedding_dir.iterdir() if x.name.startswith(\"gauge_\")]\n",
    "        )\n",
    "\n",
    "        dkls_embeddings[embedding_id] = {}\n",
    "        for run_name in run_names:\n",
    "            if run_name not in dkls_embeddings[embedding_id]:\n",
    "                dkl_dfs = Parallel(n_jobs=n_jobs)(\n",
    "                    delayed(process_run_gauge_dir)(run_name, gauge_dir, exact_data)\n",
    "                    for gauge_dir in gauge_dirs\n",
    "                )\n",
    "                dkls_embeddings[embedding_id][run_name] = compute_stats_over_dfs(\n",
    "                    dkl_dfs\n",
    "                )\n",
    "\n",
    "    save_artifact(dkls_embeddings, dkls_file_path)\n",
    "else:\n",
    "    dkls_embeddings = load_artifact(dkls_file_path)\n",
    "\n",
    "dkls_best_file_path = config_dir / \"kl_divergences_best_embedding.pkl\"\n",
    "if not dkls_best_file_path.exists() or compute_kl_divergences:\n",
    "    dkls_best_embedding = {}\n",
    "    embedding_dir = [\n",
    "        x for x in embedding_dirs if str(x).endswith(f\"embedding_{best_embedding_id:02}\")\n",
    "    ][0]\n",
    "    gauge_dirs = sorted(\n",
    "        [x for x in embedding_dir.iterdir() if x.name.startswith(\"gauge_\")]\n",
    "    )\n",
    "\n",
    "    for run_name in run_names_best_embedding:\n",
    "        if run_name not in dkls_best_embedding:\n",
    "            dkl_dfs = Parallel(n_jobs=n_jobs)(\n",
    "                delayed(process_run_gauge_dir)(run_name, gauge_dir, exact_data)\n",
    "                for gauge_dir in gauge_dirs\n",
    "            )\n",
    "            dkls_best_embedding[run_name] = compute_stats_over_dfs(dkl_dfs)\n",
    "\n",
    "    save_artifact(dkls_best_embedding, dkls_best_file_path)\n",
    "else:\n",
    "    dkls_best_embedding = load_artifact(dkls_best_file_path)"
   ]
  },
  {
   "cell_type": "markdown",
   "id": "f61efbe2-5706-47f3-99d3-3b73fca147c9",
   "metadata": {
    "tags": []
   },
   "source": [
    "## KL Divergence Min Value Plots"
   ]
  },
  {
   "cell_type": "code",
   "execution_count": 9,
   "id": "1cd250c3-f899-449d-811a-499962b8eec1",
   "metadata": {
    "tags": []
   },
   "outputs": [
    {
     "data": {
      "text/plain": [
       "<Figure size 3000x1800 with 1 Axes>"
      ]
     },
     "metadata": {
      "needs_background": "light"
     },
     "output_type": "display_data"
    },
    {
     "name": "stdout",
     "output_type": "stream",
     "text": [
      "time: 1.18 s (started: 2022-02-24 12:16:41 +01:00)\n"
     ]
    }
   ],
   "source": [
    "plot_dir_dkl_min = project_dir / f\"results/plots/qbm/8x4/embedding_comparison\"\n",
    "if not plot_dir_dkl_min.exists():\n",
    "    plot_dir_dkl_min.mkdir(parents=True)\n",
    "\n",
    "\u03b1_quench = 2.0\n",
    "fig, ax = plt.subplots(figsize=(10, 6), dpi=300)\n",
    "# ax.set_title(r\"$t_a = 20$ \u03bcs, $\\Delta_{{pause}} = 0$ \u03bcs, $\\alpha_{{quench}} = 2$, $h_i, J_{ij} \\sim \\mathcal{N}(0, 0.1)$\")\n",
    "ax.set_xlabel(r\"$s_{{quench}}$\")\n",
    "ax.set_ylabel(r\"$\\min_{s,T}\\{D_{KL}(p_{exact} \\ || \\ p_{sample})\\}$\")\n",
    "markers = [\"o\", \"^\", \"v\", \"<\", \">\", \"s\", \"p\", \"*\", \"P\", \"X\"]\n",
    "colors = [\n",
    "    \"tab:blue\",\n",
    "    \"tab:orange\",\n",
    "    \"tab:green\",\n",
    "    \"tab:red\",\n",
    "    \"tab:purple\",\n",
    "    \"tab:brown\",\n",
    "    \"tab:pink\",\n",
    "    \"tab:gray\",\n",
    "    \"tab:olive\",\n",
    "    \"tab:cyan\",\n",
    "]\n",
    "xs = []\n",
    "ys = []\n",
    "y_errs = []\n",
    "for embedding_id, dkls_embedding in dkls_embeddings.items():\n",
    "#     if embedding_id in (2, 7, 4, 6):\n",
    "#         continue\n",
    "    ax.set_xticks(np.arange(0.25, 1.05, 0.05))\n",
    "    ax.set_yticks(np.arange(0, 0.045, 0.005))\n",
    "    ax.set_ylim(0, 0.04)\n",
    "\n",
    "    x = []\n",
    "    y = []\n",
    "    y_err = []\n",
    "#     print(embedding_id)\n",
    "    for run_name in run_names:\n",
    "        if round(run_infos[run_name][\"s_pause\"] * 100) % 5 != 0:\n",
    "            continue\n",
    "#         print(run_name)\n",
    "        x.append(run_infos[run_name][\"s_pause\"])\n",
    "        argmin = np.argmin(dkls_embedding[run_name][\"means\"])\n",
    "        y.append(dkls_embedding[run_name][\"means\"].iloc[argmin])\n",
    "        y_err.append(dkls_embedding[run_name][\"stds\"].iloc[argmin])\n",
    "#         print(dkls_embedding[run_name][\"means\"].index[argmin])\n",
    "\n",
    "#         dkl_means = dkls_embedding[run_name][\"means\"].copy()\n",
    "#         dkl_stds = dkls_embedding[run_name][\"stds\"].copy()\n",
    "#         dkl_means.index = pd.MultiIndex.from_tuples(dkl_means.index)\n",
    "#         dkl_stds.index = pd.MultiIndex.from_tuples(dkl_stds.index)\n",
    "#         dkl_means = dkl_means.unstack(level=-1)[1.0]\n",
    "#         dkl_stds = dkl_stds.unstack(level=-1)[1.0]\n",
    "#         argmin = np.argmin(dkl_means)\n",
    "#         print(y[-1] - dkl_means.iloc[argmin])\n",
    "        \n",
    "    x = np.array(x)\n",
    "    y = np.array(y)\n",
    "    y_err = np.array(y_err)\n",
    "    ys.append(y)\n",
    "    y_errs.append(y_err)\n",
    "    \n",
    "    label = fr\"Embedding {embedding_id}\"\n",
    "    ax.fill_between(x, y - y_err, y + y_err, interpolate=True, color=colors[embedding_id-1], alpha=0.10)\n",
    "    ax.plot(\n",
    "        x,\n",
    "        y,\n",
    "        marker=markers[embedding_id - 1],\n",
    "        markersize=10,\n",
    "        linewidth=1.2,\n",
    "        label=label,\n",
    "        color=colors[embedding_id - 1],\n",
    "    )\n",
    "\n",
    "ys = np.vstack(ys)\n",
    "y_errs = np.vstack(y_errs)\n",
    "y = np.mean(ys, axis=0)\n",
    "y_err = np.sqrt(np.sum(y_errs ** 2, axis=0) / (len(y_errs) - 1))\n",
    "\n",
    "ax.fill_between(x, y - y_err, y + y_err, interpolate=True, color=\"k\", alpha=0.10)\n",
    "ax.plot(\n",
    "    x,\n",
    "    y,\n",
    "    marker=\"d\",\n",
    "    markersize=10,\n",
    "    linewidth=1.2,\n",
    "    linestyle=\"--\",\n",
    "    label=\"Average\",\n",
    "    fillstyle=\"none\",\n",
    "    mew=2,\n",
    "    color=\"k\",\n",
    ")\n",
    "\n",
    "ax.grid(True)\n",
    "ax.legend(ncol=2)\n",
    "plt.tight_layout()\n",
    "plt.savefig(plot_dir_dkl_min / f\"kl_divergence_mins.png\")"
   ]
  },
  {
   "cell_type": "code",
   "execution_count": 10,
   "id": "cffefe16-6768-46e4-b2e5-a7a913ca65d5",
   "metadata": {
    "tags": []
   },
   "outputs": [
    {
     "data": {
      "text/plain": [
       "<Figure size 3000x1800 with 1 Axes>"
      ]
     },
     "metadata": {
      "needs_background": "light"
     },
     "output_type": "display_data"
    },
    {
     "name": "stdout",
     "output_type": "stream",
     "text": [
      "time: 967 ms (started: 2022-02-24 12:16:44 +01:00)\n"
     ]
    }
   ],
   "source": [
    "plot_dir_dkl_min = project_dir / f\"results/plots/qbm/8x4/embedding_comparison\"\n",
    "if not plot_dir_dkl_min.exists():\n",
    "    plot_dir_dkl_min.mkdir(parents=True)\n",
    "\n",
    "\u03b1_quench = 2.0\n",
    "fig, ax = plt.subplots(figsize=(10, 6), dpi=300)\n",
    "# ax.set_title(r\"$t_a = 20$ \u03bcs, $\\Delta_{{pause}} = 0$ \u03bcs, $\\alpha_{{quench}} = 2$, $h_i, J_{ij} \\sim \\mathcal{N}(0, 0.1)$\")\n",
    "ax.set_xlabel(r\"$s_{{quench}}$\")\n",
    "ax.set_ylabel(r\"$\\min_{s,T}\\{D_{KL}(p_{exact} \\ || \\ p_{sample})\\}$\")\n",
    "markers = [\"o\", \"^\", \"v\", \"<\", \">\", \"s\", \"p\", \"*\", \"P\", \"X\"]\n",
    "colors = [\n",
    "    \"tab:blue\",\n",
    "    \"tab:orange\",\n",
    "    \"tab:green\",\n",
    "    \"tab:red\",\n",
    "    \"tab:purple\",\n",
    "    \"tab:brown\",\n",
    "    \"tab:pink\",\n",
    "    \"tab:gray\",\n",
    "    \"tab:olive\",\n",
    "    \"tab:cyan\",\n",
    "]\n",
    "xs = []\n",
    "ys = []\n",
    "y_errs = []\n",
    "for embedding_id, dkls_embedding in dkls_embeddings.items():\n",
    "    if embedding_id in (2, 7, 4, 6):\n",
    "        continue\n",
    "    ax.set_xticks(np.arange(0.25, 1.05, 0.05))\n",
    "    ax.set_yticks(np.arange(0, 0.045, 0.005))\n",
    "    ax.set_ylim(0, 0.04)\n",
    "\n",
    "    x = []\n",
    "    y = []\n",
    "    y_err = []\n",
    "    for run_name in run_names:\n",
    "        if round(run_infos[run_name][\"s_pause\"] * 100) % 5 != 0:\n",
    "            continue\n",
    "        x.append(run_infos[run_name][\"s_pause\"])\n",
    "        argmin = np.argmin(dkls_embedding[run_name][\"means\"])\n",
    "        y.append(dkls_embedding[run_name][\"means\"].iloc[argmin])\n",
    "        y_err.append(dkls_embedding[run_name][\"stds\"].iloc[argmin])\n",
    "\n",
    "    x = np.array(x)\n",
    "    y = np.array(y)\n",
    "    y_err = np.array(y_err)\n",
    "    ys.append(y)\n",
    "    y_errs.append(y_err)\n",
    "    \n",
    "    label = fr\"Embedding {embedding_id}\"\n",
    "    ax.fill_between(x, y - y_err, y + y_err, interpolate=True, color=colors[embedding_id-1], alpha=0.10)\n",
    "    ax.plot(\n",
    "        x,\n",
    "        y,\n",
    "        marker=markers[embedding_id - 1],\n",
    "        markersize=10,\n",
    "        linewidth=1.2,\n",
    "        label=label,\n",
    "        color=colors[embedding_id - 1],\n",
    "    )\n",
    "\n",
    "ys = np.vstack(ys)\n",
    "y_errs = np.vstack(y_errs)\n",
    "y = np.mean(ys, axis=0)\n",
    "y_err = np.sqrt(np.sum(y_errs ** 2, axis=0) / (len(y_errs) - 1))\n",
    "\n",
    "ax.fill_between(x, y - y_err, y + y_err, interpolate=True, color=\"k\", alpha=0.10)\n",
    "ax.plot(\n",
    "    x,\n",
    "    y,\n",
    "    marker=\"d\",\n",
    "    markersize=10,\n",
    "    linewidth=1.2,\n",
    "    linestyle=\"--\",\n",
    "    label=\"Average\",\n",
    "    fillstyle=\"none\",\n",
    "    mew=2,\n",
    "    color=\"k\",\n",
    ")\n",
    "\n",
    "ax.grid(True)\n",
    "ax.legend(ncol=2)\n",
    "plt.tight_layout()\n",
    "plt.savefig(plot_dir_dkl_min / f\"kl_divergence_mins_subset.png\")"
   ]
  },
  {
   "cell_type": "code",
   "execution_count": 11,
   "id": "ce6833f0-889e-4524-aba8-4d574cc89c89",
   "metadata": {
    "tags": []
   },
   "outputs": [
    {
     "data": {
      "text/plain": [
       "<Figure size 3000x1800 with 1 Axes>"
      ]
     },
     "metadata": {
      "needs_background": "light"
     },
     "output_type": "display_data"
    },
    {
     "name": "stdout",
     "output_type": "stream",
     "text": [
      "time: 650 ms (started: 2022-02-24 12:16:46 +01:00)\n"
     ]
    }
   ],
   "source": [
    "fig, ax = plt.subplots(figsize=(10, 6), dpi=300)\n",
    "# ax.set_title(r\"$t_a = 20$ \u03bcs, $\\Delta_{{pause}} = 0$ \u03bcs, $\\alpha_{{quench}} = 2$, $h_i, J_{ij} \\sim \\mathcal{N}(0, 0.1)$\")\n",
    "ax.set_xlabel(r\"$s_{{quench}}$\")\n",
    "ax.set_ylabel(r\"$\\min_{s,T}\\{D_{KL}(p_{exact} \\ || \\ p_{sample})\\}$\")\n",
    "ax.set_xticks(np.arange(0.25, 1.05, 0.05))\n",
    "ax.set_yticks(np.arange(0, 0.03, 0.005))\n",
    "ax.set_ylim(0, 0.025)\n",
    "markers = [\"o\", \"^\", \"v\", \"<\", \">\", \"s\", \"p\", \"*\", \"P\", \"X\"]\n",
    "colors = [\n",
    "    \"tab:blue\",\n",
    "    \"tab:orange\",\n",
    "    \"tab:green\",\n",
    "    \"tab:red\",\n",
    "    \"tab:purple\",\n",
    "    \"tab:brown\",\n",
    "    \"tab:pink\",\n",
    "    \"tab:gray\",\n",
    "    \"tab:olive\",\n",
    "    \"tab:cyan\",\n",
    "]\n",
    "x = []\n",
    "y = []\n",
    "y_err = []\n",
    "for run_name, dkls_embedding in dkls_best_embedding.items():\n",
    "    run_info = run_infos_best_embedding[run_name]\n",
    "\n",
    "    x.append(run_info[\"s_pause\"])\n",
    "    argmin = np.argmin(dkls_embedding[\"means\"])\n",
    "    y.append(dkls_embedding[\"means\"].iloc[argmin])\n",
    "    y_err.append(dkls_embedding[\"stds\"].iloc[argmin])\n",
    "\n",
    "x = np.array(x)\n",
    "y = np.array(y)\n",
    "y_err = np.array(y_err)\n",
    "    \n",
    "label = fr\"Embedding {best_embedding_id}\"\n",
    "ax.fill_between(x, y - y_err, y + y_err, interpolate=True, color=colors[embedding_id-1], alpha=0.10)\n",
    "ax.plot(\n",
    "    x,\n",
    "    y,\n",
    "    marker=markers[best_embedding_id - 1],\n",
    "    markersize=10,\n",
    "    linewidth=1.2,\n",
    "    label=label,\n",
    "    color=colors[best_embedding_id - 1],\n",
    ")\n",
    "\n",
    "ax.grid(True)\n",
    "ax.legend(ncol=2)\n",
    "plt.tight_layout()\n",
    "plt.savefig(plot_dir_dkl_min / f\"kl_divergence_mins_best_embedding.png\")"
   ]
  },
  {
   "cell_type": "markdown",
   "id": "a7c2251b-fced-42fd-a32c-fc84049f0de4",
   "metadata": {
    "tags": []
   },
   "source": [
    "## $T_{\\text{optimal}}(s^*)$ Plot"
   ]
  },
  {
   "cell_type": "code",
   "execution_count": 12,
   "id": "3cc5b326-8858-4623-ba13-f77654d59a5d",
   "metadata": {
    "tags": []
   },
   "outputs": [
    {
     "data": {
      "text/plain": [
       "<Figure size 3000x1800 with 1 Axes>"
      ]
     },
     "metadata": {
      "needs_background": "light"
     },
     "output_type": "display_data"
    },
    {
     "name": "stdout",
     "output_type": "stream",
     "text": [
      "time: 1.17 s (started: 2022-02-24 12:16:49 +01:00)\n"
     ]
    }
   ],
   "source": [
    "plot_dir_dkl_min = project_dir / f\"results/plots/qbm/8x4/embedding_comparison\"\n",
    "if not plot_dir_dkl_min.exists():\n",
    "    plot_dir_dkl_min.mkdir(parents=True)\n",
    "\n",
    "\u03b1_quench = 2.0\n",
    "fig, ax = plt.subplots(figsize=(10, 6), dpi=300)\n",
    "ax.set_title(r\"Optimal Effective Temperature to Approximate Boltzmann Distribution at $s = 1$\")\n",
    "ax.set_xlabel(r\"$s_{{quench}}$\")\n",
    "ax.set_ylabel(r\"$T$ [mK]\")\n",
    "markers = [\"o\", \"^\", \"v\", \"<\", \">\", \"s\", \"p\", \"*\", \"P\", \"X\"]\n",
    "colors = [\n",
    "    \"tab:blue\",\n",
    "    \"tab:orange\",\n",
    "    \"tab:green\",\n",
    "    \"tab:red\",\n",
    "    \"tab:purple\",\n",
    "    \"tab:brown\",\n",
    "    \"tab:pink\",\n",
    "    \"tab:gray\",\n",
    "    \"tab:olive\",\n",
    "    \"tab:cyan\",\n",
    "]\n",
    "ys = []\n",
    "for embedding_id, dkls_embedding in dkls_embeddings.items():\n",
    "    ax.set_xticks(np.arange(0.25, 1.05, 0.05))\n",
    "\n",
    "    x = []\n",
    "    y = []\n",
    "    for run_name in run_names:\n",
    "        dkls_ = dkls_embedding[run_name][\"means\"].copy()\n",
    "        x.append(run_infos[run_name][\"s_pause\"])\n",
    "        argmin = np.argmin(dkls_)\n",
    "        dkls_.index = pd.MultiIndex.from_tuples(dkls_.index)\n",
    "        dkls_ = dkls_.unstack(level=-1)\n",
    "        dkls_1 = dkls_[1]\n",
    "        argmin = np.argmin(dkls_1)\n",
    "        y.append(dkls_.index[argmin])\n",
    "\n",
    "    x = np.array(x)\n",
    "    y = np.array(y)\n",
    "    ys.append(y)\n",
    "    \n",
    "    label = fr\"Embedding {embedding_id}\"\n",
    "    ax.plot(\n",
    "        x,\n",
    "        y,\n",
    "        marker=markers[embedding_id - 1],\n",
    "        markersize=10,\n",
    "        linewidth=1.2,\n",
    "        label=label,\n",
    "        color=colors[embedding_id - 1],\n",
    "    )\n",
    "\n",
    "ys = np.vstack(ys)\n",
    "y_errs = np.vstack(y_errs)\n",
    "y = np.mean(ys, axis=0)\n",
    "y_err = np.sqrt(np.sum(y_errs ** 2, axis=0) / (len(y_errs) - 1))\n",
    "\n",
    "ax.plot(\n",
    "    x,\n",
    "    y,\n",
    "    marker=\"d\",\n",
    "    markersize=10,\n",
    "    linewidth=1.2,\n",
    "    linestyle=\"--\",\n",
    "    label=\"Average\",\n",
    "    fillstyle=\"none\",\n",
    "    mew=2,\n",
    "    color=\"k\",\n",
    ")\n",
    "\n",
    "ax.grid(True)\n",
    "ax.legend(ncol=2)\n",
    "plt.tight_layout()\n",
    "plt.savefig(plot_dir_dkl_min / f\"optimal_distribution_temp.png\")"
   ]
  },
  {
   "cell_type": "markdown",
   "id": "f440ed39-e4e6-45a1-bb8b-40dbb72ca510",
   "metadata": {
    "tags": []
   },
   "source": [
    "## KL Divergence Heatmap"
   ]
  },
  {
   "cell_type": "code",
   "execution_count": 13,
   "id": "1c48d705-0d6c-4e0a-9655-bee35498a703",
   "metadata": {},
   "outputs": [
    {
     "name": "stdout",
     "output_type": "stream",
     "text": [
      "time: 4.15 ms (started: 2022-02-24 12:16:52 +01:00)\n"
     ]
    }
   ],
   "source": [
    "# load anneal schedule\n",
    "df_anneal = pd.read_csv(\n",
    "    project_dir\n",
    "    / \"data/anneal_schedules/csv/09-1265A-A_Advantage_system5_1_annealing_schedule.csv\",\n",
    "    index_col=\"s\",\n",
    ")\n",
    "if 0.5 not in df_anneal.index:\n",
    "    df_anneal.loc[0.5] = (df_anneal.loc[0.499] + df_anneal.loc[0.501]) / 2\n",
    "df_anneal.sort_index(inplace=True)"
   ]
  },
  {
   "cell_type": "code",
   "execution_count": 15,
   "id": "d44d0b37-73a5-4696-a1ce-440e4a566a22",
   "metadata": {
    "tags": []
   },
   "outputs": [
    {
     "name": "stdout",
     "output_type": "stream",
     "text": [
      "0.00022203733984848157\n"
     ]
    },
    {
     "data": {
      "text/plain": [
       "<Figure size 2400x1800 with 2 Axes>"
      ]
     },
     "metadata": {
      "needs_background": "light"
     },
     "output_type": "display_data"
    },
    {
     "name": "stdout",
     "output_type": "stream",
     "text": [
      "time: 721 ms (started: 2022-02-24 12:18:41 +01:00)\n"
     ]
    }
   ],
   "source": [
    "embedding_id = 5\n",
    "s_pause = 0.55\n",
    "run_name = [x for x in run_names if f\"s_pause={s_pause}\" in x][0]\n",
    "\n",
    "plot_dir_heatmap = project_dir / f\"results/plots/qbm/8x4\"\n",
    "if not plot_dir_heatmap.exists():\n",
    "    plot_dir_heatmap.mkdir(parents=True)\n",
    "\n",
    "dkl = dkls_embeddings[embedding_id][run_name][\"means\"].copy()\n",
    "dkl.index = pd.MultiIndex.from_tuples(dkl.index)\n",
    "dkl = dkl.unstack(level=-1)\n",
    "\n",
    "run_info = run_infos[run_name]\n",
    "t_pause = run_info[\"t_pause\"]\n",
    "s_pause = run_info[\"s_pause\"]\n",
    "pause_duration = run_info[\"pause_duration\"]\n",
    "\u03b1_quench = run_info[\"quench_slope\"]\n",
    "title = fr\"Embedding {embedding_id}, $t_{{pause}} = {t_pause:.1f}$ \u03bcs, $s_{{pause}} = {s_pause}$, $\\Delta_{{pause}} = {pause_duration:.0f}$ \u03bcs, $\\alpha_{{quench}} = {\u03b1_quench:.0f}$, $h_i, J_{{ij}} \\sim \\mathcal{{N}}(0, 0.1)$\"\n",
    "\n",
    "cbar_kws = {\"label\": r\"$D_{KL}(p_{exact} \\ || \\ p_{sample})$\"}\n",
    "cmap = sns.color_palette(\"rocket_r\", as_cmap=True)\n",
    "s_values = dkl.columns.to_numpy()\n",
    "T_values = dkl.index.to_numpy()\n",
    "xticks = np.arange(len(s_values))[::10]\n",
    "xticklabels = s_values[::10]\n",
    "yticks = np.arange(len(T_values))[::10]\n",
    "yticklabels = T_values[::10]\n",
    "\n",
    "fig, ax = plt.subplots(figsize=(8, 6), dpi=300)\n",
    "\n",
    "sns.heatmap(dkl, ax=ax, cmap=cmap, vmin=0, vmax=0.2, cbar_kws=cbar_kws)\n",
    "# ax.set_title(title)\n",
    "ax.invert_yaxis()\n",
    "ax.set_xlabel(r\"$s$\")\n",
    "ax.set_ylabel(r\"$T$ [mK]\")\n",
    "ax.set_xticks(xticks + 0.5)\n",
    "ax.set_xticklabels(xticklabels, rotation=0)\n",
    "ax.set_yticks(yticks + 0.5)\n",
    "ax.set_yticklabels(yticklabels, rotation=0)\n",
    "\n",
    "# plot D-Wave temp\n",
    "T_DW = 16.4 / 2\n",
    "ax.axhline(T_DW, c=\"w\", label=r\"$T_{DW} = 16.4 \\pm 0.1$ mK\")\n",
    "\n",
    "# plot constant \u03b2B(s)\n",
    "s_mins = np.round(np.arange(50, 101, 1) / 100, 2)\n",
    "T_mins = []\n",
    "B_mins = []\n",
    "\u03b2B_mins = []\n",
    "dkl_mins = []\n",
    "for s in s_mins:\n",
    "    i = np.argmin(dkl.loc[:, s])\n",
    "    T_mins.append(dkl.index[i] / 1000)\n",
    "    dkl_mins.append(dkl.loc[round(T_mins[-1] * 1000), s])\n",
    "    B_mins.append(df_anneal.loc[s, \"B(s) (GHz)\"])\n",
    "    \u03b2B_mins.append(B_mins[-1] / k_B / T_mins[-1])\n",
    "T_mins = 1 / k_B / np.mean(\u03b2B_mins) * np.array(B_mins) * 1000\n",
    "print(np.std(dkl_mins))\n",
    "ax.plot(\n",
    "    s_mins * 100,\n",
    "    T_mins / 2,\n",
    "    linestyle=\"--\",\n",
    "    color=\"k\",\n",
    "    label=fr\"$B(s) / T = {np.mean(\u03b2B_mins) * k_B:.1f}}}$\",\n",
    ")\n",
    "\n",
    "ax.legend()\n",
    "plt.tight_layout()\n",
    "plt.savefig(plot_dir_heatmap / f\"dkl_min_heatmap.png\")"
   ]
  },
  {
   "cell_type": "code",
   "execution_count": null,
   "id": "10216c1f-a670-4099-9cbd-94f1ad75f54b",
   "metadata": {},
   "outputs": [],
   "source": []
  }
 ],
 "metadata": {
  "kernelspec": {
   "display_name": "Python 3 (ipykernel)",
   "language": "python",
   "name": "python3"
  },
  "language_info": {
   "codemirror_mode": {
    "name": "ipython",
    "version": 3
   },
   "file_extension": ".py",
   "mimetype": "text/x-python",
   "name": "python",
   "nbconvert_exporter": "python",
   "pygments_lexer": "ipython3",
   "version": "3.9.7"
  }
 },
 "nbformat": 4,
 "nbformat_minor": 5
}